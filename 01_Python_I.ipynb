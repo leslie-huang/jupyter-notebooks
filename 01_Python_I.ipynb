{
 "cells": [
  {
   "cell_type": "raw",
   "metadata": {},
   "source": [
    "# DS-GA-1007 Programming for Data Science"
   ]
  },
  {
   "cell_type": "markdown",
   "metadata": {
    "nbgrader": {
     "grade": false,
     "solution": false
    }
   },
   "source": [
    "Before you turn this problem in, make sure everything runs as expected. First, **restart the kernel** (in the menubar, select Kernel$\\rightarrow$Restart) and then **run all cells** (in the menubar, select Cell$\\rightarrow$Run All).\n",
    "\n",
    "Any *textual answers* that need to be provided will be marked with \"YOUR ANSWER HERE\". Replace this text with your answer to the question.\n",
    "\n",
    "Any *code answers* that need to be provided will be marked with:\n",
    "\n",
    "```\n",
    "# YOUR CODE HERE\n",
    "raise NotImplementedError()\n",
    "```\n",
    "\n",
    "Replace all this code with your answer to the question. If you do not answer the question, the `NotImplementedError` exception will be raised, which will indicate to the grader that no answer has been supplied.\n",
    "\n",
    "In many cases, code answers will also have some associated test code. You should execute the tests after you have entered your code in order to ensure that your answer is correct. You should not proceed to the next question until your answer is correct.\n",
    "\n",
    "Finally, insert your Net ID and the Net ID's of any collaborators in the cell below."
   ]
  },
  {
   "cell_type": "code",
   "execution_count": 1,
   "metadata": {
    "collapsed": false,
    "nbgrader": {
     "grade": false,
     "solution": false
    }
   },
   "outputs": [],
   "source": [
    "NET_ID = \"LH1036\"\n",
    "COLLABORATORS = \"\""
   ]
  },
  {
   "cell_type": "markdown",
   "metadata": {
    "nbgrader": {
     "grade": false,
     "solution": false
    }
   },
   "source": [
    "---"
   ]
  },
  {
   "cell_type": "markdown",
   "metadata": {
    "nbgrader": {
     "grade": false,
     "locked": false,
     "solution": false
    },
    "slideshow": {
     "slide_type": "-"
    }
   },
   "source": [
    "# Assignment 1"
   ]
  },
  {
   "cell_type": "markdown",
   "metadata": {},
   "source": [
    "## 1. Function return value\n",
    "\n",
    "This exercise is to show you how function return values work. Run the code below to see what happens."
   ]
  },
  {
   "cell_type": "code",
   "execution_count": 2,
   "metadata": {
    "collapsed": false,
    "deletable": false,
    "nbgrader": {
     "checksum": "fe61c21942a12f8e5e01c2f46bd6ac41",
     "grade": false,
     "grade_id": "Q1A",
     "locked": true,
     "solution": false
    }
   },
   "outputs": [
    {
     "name": "stdout",
     "output_type": "stream",
     "text": [
      "5\n"
     ]
    },
    {
     "data": {
      "text/plain": [
       "5"
      ]
     },
     "execution_count": 2,
     "metadata": {},
     "output_type": "execute_result"
    }
   ],
   "source": [
    "def f1(x):\n",
    "    print(x + 1)\n",
    "\n",
    "def f2(x):\n",
    "    return(x + 1)\n",
    "\n",
    "f1(4)\n",
    "f2(4)"
   ]
  },
  {
   "cell_type": "markdown",
   "metadata": {},
   "source": [
    "Each function should produce the same output. Now run the following code."
   ]
  },
  {
   "cell_type": "code",
   "execution_count": 3,
   "metadata": {
    "collapsed": false
   },
   "outputs": [
    {
     "name": "stdout",
     "output_type": "stream",
     "text": [
      "5\n"
     ]
    },
    {
     "ename": "TypeError",
     "evalue": "unsupported operand type(s) for +: 'NoneType' and 'int'",
     "output_type": "error",
     "traceback": [
      "\u001b[0;31m---------------------------------------------------------------------------\u001b[0m",
      "\u001b[0;31mTypeError\u001b[0m                                 Traceback (most recent call last)",
      "\u001b[0;32m<ipython-input-3-02362f8b3abb>\u001b[0m in \u001b[0;36m<module>\u001b[0;34m()\u001b[0m\n\u001b[0;32m----> 1\u001b[0;31m \u001b[0mf1\u001b[0m\u001b[0;34m(\u001b[0m\u001b[0;36m4\u001b[0m\u001b[0;34m)\u001b[0m \u001b[0;34m+\u001b[0m \u001b[0;36m1\u001b[0m\u001b[0;34m\u001b[0m\u001b[0m\n\u001b[0m\u001b[1;32m      2\u001b[0m \u001b[0mf2\u001b[0m\u001b[0;34m(\u001b[0m\u001b[0;36m4\u001b[0m\u001b[0;34m)\u001b[0m \u001b[0;34m+\u001b[0m \u001b[0;36m1\u001b[0m\u001b[0;34m\u001b[0m\u001b[0m\n",
      "\u001b[0;31mTypeError\u001b[0m: unsupported operand type(s) for +: 'NoneType' and 'int'"
     ]
    }
   ],
   "source": [
    "f1(4) + 1\n",
    "f2(4) + 1"
   ]
  },
  {
   "cell_type": "markdown",
   "metadata": {},
   "source": [
    "Explain what is happening and why you get this result."
   ]
  },
  {
   "cell_type": "markdown",
   "metadata": {
    "collapsed": false,
    "deletable": false,
    "nbgrader": {
     "checksum": "4e91763da515c037b7d67396dff1d4dc",
     "grade": true,
     "grade_id": "Q1B",
     "locked": false,
     "points": 1,
     "solution": true
    }
   },
   "source": [
    "f1 runs properly because it returns a value (4) that is an int. Addition of two integers is supported.\n",
    "f2 throws a Type Error because it returns a None, and None and int \"1\" cannot be added/concatenated with \"+\"."
   ]
  },
  {
   "cell_type": "markdown",
   "metadata": {},
   "source": [
    "## 2. Function operation"
   ]
  },
  {
   "cell_type": "markdown",
   "metadata": {},
   "source": [
    "Consider the following piece of code:\n",
    "\n",
    "```python\n",
    "def f(x):\n",
    "    if x == 0 or x == 1:\n",
    "        return x\n",
    "    return f(x - 1) + f(x - 2)\n",
    "```"
   ]
  },
  {
   "cell_type": "markdown",
   "metadata": {},
   "source": [
    "Describe, in words, what this code does, and how it does it."
   ]
  },
  {
   "cell_type": "markdown",
   "metadata": {
    "deletable": false,
    "nbgrader": {
     "checksum": "f9ccb48228041113e03a2048c16a02a8",
     "grade": true,
     "grade_id": "Q2A",
     "locked": false,
     "points": 1,
     "solution": true
    }
   },
   "source": [
    "The function takes one argument (takes the place of parameter x). If the argument is equal to 0 or 1, the function returns the argument (i.e. 0 or 1). If the function is passed an argument that is an int or a floating point number in the form x.0 (e.g. 2.0, 2.00, 2.000) that is not equal to 0 or 1, the function is called with the argument minus 1 and the argument minus 2, and the sum is returned. This is repeated recursively for numbers > 2 until the recursion \"stops\" at 0 or 1.  E.g. f(3) returns f(2) + f(1); f(2) calls the function and returns f(1) + f(0), and f(1) returns 1. f(4) returns f(3) + f(2), where f(3) and f(2) return the values as just described."
   ]
  },
  {
   "cell_type": "markdown",
   "metadata": {},
   "source": [
    "For what inputs will this function not behave as expected? What will happen?"
   ]
  },
  {
   "cell_type": "markdown",
   "metadata": {
    "deletable": false,
    "nbgrader": {
     "checksum": "870e7f2d11b96503fbe2e083db0a2c86",
     "grade": true,
     "grade_id": "Q2B",
     "locked": false,
     "points": 1,
     "solution": true
    }
   },
   "source": [
    "The function does not behave as expected with inputs that are not integers or floating point numbers in the form x.0 (e.g. 1.0). If the input is a String or a list the function will throw a Type Error because these data types cannot accept the math operator for subtraction \"-\". If the input is a floating point number not in the form x.0 (e.g. \"1.2\" as opposed to \"1.0\") or a negative integer (e.g. -1), the function throws a Recursion Error because it can never \"stop\" at 0 or 1. If the function is passed too many arguments (even if they are ints), a Type Error is thrown. "
   ]
  },
  {
   "cell_type": "markdown",
   "metadata": {
    "slideshow": {
     "slide_type": "-"
    }
   },
   "source": [
    "## 3. Defining a function\n",
    "\n",
    "The following program plays the game of \"Rock, Paper, and Scissors\". Familiarize yourself with how it works. Try running the program."
   ]
  },
  {
   "cell_type": "code",
   "execution_count": null,
   "metadata": {
    "collapsed": false,
    "deletable": false,
    "nbgrader": {
     "checksum": "62e84033850aa1b929663564d6561ceb",
     "grade": false,
     "grade_id": "Q3A",
     "locked": true,
     "solution": false
    },
    "slideshow": {
     "slide_type": "-"
    }
   },
   "outputs": [],
   "source": [
    "from random import randint\n",
    "valid_input = [\"R\", \"P\", \"S\"]\n",
    "winners = [[\"R\", \"S\"], [\"S\", \"P\"], [\"P\", \"R\"]]\n",
    "\n",
    "print(\"You are playing a Rock, Paper, Scissors simulation.\")\n",
    "user_choice = input(\"Select R for rock, P for Paper, S for scissors, Q to quit\\n> \")\n",
    "user_choice = user_choice.upper()\n",
    "\n",
    "while user_choice != 'Q':\n",
    "    if user_choice not in valid_input:\n",
    "        print(\"Error: invalid input -- \" + user_input)\n",
    "        break\n",
    "    \n",
    "    computer_choice = valid_input[randint(0, len(valid_input)-1)]\n",
    "    print(\"Computer chooses \" + computer_choice)\n",
    "\n",
    "    if user_choice == computer_choice:\n",
    "        print(\"Tie Game\")\n",
    "    elif [user_choice, computer_choice] in winners:\n",
    "        print(\"You win!\")\n",
    "    else:\n",
    "        print(\"Computer wins!\")\n",
    "    \n",
    "    user_choice = input(\"Select R for rock, P for Paper, S for scissors, Q to quit\\n> \")\n",
    "    user_choice = user_choice.upper()"
   ]
  },
  {
   "cell_type": "markdown",
   "metadata": {
    "slideshow": {
     "slide_type": "-"
    }
   },
   "source": [
    "Recall how we define a function using `def`, and how we pass in parameters. Transform the code into a function called `rps` that takes two parameters: `user_choice` and `computer_choice`, with valid inputs `'R'`, `'P'`, and `'S'`. Your function should return `'D'` for a draw, `'W'` if `user_choice` wins, and `'L'` if `user_choice` loses."
   ]
  },
  {
   "cell_type": "code",
   "execution_count": null,
   "metadata": {
    "collapsed": false,
    "deletable": false,
    "nbgrader": {
     "checksum": "e20ea7f2253790b83d75eb81a09295e6",
     "grade": false,
     "grade_id": "Q3B",
     "locked": false,
     "solution": true
    },
    "scrolled": true
   },
   "outputs": [
    {
     "name": "stdout",
     "output_type": "stream",
     "text": [
      "You are playing a Rock, Paper, Scissors simulation.\n",
      "Select R for rock, P for Paper, S for scissors, Q to quit\n",
      "> r\n",
      "Computer chooses S\n",
      "You win!\n",
      "Select R for rock, P for Paper, S for scissors, Q to quit\n",
      "> p\n",
      "Computer chooses S\n",
      "Computer wins!\n",
      "Select R for rock, P for Paper, S for scissors, Q to quit\n",
      "> s\n",
      "Computer chooses R\n",
      "Computer wins!\n",
      "Select R for rock, P for Paper, S for scissors, Q to quit\n",
      "> s\n",
      "Computer chooses R\n",
      "Computer wins!\n",
      "Select R for rock, P for Paper, S for scissors, Q to quit\n",
      "> s\n",
      "Computer chooses S\n",
      "Tie Game\n"
     ]
    }
   ],
   "source": [
    "from random import randint\n",
    "valid_input = [\"R\", \"P\", \"S\"]\n",
    "winners = [[\"R\", \"S\"], [\"S\", \"P\"], [\"P\", \"R\"]]\n",
    "draws = [[\"R\", \"R\"], [\"S\", \"S\"], [\"P\", \"P\"]]\n",
    "\n",
    "def rps(user_input, computer_input):\n",
    "    ''' function that return D, W, or L '''\n",
    "    if [user_input, computer_input] in draws:\n",
    "        return \"D\"\n",
    "    elif [user_input, computer_input] in winners:\n",
    "        return \"W\"\n",
    "    else:\n",
    "        return \"L\"\n",
    "\n",
    "print(\"You are playing a Rock, Paper, Scissors simulation.\")\n",
    "user_choice = input(\"Select R for rock, P for Paper, S for scissors, Q to quit\\n> \")\n",
    "user_choice = user_choice.upper()\n",
    "\n",
    "while user_choice != 'Q':\n",
    "    if user_choice not in valid_input:\n",
    "        print(\"Error: invalid input -- \" + user_choice)\n",
    "        break\n",
    "    \n",
    "    computer_choice = valid_input[randint(0, len(valid_input)-1)]\n",
    "    print(\"Computer chooses \" + computer_choice)\n",
    "    \n",
    "    result = rps(user_choice, computer_choice)\n",
    "    if result == 'D':\n",
    "        print(\"Tie Game\")\n",
    "    elif result == 'W':\n",
    "        print(\"You win!\")\n",
    "    else:\n",
    "        print(\"Computer wins!\")\n",
    "    \n",
    "    user_choice = input(\"Select R for rock, P for Paper, S for scissors, Q to quit\\n> \")\n",
    "    user_choice = user_choice.upper()"
   ]
  },
  {
   "cell_type": "raw",
   "metadata": {
    "collapsed": false,
    "deletable": false,
    "nbgrader": {
     "checksum": "f709fe67e714d481d6f2b8b16728b67d",
     "grade": true,
     "grade_id": "Q3C",
     "locked": true,
     "points": 1,
     "solution": false
    }
   },
   "source": [
    "from nose.tools import assert_equal\n",
    "assert_equal(rps('R', 'R'), 'D')\n",
    "assert_equal(rps('R', 'P'), 'L')\n",
    "assert_equal(rps('R', 'S'), 'W')\n",
    "assert_equal(rps('P', 'R'), 'W')\n",
    "assert_equal(rps('P', 'P'), 'D')\n",
    "assert_equal(rps('P', 'S'), 'L')\n",
    "assert_equal(rps('S', 'R'), 'L')\n",
    "assert_equal(rps('S', 'P'), 'W')\n",
    "assert_equal(rps('S', 'S'), 'D')\n"
   ]
  },
  {
   "cell_type": "markdown",
   "metadata": {},
   "source": [
    "## 4. List function"
   ]
  },
  {
   "cell_type": "markdown",
   "metadata": {},
   "source": [
    "Given a list of non-empty tuples, return a list sorted in increasing order by the last element in each tuple. \n",
    "\n",
    "For example: `[(1, 7), (1, 3), (3, 4, 5), (2, 2)]` yields `[(2, 2), (1, 3), (3, 4, 5), (1, 7)]`"
   ]
  },
  {
   "cell_type": "code",
   "execution_count": null,
   "metadata": {
    "collapsed": false,
    "deletable": false,
    "nbgrader": {
     "checksum": "73b406355a6c94ea3070dec549d411c8",
     "grade": false,
     "grade_id": "Q4A",
     "locked": false,
     "solution": true
    }
   },
   "outputs": [],
   "source": [
    "def sort_tuple_list(tuple_list):\n",
    "    '''Function to sort a list of non-empty tuples in increasing order by the last element in each tuple'''\n",
    "    \n",
    "    if isinstance(tuple_list, list) and len(tuple_list) > 0:     # check that list is nonempty\n",
    "        sorted_tuple = sorted(tuple_list, key = lambda tuple_list: tuple_list[-1]) # key = last element of each tuple\n",
    "        return sorted_tuple\n",
    "    \n",
    "    else: # print warning if list is empty\n",
    "        print(\"You did not give me a nonempty list!\")"
   ]
  },
  {
   "cell_type": "code",
   "execution_count": null,
   "metadata": {
    "collapsed": false,
    "deletable": false,
    "nbgrader": {
     "checksum": "133c59f3420f611674be67592873ca53",
     "grade": true,
     "grade_id": "Q4B",
     "locked": true,
     "points": 1,
     "solution": false
    }
   },
   "outputs": [],
   "source": [
    "from nose.tools import assert_equal\n",
    "assert_equal(sort_tuple_list([(1, 3), (3, 2), (2, 1)]), [(2, 1), (3, 2), (1, 3)])\n",
    "assert_equal(sort_tuple_list([(2, 3), (1, 2), (3, 1)]), [(3, 1), (1, 2), (2, 3)])\n",
    "assert_equal(sort_tuple_list([(1, 7), (1, 3), (3, 4, 5), (2, 2)]), [(2, 2), (1, 3), (3, 4, 5), (1, 7)])"
   ]
  },
  {
   "cell_type": "markdown",
   "metadata": {},
   "source": [
    "# 5. List sort"
   ]
  },
  {
   "cell_type": "markdown",
   "metadata": {},
   "source": [
    "Given two lists sorted in increasing order, create and return a merged list of all the elements in sorted order. You may modify the passed in lists. Ideally, the solution should work in \"linear\" time, making a single pass of both lists."
   ]
  },
  {
   "cell_type": "code",
   "execution_count": null,
   "metadata": {
    "collapsed": false,
    "deletable": false,
    "nbgrader": {
     "checksum": "9d62bbe8297baad95e968f2a1f9657d2",
     "grade": false,
     "grade_id": "Q5A",
     "locked": false,
     "solution": true
    }
   },
   "outputs": [],
   "source": [
    "def linear_merge(list1, list2):\n",
    "    '''Given two lists sorted in increasing order, create and \n",
    "       return a merged list of all the elements in sorted order\n",
    "    '''\n",
    "    concat_lists = list1 + list2 # merge lists into a new list\n",
    "    return sorted(concat_lists) # return sorted list"
   ]
  },
  {
   "cell_type": "code",
   "execution_count": null,
   "metadata": {
    "collapsed": true,
    "deletable": false,
    "nbgrader": {
     "checksum": "b664ccc9fdd0d33871d6db8894f96880",
     "grade": true,
     "grade_id": "Q5B",
     "locked": true,
     "points": 1,
     "solution": false
    }
   },
   "outputs": [],
   "source": [
    "from nose.tools import assert_equal\n",
    "assert_equal(linear_merge(['aa', 'xx', 'zz'], ['bb', 'cc']), ['aa', 'bb', 'cc', 'xx', 'zz'])\n",
    "assert_equal(linear_merge(['aa', 'xx'], ['bb', 'cc', 'zz']), ['aa', 'bb', 'cc', 'xx', 'zz'])\n",
    "assert_equal(linear_merge(['aa', 'aa'], ['aa', 'bb', 'bb']), ['aa', 'aa', 'aa', 'bb', 'bb'])"
   ]
  },
  {
   "cell_type": "markdown",
   "metadata": {},
   "source": [
    "# 6. Built-in Operator"
   ]
  },
  {
   "cell_type": "markdown",
   "metadata": {},
   "source": [
    "Imagine that Python doesn’t have the `!=` operator built in. Write a function that takes two parameters and gives the same result as the `!=` operator. Obviously, you cannot use `!=` within your function! Test if your code works by thinking of examples and making sure the output is the same for your new method as `!=` gives you."
   ]
  },
  {
   "cell_type": "code",
   "execution_count": null,
   "metadata": {
    "collapsed": false,
    "deletable": false,
    "nbgrader": {
     "checksum": "9cda0f936e1b63b74473c587ef49f825",
     "grade": false,
     "grade_id": "Q6A",
     "locked": false,
     "solution": true
    }
   },
   "outputs": [],
   "source": [
    "def not_equal(val1, val2):\n",
    "    ''' User supplied version of the != operator, implemeted without using !='''\n",
    "    return not (val1 == val2)"
   ]
  },
  {
   "cell_type": "code",
   "execution_count": null,
   "metadata": {
    "collapsed": false,
    "deletable": false,
    "nbgrader": {
     "checksum": "d69d08edebfdb1dbf379d19e67e2a594",
     "grade": true,
     "grade_id": "Q6B",
     "locked": true,
     "points": 1,
     "solution": false
    }
   },
   "outputs": [],
   "source": [
    "from nose.tools import assert_true, assert_false\n",
    "assert_true(not_equal(2,3))\n",
    "assert_false(not_equal(3,3))\n",
    "assert_true(not_equal('3',3))\n",
    "assert_true(not_equal((1,2),[1,2]))\n",
    "assert_false(not_equal((3,4),(3,4)))"
   ]
  },
  {
   "cell_type": "markdown",
   "metadata": {},
   "source": [
    "## 7. Quadratic Formula"
   ]
  },
  {
   "cell_type": "markdown",
   "metadata": {},
   "source": [
    "A quadratic equation is a second order polynomial with three coefficients a, b, and c. It is given by:\n",
    "\n",
    "$$ax^2 + bx + c = 0$$\n",
    "\n",
    "The solutions to the equation are given by the formulas:\n",
    "\n",
    "$$x_1 = \\frac{-b + \\sqrt{b^2 - 4ac}}{2a}$$\n",
    "\n",
    "and\n",
    "\n",
    "$$x_2 = \\frac{-b - \\sqrt{b^2 - 4ac}}{2a}$$\n",
    "\n"
   ]
  },
  {
   "cell_type": "markdown",
   "metadata": {},
   "source": [
    "Write a function that computes the roots of a quadratic equation and returns them as a tuple. Your function should take three parameters, a, b, and c. Note that if\n",
    "\n",
    "$$b^2 - 4ac < 0$$ \n",
    "\n",
    "then the roots will be complex. Hint: remember that Python has a built-in complex data type."
   ]
  },
  {
   "cell_type": "code",
   "execution_count": null,
   "metadata": {
    "collapsed": false,
    "deletable": false,
    "nbgrader": {
     "checksum": "d35e849a642c9a3f570f3fb13ecc0fac",
     "grade": false,
     "grade_id": "Q7A",
     "locked": false,
     "solution": true
    }
   },
   "outputs": [],
   "source": [
    "from math import sqrt\n",
    "\n",
    "def roots(a, b, c):\n",
    "    ''' Computes the roots of the quadratic equation with coefficients a, b, c, and returns\n",
    "        them as the tuple (x1, x2)\n",
    "    '''\n",
    "    \n",
    "    discriminant = (b*b) - (4*a*c) # check whether roots are real or imaginary\n",
    "    \n",
    "    if a != 0:\n",
    "\n",
    "        if discriminant >= 0: # case 1: 2 real roots\n",
    "            sqrt_dis = sqrt(discriminant)\n",
    "\n",
    "            x1 = (-b + sqrt_dis)/(2*a)\n",
    "            x2 = (-b - sqrt_dis)/(2*a)\n",
    "            return (x1, x2)\n",
    "\n",
    "        elif discriminant < 0: # case 2: 2 imaginary roots\n",
    "            imaginary_dis = (sqrt(-1 * discriminant)) * 1j\n",
    "\n",
    "            x1 = (-b + imaginary_dis)/(2*a)\n",
    "            x2 = (-b - imaginary_dis)/(2*a)\n",
    "            return (x1, x2)\n",
    "    \n",
    "    else:\n",
    "        return (0j, 0j)"
   ]
  },
  {
   "cell_type": "code",
   "execution_count": null,
   "metadata": {
    "collapsed": false,
    "deletable": false,
    "nbgrader": {
     "checksum": "dcfc5ddb56bc26a5e76b2d555f745daa",
     "grade": true,
     "grade_id": "Q7B",
     "locked": true,
     "points": 2,
     "solution": false
    }
   },
   "outputs": [],
   "source": [
    "from nose.tools import assert_equal\n",
    "assert_equal(roots(1,2,3), ((-1+1.4142135623730951j), (-1-1.4142135623730951j)))\n",
    "assert_equal(roots(0,0,4), (0j, 0j))\n",
    "assert_equal(roots(-4,3,2), (-0.42539052967910607, 1.175390529679106))"
   ]
  },
  {
   "cell_type": "markdown",
   "metadata": {},
   "source": [
    "## 8. The Game of Nims"
   ]
  },
  {
   "cell_type": "markdown",
   "metadata": {
    "collapsed": true,
    "nbgrader": {
     "grade": false,
     "locked": false,
     "points": 1,
     "solution": false
    }
   },
   "source": [
    "In this game, two players sit in front of a pile of 100 stones. They take turns, each removing between 1 and 5 stones (assuming there are at least 5 stones left in the pile). The person who removes the last stone(s) wins.\n",
    "\n",
    "In this problem, you’ll write a function to play this game. It may seem tricky, so break it down into parts. Like many programs, we have to use nested loops (one loop inside another). In the outermost loop, we want to keep playing until we are out of stones. Inside that, we want to keep alternating players. You have the option of either writing two blocks of code, or keeping a variable that tracks the current player.\n",
    "\n",
    "We are going to use the `input` function to obtain the user's move. We might want to have an innermost loop that checks if the user’s input is valid. Is it a number? Is it a valid number (e.g. between 1 and 5)? Are there enough stones in the pile to take off this many? If any of these answers are no, we should tell the user and re-ask them the question.\n",
    "\n",
    "If you choose to write two blocks of code, the basic outline of the program should be something like this:\n",
    "\n",
    "    while [pile is not empty]:\n",
    "       while [player 1’s answer is not valid]:\n",
    "          [ask player 1]\n",
    "       [execute player 1’s move]\n",
    "       [same as above for player 2]\n",
    "       \n",
    "Be careful with the validity checks. Specifically, we want to keep asking player 1 for their choice as long as their answer is not valid, BUT we want to make sure we ask them at least ONCE. So, for example, we will want to keep a variable that tracks whether their answer is valid, and set it to `False` initially.\n",
    "\n",
    "There is no need to limit yourself to only one function! Use as many functions as you want in order to make the code more readable and modular.\n",
    "\n",
    "When you're finished, test each other's programs by playing them!"
   ]
  },
  {
   "cell_type": "code",
   "execution_count": null,
   "metadata": {
    "collapsed": true,
    "deletable": false,
    "nbgrader": {
     "checksum": "fd0b8211a0022b071a392024fdc2fd2c",
     "grade": true,
     "grade_id": "Q8A",
     "locked": false,
     "points": 4,
     "solution": true
    }
   },
   "outputs": [],
   "source": [
    "def is_valid(player_input, pile, max_stones):\n",
    "    '''\n",
    "    function to check whether input is valid. Will be called by player_input. Returns a boolean.\n",
    "    '''\n",
    "    return player_input <= max_stones and player_input >= 1 and player_input <= pile\n",
    "\n",
    "def player_input(player_num, pile, max_stones):\n",
    "    '''\n",
    "    function that prompts user, calls is_valid, then returns the number of stones the player wants to remove\n",
    "    '''\n",
    "    stones = int(input(\"Player \" + str(player_num) + \": You can remove up to \" + str(max_stones) + \" stones if available. How many?\"))\n",
    "    while not is_valid(stones, pile, max_stones):\n",
    "        stones = int(input(\"Player \" + str(player_num) + \": You can remove up to \" + str(max_stones) + \" stones if available. How many?\"))\n",
    "    return stones\n",
    "\n",
    "def play_nims(pile, max_stones):\n",
    "    '''\n",
    "    An interactive two-person game; also known as Stones.\n",
    "    @param pile: the number of stones in the pile to start\n",
    "    @param max_stones: the maximum number of stones you can take in one turn\n",
    "    Calls the function player_input\n",
    "    '''\n",
    "\n",
    "    while pile > 0:\n",
    "\n",
    "        player1_stones = player_input(1, pile, max_stones)\n",
    "        \n",
    "        pile = pile - player1_stones\n",
    "\n",
    "        if pile == 0:\n",
    "            print(\"Player 1 wins\")\n",
    "            break\n",
    "\n",
    "        else:\n",
    "            player2_stones = player_input(2, pile, max_stones)\n",
    "            \n",
    "            pile = pile - player2_stones\n",
    "            \n",
    "            if pile == 0:\n",
    "                print(\"Player 2 wins\")\n",
    "                break\n",
    "\n",
    "    print(\"Game over\")"
   ]
  }
 ],
 "metadata": {
  "anaconda-cloud": {},
  "kernelspec": {
   "display_name": "Python [Root]",
   "language": "python",
   "name": "Python [Root]"
  },
  "language_info": {
   "codemirror_mode": {
    "name": "ipython",
    "version": 3
   },
   "file_extension": ".py",
   "mimetype": "text/x-python",
   "name": "python",
   "nbconvert_exporter": "python",
   "pygments_lexer": "ipython3",
   "version": "3.5.2"
  }
 },
 "nbformat": 4,
 "nbformat_minor": 0
}
