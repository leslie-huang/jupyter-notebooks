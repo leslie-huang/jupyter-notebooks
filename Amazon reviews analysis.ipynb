{
 "cells": [
  {
   "cell_type": "code",
   "execution_count": 144,
   "metadata": {
    "collapsed": true
   },
   "outputs": [],
   "source": [
    "# Leslie Huang\n",
    "\n",
    "from datetime import datetime\n",
    "import json\n",
    "import math\n",
    "import matplotlib.pyplot as plt\n",
    "import multiprocessing as mp\n",
    "import nltk\n",
    "from nltk.stem.snowball import SnowballStemmer\n",
    "import numpy as np\n",
    "from odo import odo, discover, resource\n",
    "import pandas as pd\n",
    "from sklearn import linear_model\n",
    "from sklearn.naive_bayes import MultinomialNB\n",
    "import statsmodels.formula.api as sm\n",
    "from statsmodels.iolib.summary2 import summary_col\n",
    "from sklearn.feature_extraction.text import CountVectorizer\n",
    "from sklearn.feature_extraction.text import TfidfTransformer\n",
    "from sklearn.pipeline import Pipeline\n",
    "import time\n",
    "\n",
    "%matplotlib inline"
   ]
  },
  {
   "cell_type": "code",
   "execution_count": 2,
   "metadata": {
    "collapsed": false
   },
   "outputs": [],
   "source": [
    "data = odo(\"mongodb://localhost/my_mongo::reviews\", \n",
    "            pd.DataFrame, dshape = \"var * {unixReviewTime: int32, reviewText: string, summary: string, overall: float32, asin: string, reviewerID: string}\")\n"
   ]
  },
  {
   "cell_type": "code",
   "execution_count": 10,
   "metadata": {
    "collapsed": true
   },
   "outputs": [],
   "source": [
    "# Convert to correct datetime format\n",
    "data[\"date\"] = pd.to_datetime(data[\"unixReviewTime\"], unit = \"s\")"
   ]
  },
  {
   "cell_type": "code",
   "execution_count": 81,
   "metadata": {
    "collapsed": false
   },
   "outputs": [
    {
     "name": "stderr",
     "output_type": "stream",
     "text": [
      "/Users/lesliehuang/anaconda/lib/python3.5/site-packages/ipykernel/__main__.py:3: UserWarning: This pattern has match groups. To actually get the groups, use str.extract.\n",
      "  app.launch_new_instance()\n"
     ]
    }
   ],
   "source": [
    "# Create a dummy for incentivized reviews\n",
    "\n",
    "data[\"isIncentivized\"] = pd.Series(data.reviewText.str.contains(r\"( in exchange for my unbiased | in exchange for my honest | free or at a discount | free or discounted | Disclosure: | Disclaimer: | disclosure: | I received this product for free )\"))"
   ]
  },
  {
   "cell_type": "code",
   "execution_count": 82,
   "metadata": {
    "collapsed": false
   },
   "outputs": [
    {
     "data": {
      "text/plain": [
       "False    11183883\n",
       "True         1486\n",
       "Name: isIncentivized, dtype: int64"
      ]
     },
     "execution_count": 82,
     "metadata": {},
     "output_type": "execute_result"
    }
   ],
   "source": [
    "data[\"isIncentivized\"].value_counts()"
   ]
  },
  {
   "cell_type": "code",
   "execution_count": 29,
   "metadata": {
    "collapsed": false
   },
   "outputs": [
    {
     "name": "stdout",
     "output_type": "stream",
     "text": [
      "unixReviewTime             int32\n",
      "reviewText                object\n",
      "summary                   object\n",
      "overall                  float32\n",
      "asin                      object\n",
      "reviewerID                object\n",
      "isIncentivized              bool\n",
      "date              datetime64[ns]\n",
      "dtype: object\n"
     ]
    }
   ],
   "source": [
    "print(data.dtypes)"
   ]
  },
  {
   "cell_type": "code",
   "execution_count": 83,
   "metadata": {
    "collapsed": false
   },
   "outputs": [
    {
     "data": {
      "text/html": [
       "<div>\n",
       "<table border=\"1\" class=\"dataframe\">\n",
       "  <thead>\n",
       "    <tr style=\"text-align: right;\">\n",
       "      <th></th>\n",
       "      <th>unixReviewTime</th>\n",
       "      <th>reviewText</th>\n",
       "      <th>summary</th>\n",
       "      <th>overall</th>\n",
       "      <th>asin</th>\n",
       "      <th>reviewerID</th>\n",
       "      <th>isIncentivized</th>\n",
       "      <th>date</th>\n",
       "    </tr>\n",
       "  </thead>\n",
       "  <tbody>\n",
       "    <tr>\n",
       "      <th>0</th>\n",
       "      <td>1349308800</td>\n",
       "      <td>Have you ever thought about how you met your b...</td>\n",
       "      <td>Lovely</td>\n",
       "      <td>4.0</td>\n",
       "      <td>0076144011</td>\n",
       "      <td>A210NOCSTBT4OD</td>\n",
       "      <td>False</td>\n",
       "      <td>2012-10-04</td>\n",
       "    </tr>\n",
       "    <tr>\n",
       "      <th>1</th>\n",
       "      <td>1300752000</td>\n",
       "      <td>The butter dish is serving us well, and keepin...</td>\n",
       "      <td>Nice looking, and keeps the butter fresh</td>\n",
       "      <td>5.0</td>\n",
       "      <td>0130350591</td>\n",
       "      <td>A28ILV4TOG8BH2</td>\n",
       "      <td>False</td>\n",
       "      <td>2011-03-22</td>\n",
       "    </tr>\n",
       "    <tr>\n",
       "      <th>2</th>\n",
       "      <td>1214784000</td>\n",
       "      <td>I anxiously waited for the book I had pre orde...</td>\n",
       "      <td>Mother of the Bride</td>\n",
       "      <td>2.0</td>\n",
       "      <td>0307394530</td>\n",
       "      <td>A31B4D7URW4DNZ</td>\n",
       "      <td>False</td>\n",
       "      <td>2008-06-30</td>\n",
       "    </tr>\n",
       "    <tr>\n",
       "      <th>3</th>\n",
       "      <td>1277337600</td>\n",
       "      <td>Fantastic book, a lot of good, original recipe...</td>\n",
       "      <td>amazing book</td>\n",
       "      <td>5.0</td>\n",
       "      <td>0307394530</td>\n",
       "      <td>A2HU0RPDRZZOP1</td>\n",
       "      <td>False</td>\n",
       "      <td>2010-06-24</td>\n",
       "    </tr>\n",
       "    <tr>\n",
       "      <th>4</th>\n",
       "      <td>1393113600</td>\n",
       "      <td>Can't wait to try all the amazing techniques. ...</td>\n",
       "      <td>Very helpful</td>\n",
       "      <td>5.0</td>\n",
       "      <td>0307394530</td>\n",
       "      <td>A7J0XOW7DYBBD</td>\n",
       "      <td>False</td>\n",
       "      <td>2014-02-23</td>\n",
       "    </tr>\n",
       "  </tbody>\n",
       "</table>\n",
       "</div>"
      ],
      "text/plain": [
       "   unixReviewTime                                         reviewText  \\\n",
       "0      1349308800  Have you ever thought about how you met your b...   \n",
       "1      1300752000  The butter dish is serving us well, and keepin...   \n",
       "2      1214784000  I anxiously waited for the book I had pre orde...   \n",
       "3      1277337600  Fantastic book, a lot of good, original recipe...   \n",
       "4      1393113600  Can't wait to try all the amazing techniques. ...   \n",
       "\n",
       "                                    summary  overall        asin  \\\n",
       "0                                    Lovely      4.0  0076144011   \n",
       "1  Nice looking, and keeps the butter fresh      5.0  0130350591   \n",
       "2                       Mother of the Bride      2.0  0307394530   \n",
       "3                              amazing book      5.0  0307394530   \n",
       "4                              Very helpful      5.0  0307394530   \n",
       "\n",
       "       reviewerID isIncentivized       date  \n",
       "0  A210NOCSTBT4OD          False 2012-10-04  \n",
       "1  A28ILV4TOG8BH2          False 2011-03-22  \n",
       "2  A31B4D7URW4DNZ          False 2008-06-30  \n",
       "3  A2HU0RPDRZZOP1          False 2010-06-24  \n",
       "4   A7J0XOW7DYBBD          False 2014-02-23  "
      ]
     },
     "execution_count": 83,
     "metadata": {},
     "output_type": "execute_result"
    }
   ],
   "source": [
    "data.head()"
   ]
  },
  {
   "cell_type": "code",
   "execution_count": 84,
   "metadata": {
    "collapsed": false
   },
   "outputs": [
    {
     "data": {
      "text/plain": [
       "(11185369, 8)"
      ]
     },
     "execution_count": 84,
     "metadata": {},
     "output_type": "execute_result"
    }
   ],
   "source": [
    "data.shape"
   ]
  },
  {
   "cell_type": "code",
   "execution_count": 85,
   "metadata": {
    "collapsed": false
   },
   "outputs": [
    {
     "data": {
      "text/plain": [
       "<matplotlib.text.Text at 0x1f0108320>"
      ]
     },
     "execution_count": 85,
     "metadata": {},
     "output_type": "execute_result"
    },
    {
     "data": {
      "image/png": "[encoded data removed]",
      "text/plain": [
       "<matplotlib.figure.Figure at 0x2e5b33f60>"
      ]
     },
     "metadata": {},
     "output_type": "display_data"
    }
   ],
   "source": [
    "# Plot distributions of incentivized versus non-incentivized reviews\n",
    "\n",
    "grouped = data.groupby([\"isIncentivized\", \"overall\"]).agg({\"overall\": \"sum\"})\n",
    "grouped_percentages = grouped.groupby(level = 0).apply(lambda x: x / float(x.sum()) * 100)\n",
    "\n",
    "grouped_percentages.unstack(0).plot.bar(title = \"Distribution of Incentivized and Non-Incentivized Reviews over Ratings\")\n",
    "plt.legend(labels = [\"Non-Incentivized\", \"Incentivized\"])\n",
    "plt.xlabel(\"Rating Given\")\n",
    "plt.ylabel(\"Percentage of Reviews\")"
   ]
  },
  {
   "cell_type": "code",
   "execution_count": 86,
   "metadata": {
    "collapsed": false
   },
   "outputs": [
    {
     "data": {
      "text/plain": [
       "(0, 6)"
      ]
     },
     "execution_count": 86,
     "metadata": {},
     "output_type": "execute_result"
    },
    {
     "data": {
      "image/png": "[encoded data removed]",
      "text/plain": [
       "<matplotlib.figure.Figure at 0x28017a358>"
      ]
     },
     "metadata": {},
     "output_type": "display_data"
    }
   ],
   "source": [
    "# Get daily mean / monthly mean of data for plotting\n",
    "ts_df = data.groupby(\"date\").agg({\"overall\": \"mean\"})\n",
    "ts_df = ts_df.resample(\"M\").mean()\n",
    "\n",
    "plt.plot_date(ts_df.index.values, ts_df[\"overall\"], fmt = \"r-\")\n",
    "\n",
    "plt.title(\"Time Series of Mean Amazon Ratings\")\n",
    "plt.xlabel(\"Average Rating (Calculated per Month)\")\n",
    "plt.ylabel(\"Time\")\n",
    "plt.ylim(0, 6)"
   ]
  },
  {
   "cell_type": "code",
   "execution_count": 53,
   "metadata": {
    "collapsed": false
   },
   "outputs": [],
   "source": [
    "# Create stemmer for DFM creation\n",
    "\n",
    "stemmer = SnowballStemmer(\"english\")\n",
    "analyzer = CountVectorizer().build_analyzer()\n",
    "\n",
    "def stemmed_words(doc):\n",
    "    return (stemmer.stem(w) for w in analyzer(doc))\n"
   ]
  },
  {
   "cell_type": "code",
   "execution_count": 101,
   "metadata": {
    "collapsed": false
   },
   "outputs": [],
   "source": [
    "# Now let's create a training set of reviews with disclaimer language AND high ratings, and reviews with one-star ratings\n",
    "\n",
    "incentivized = data[(data[\"isIncentivized\"] == True) & (data[\"overall\"] >= 4.0)]"
   ]
  },
  {
   "cell_type": "code",
   "execution_count": 102,
   "metadata": {
    "collapsed": false
   },
   "outputs": [
    {
     "data": {
      "text/html": [
       "<div>\n",
       "<table border=\"1\" class=\"dataframe\">\n",
       "  <thead>\n",
       "    <tr style=\"text-align: right;\">\n",
       "      <th></th>\n",
       "      <th>unixReviewTime</th>\n",
       "      <th>reviewText</th>\n",
       "      <th>summary</th>\n",
       "      <th>overall</th>\n",
       "      <th>asin</th>\n",
       "      <th>reviewerID</th>\n",
       "      <th>isIncentivized</th>\n",
       "      <th>date</th>\n",
       "    </tr>\n",
       "  </thead>\n",
       "  <tbody>\n",
       "    <tr>\n",
       "      <th>39248</th>\n",
       "      <td>1359504000</td>\n",
       "      <td>I think that I have tried cooking chicken ever...</td>\n",
       "      <td>Best Chicken Ever</td>\n",
       "      <td>5.0</td>\n",
       "      <td>B00004RFQL</td>\n",
       "      <td>A1HQSUVHWAL6XY</td>\n",
       "      <td>True</td>\n",
       "      <td>2013-01-30</td>\n",
       "    </tr>\n",
       "    <tr>\n",
       "      <th>92986</th>\n",
       "      <td>1303171200</td>\n",
       "      <td>Absolutely LOVE this waffle iron!  It is much ...</td>\n",
       "      <td>Nordicware waffle iron is easy to use and compact</td>\n",
       "      <td>5.0</td>\n",
       "      <td>B00004W4UE</td>\n",
       "      <td>A1JGDGXA38JS2</td>\n",
       "      <td>True</td>\n",
       "      <td>2011-04-19</td>\n",
       "    </tr>\n",
       "    <tr>\n",
       "      <th>119357</th>\n",
       "      <td>1128729600</td>\n",
       "      <td>One of the drawbacks of reading these reviews ...</td>\n",
       "      <td>Almost perfect</td>\n",
       "      <td>4.0</td>\n",
       "      <td>B00005AC58</td>\n",
       "      <td>A8X0J4RHGZ1KD</td>\n",
       "      <td>True</td>\n",
       "      <td>2005-10-08</td>\n",
       "    </tr>\n",
       "    <tr>\n",
       "      <th>126618</th>\n",
       "      <td>1278374400</td>\n",
       "      <td>This is my second purchase of this product. I ...</td>\n",
       "      <td>Peace of Mind</td>\n",
       "      <td>5.0</td>\n",
       "      <td>B00005B8K5</td>\n",
       "      <td>A36M8SJXSXGOK7</td>\n",
       "      <td>True</td>\n",
       "      <td>2010-07-06</td>\n",
       "    </tr>\n",
       "    <tr>\n",
       "      <th>148973</th>\n",
       "      <td>1326758400</td>\n",
       "      <td>Full disclosure: I might love this knife more ...</td>\n",
       "      <td>Great knife</td>\n",
       "      <td>5.0</td>\n",
       "      <td>B00005MEGZ</td>\n",
       "      <td>A13HCMMJSCXDTY</td>\n",
       "      <td>True</td>\n",
       "      <td>2012-01-17</td>\n",
       "    </tr>\n",
       "  </tbody>\n",
       "</table>\n",
       "</div>"
      ],
      "text/plain": [
       "        unixReviewTime                                         reviewText  \\\n",
       "39248       1359504000  I think that I have tried cooking chicken ever...   \n",
       "92986       1303171200  Absolutely LOVE this waffle iron!  It is much ...   \n",
       "119357      1128729600  One of the drawbacks of reading these reviews ...   \n",
       "126618      1278374400  This is my second purchase of this product. I ...   \n",
       "148973      1326758400  Full disclosure: I might love this knife more ...   \n",
       "\n",
       "                                                  summary  overall  \\\n",
       "39248                                   Best Chicken Ever      5.0   \n",
       "92986   Nordicware waffle iron is easy to use and compact      5.0   \n",
       "119357                                     Almost perfect      4.0   \n",
       "126618                                      Peace of Mind      5.0   \n",
       "148973                                        Great knife      5.0   \n",
       "\n",
       "              asin      reviewerID isIncentivized       date  \n",
       "39248   B00004RFQL  A1HQSUVHWAL6XY           True 2013-01-30  \n",
       "92986   B00004W4UE   A1JGDGXA38JS2           True 2011-04-19  \n",
       "119357  B00005AC58   A8X0J4RHGZ1KD           True 2005-10-08  \n",
       "126618  B00005B8K5  A36M8SJXSXGOK7           True 2010-07-06  \n",
       "148973  B00005MEGZ  A13HCMMJSCXDTY           True 2012-01-17  "
      ]
     },
     "execution_count": 102,
     "metadata": {},
     "output_type": "execute_result"
    }
   ],
   "source": [
    "incentivized.head()"
   ]
  },
  {
   "cell_type": "code",
   "execution_count": 157,
   "metadata": {
    "collapsed": false
   },
   "outputs": [
    {
     "data": {
      "text/html": [
       "<div>\n",
       "<table border=\"1\" class=\"dataframe\">\n",
       "  <thead>\n",
       "    <tr style=\"text-align: right;\">\n",
       "      <th></th>\n",
       "      <th>unixReviewTime</th>\n",
       "      <th>reviewText</th>\n",
       "      <th>summary</th>\n",
       "      <th>overall</th>\n",
       "      <th>asin</th>\n",
       "      <th>reviewerID</th>\n",
       "      <th>isIncentivized</th>\n",
       "      <th>date</th>\n",
       "    </tr>\n",
       "  </thead>\n",
       "  <tbody>\n",
       "    <tr>\n",
       "      <th>8231020</th>\n",
       "      <td>1065657600</td>\n",
       "      <td>Should have read the reviews here before I pur...</td>\n",
       "      <td>Looks good that's about it...</td>\n",
       "      <td>1.0</td>\n",
       "      <td>B00005A449</td>\n",
       "      <td>AQB6E00RKXRWE</td>\n",
       "      <td>False</td>\n",
       "      <td>2003-10-09</td>\n",
       "    </tr>\n",
       "    <tr>\n",
       "      <th>205800</th>\n",
       "      <td>1398124800</td>\n",
       "      <td>I couldn't use it as it has an ?American plug....</td>\n",
       "      <td>Don't buy this!!</td>\n",
       "      <td>1.0</td>\n",
       "      <td>B00006F2MD</td>\n",
       "      <td>A281M0EEOZR28A</td>\n",
       "      <td>False</td>\n",
       "      <td>2014-04-22</td>\n",
       "    </tr>\n",
       "    <tr>\n",
       "      <th>3137378</th>\n",
       "      <td>1380240000</td>\n",
       "      <td>I needed to wash it and I did proper care and ...</td>\n",
       "      <td>Can't wash it!</td>\n",
       "      <td>1.0</td>\n",
       "      <td>B0058DFJYQ</td>\n",
       "      <td>A31XRLDOX93KTG</td>\n",
       "      <td>False</td>\n",
       "      <td>2013-09-27</td>\n",
       "    </tr>\n",
       "    <tr>\n",
       "      <th>4694868</th>\n",
       "      <td>1385856000</td>\n",
       "      <td>This pins do not hold your hair up. They're ve...</td>\n",
       "      <td>They don't work.</td>\n",
       "      <td>1.0</td>\n",
       "      <td>B000V8I38M</td>\n",
       "      <td>ACT7BAKTUG3GN</td>\n",
       "      <td>False</td>\n",
       "      <td>2013-12-01</td>\n",
       "    </tr>\n",
       "    <tr>\n",
       "      <th>6297538</th>\n",
       "      <td>1387324800</td>\n",
       "      <td>Basically, it doesn't work.Nothing beats a ham...</td>\n",
       "      <td>PRRFFT</td>\n",
       "      <td>1.0</td>\n",
       "      <td>B0000224S8</td>\n",
       "      <td>ATSB3Y6YFJANI</td>\n",
       "      <td>False</td>\n",
       "      <td>2013-12-18</td>\n",
       "    </tr>\n",
       "  </tbody>\n",
       "</table>\n",
       "</div>"
      ],
      "text/plain": [
       "         unixReviewTime                                         reviewText  \\\n",
       "8231020      1065657600  Should have read the reviews here before I pur...   \n",
       "205800       1398124800  I couldn't use it as it has an ?American plug....   \n",
       "3137378      1380240000  I needed to wash it and I did proper care and ...   \n",
       "4694868      1385856000  This pins do not hold your hair up. They're ve...   \n",
       "6297538      1387324800  Basically, it doesn't work.Nothing beats a ham...   \n",
       "\n",
       "                               summary  overall        asin      reviewerID  \\\n",
       "8231020  Looks good that's about it...      1.0  B00005A449   AQB6E00RKXRWE   \n",
       "205800                Don't buy this!!      1.0  B00006F2MD  A281M0EEOZR28A   \n",
       "3137378                 Can't wash it!      1.0  B0058DFJYQ  A31XRLDOX93KTG   \n",
       "4694868               They don't work.      1.0  B000V8I38M   ACT7BAKTUG3GN   \n",
       "6297538                         PRRFFT      1.0  B0000224S8   ATSB3Y6YFJANI   \n",
       "\n",
       "        isIncentivized       date  \n",
       "8231020          False 2003-10-09  \n",
       "205800           False 2014-04-22  \n",
       "3137378          False 2013-09-27  \n",
       "4694868          False 2013-12-01  \n",
       "6297538          False 2013-12-18  "
      ]
     },
     "execution_count": 157,
     "metadata": {},
     "output_type": "execute_result"
    }
   ],
   "source": [
    "one_star_sample = data[data[\"overall\"] == 1.0].sample(n = 1500)\n",
    "one_star_sample.head()"
   ]
  },
  {
   "cell_type": "code",
   "execution_count": 110,
   "metadata": {
    "collapsed": false
   },
   "outputs": [],
   "source": [
    "# Create our training set from the bad reviews and the incentivized ones\n",
    "training_set = pd.concat([one_star_sample, incentivized])\n",
    "training_classifications = training_set.isIncentivized"
   ]
  },
  {
   "cell_type": "code",
   "execution_count": 147,
   "metadata": {
    "collapsed": false
   },
   "outputs": [],
   "source": [
    "# Pipeline to construct DTM, convert to tf-idf, and then create classifier\n",
    "\n",
    "clf_pipe = Pipeline([\n",
    "                    (\"dfm\", CountVectorizer(analyzer=stemmed_words)),\n",
    "                    (\"tf-idf\", TfidfTransformer()),\n",
    "                    (\"clf\", MultinomialNB())\n",
    "                    ]\n",
    "                    )"
   ]
  },
  {
   "cell_type": "code",
   "execution_count": 148,
   "metadata": {
    "collapsed": false
   },
   "outputs": [],
   "source": [
    "# Make the classifier\n",
    "\n",
    "classifier = clf_pipe.fit(training_set[\"reviewText\"], training_classifications)"
   ]
  },
  {
   "cell_type": "code",
   "execution_count": 128,
   "metadata": {
    "collapsed": false
   },
   "outputs": [
    {
     "data": {
      "text/plain": [
       "(1000, 10318)"
      ]
     },
     "execution_count": 128,
     "metadata": {},
     "output_type": "execute_result"
    }
   ],
   "source": [
    "# Now let's create a test set from some 3-star reviews\n",
    "\n",
    "test_set = data[data[\"overall\"] == 3.0].sample(n = 1000)"
   ]
  },
  {
   "cell_type": "code",
   "execution_count": 152,
   "metadata": {
    "collapsed": false
   },
   "outputs": [],
   "source": [
    "# Predict classification of the test set\n",
    "\n",
    "predicted = classifier.predict(test_set[\"reviewText\"])"
   ]
  },
  {
   "cell_type": "code",
   "execution_count": 153,
   "metadata": {
    "collapsed": false
   },
   "outputs": [],
   "source": [
    "test_set[\"predicted_cat\"] = predicted"
   ]
  },
  {
   "cell_type": "code",
   "execution_count": 154,
   "metadata": {
    "collapsed": false
   },
   "outputs": [
    {
     "data": {
      "text/html": [
       "<div>\n",
       "<table border=\"1\" class=\"dataframe\">\n",
       "  <thead>\n",
       "    <tr style=\"text-align: right;\">\n",
       "      <th></th>\n",
       "      <th>unixReviewTime</th>\n",
       "      <th>reviewText</th>\n",
       "      <th>summary</th>\n",
       "      <th>overall</th>\n",
       "      <th>asin</th>\n",
       "      <th>reviewerID</th>\n",
       "      <th>isIncentivized</th>\n",
       "      <th>date</th>\n",
       "      <th>predicted_cat</th>\n",
       "    </tr>\n",
       "  </thead>\n",
       "  <tbody>\n",
       "    <tr>\n",
       "      <th>3148442</th>\n",
       "      <td>1365552000</td>\n",
       "      <td>I wanted a chip maker that gave me healthier c...</td>\n",
       "      <td>Good for good health</td>\n",
       "      <td>3.0</td>\n",
       "      <td>B005AV0RVQ</td>\n",
       "      <td>ADD9RPVMUOV87</td>\n",
       "      <td>False</td>\n",
       "      <td>2013-04-10</td>\n",
       "      <td>False</td>\n",
       "    </tr>\n",
       "    <tr>\n",
       "      <th>5149111</th>\n",
       "      <td>1393891200</td>\n",
       "      <td>Great price. But the iron Broke within 3 month...</td>\n",
       "      <td>You get what you pay for.</td>\n",
       "      <td>3.0</td>\n",
       "      <td>B002NGMF6Q</td>\n",
       "      <td>A13UJH0NQIY5SG</td>\n",
       "      <td>False</td>\n",
       "      <td>2014-03-04</td>\n",
       "      <td>False</td>\n",
       "    </tr>\n",
       "    <tr>\n",
       "      <th>973892</th>\n",
       "      <td>1237939200</td>\n",
       "      <td>This is a very nice, high-quality item.  I pur...</td>\n",
       "      <td>May not be suitable for the beach...</td>\n",
       "      <td>3.0</td>\n",
       "      <td>B000GPRLSI</td>\n",
       "      <td>A29N23Q2EE3SWK</td>\n",
       "      <td>False</td>\n",
       "      <td>2009-03-25</td>\n",
       "      <td>False</td>\n",
       "    </tr>\n",
       "    <tr>\n",
       "      <th>10469812</th>\n",
       "      <td>1374192000</td>\n",
       "      <td>People say it takes about 4 weeks to work, for...</td>\n",
       "      <td>Not Sure??</td>\n",
       "      <td>3.0</td>\n",
       "      <td>B006JHQRPA</td>\n",
       "      <td>A1JE7PUM5I3R5F</td>\n",
       "      <td>False</td>\n",
       "      <td>2013-07-19</td>\n",
       "      <td>True</td>\n",
       "    </tr>\n",
       "    <tr>\n",
       "      <th>1937699</th>\n",
       "      <td>1298592000</td>\n",
       "      <td>Okay, the dog piece tool; worthless. However, ...</td>\n",
       "      <td>Easier to Brush Fido</td>\n",
       "      <td>3.0</td>\n",
       "      <td>B001U0ONB6</td>\n",
       "      <td>A14N6VRMTWXP79</td>\n",
       "      <td>False</td>\n",
       "      <td>2011-02-25</td>\n",
       "      <td>False</td>\n",
       "    </tr>\n",
       "  </tbody>\n",
       "</table>\n",
       "</div>"
      ],
      "text/plain": [
       "          unixReviewTime                                         reviewText  \\\n",
       "3148442       1365552000  I wanted a chip maker that gave me healthier c...   \n",
       "5149111       1393891200  Great price. But the iron Broke within 3 month...   \n",
       "973892        1237939200  This is a very nice, high-quality item.  I pur...   \n",
       "10469812      1374192000  People say it takes about 4 weeks to work, for...   \n",
       "1937699       1298592000  Okay, the dog piece tool; worthless. However, ...   \n",
       "\n",
       "                                       summary  overall        asin  \\\n",
       "3148442                   Good for good health      3.0  B005AV0RVQ   \n",
       "5149111              You get what you pay for.      3.0  B002NGMF6Q   \n",
       "973892    May not be suitable for the beach...      3.0  B000GPRLSI   \n",
       "10469812                            Not Sure??      3.0  B006JHQRPA   \n",
       "1937699                   Easier to Brush Fido      3.0  B001U0ONB6   \n",
       "\n",
       "              reviewerID isIncentivized       date predicted_cat  \n",
       "3148442    ADD9RPVMUOV87          False 2013-04-10         False  \n",
       "5149111   A13UJH0NQIY5SG          False 2014-03-04         False  \n",
       "973892    A29N23Q2EE3SWK          False 2009-03-25         False  \n",
       "10469812  A1JE7PUM5I3R5F          False 2013-07-19          True  \n",
       "1937699   A14N6VRMTWXP79          False 2011-02-25         False  "
      ]
     },
     "execution_count": 154,
     "metadata": {},
     "output_type": "execute_result"
    }
   ],
   "source": [
    "test_set.head()"
   ]
  },
  {
   "cell_type": "code",
   "execution_count": 155,
   "metadata": {
    "collapsed": true
   },
   "outputs": [],
   "source": [
    "# Suspicious reviews\n",
    "\n",
    "suspicious = test_set[test_set[\"isIncentivized\"] != test_set[\"predicted_cat\"]]"
   ]
  },
  {
   "cell_type": "code",
   "execution_count": 156,
   "metadata": {
    "collapsed": false
   },
   "outputs": [
    {
     "data": {
      "text/html": [
       "<div>\n",
       "<table border=\"1\" class=\"dataframe\">\n",
       "  <thead>\n",
       "    <tr style=\"text-align: right;\">\n",
       "      <th></th>\n",
       "      <th>unixReviewTime</th>\n",
       "      <th>reviewText</th>\n",
       "      <th>summary</th>\n",
       "      <th>overall</th>\n",
       "      <th>asin</th>\n",
       "      <th>reviewerID</th>\n",
       "      <th>isIncentivized</th>\n",
       "      <th>date</th>\n",
       "      <th>predicted_cat</th>\n",
       "    </tr>\n",
       "  </thead>\n",
       "  <tbody>\n",
       "    <tr>\n",
       "      <th>10469812</th>\n",
       "      <td>1374192000</td>\n",
       "      <td>People say it takes about 4 weeks to work, for...</td>\n",
       "      <td>Not Sure??</td>\n",
       "      <td>3.0</td>\n",
       "      <td>B006JHQRPA</td>\n",
       "      <td>A1JE7PUM5I3R5F</td>\n",
       "      <td>False</td>\n",
       "      <td>2013-07-19</td>\n",
       "      <td>True</td>\n",
       "    </tr>\n",
       "    <tr>\n",
       "      <th>1576842</th>\n",
       "      <td>1357084800</td>\n",
       "      <td>Overall A good product. However the initial us...</td>\n",
       "      <td>Good Product, Two Negatives.</td>\n",
       "      <td>3.0</td>\n",
       "      <td>B00176B96U</td>\n",
       "      <td>A2DVNPCW13TM02</td>\n",
       "      <td>False</td>\n",
       "      <td>2013-01-02</td>\n",
       "      <td>True</td>\n",
       "    </tr>\n",
       "    <tr>\n",
       "      <th>10312665</th>\n",
       "      <td>1376870400</td>\n",
       "      <td>4 stars for quality fit and comfort - minus on...</td>\n",
       "      <td>Top Tier Sock, But Very High Price</td>\n",
       "      <td>3.0</td>\n",
       "      <td>B00591WBE8</td>\n",
       "      <td>A15IULIO4OCC4A</td>\n",
       "      <td>False</td>\n",
       "      <td>2013-08-19</td>\n",
       "      <td>True</td>\n",
       "    </tr>\n",
       "    <tr>\n",
       "      <th>9129341</th>\n",
       "      <td>1358035200</td>\n",
       "      <td>Just okay.  The product was not worth the pric...</td>\n",
       "      <td>Not worth the price</td>\n",
       "      <td>3.0</td>\n",
       "      <td>B0015NZ6FK</td>\n",
       "      <td>A9QEP1HOR9VZL</td>\n",
       "      <td>False</td>\n",
       "      <td>2013-01-13</td>\n",
       "      <td>True</td>\n",
       "    </tr>\n",
       "    <tr>\n",
       "      <th>2343696</th>\n",
       "      <td>1381449600</td>\n",
       "      <td>I was expecting a more &amp;#34;golden&amp;#34; oak fi...</td>\n",
       "      <td>ok but has some minor issues</td>\n",
       "      <td>3.0</td>\n",
       "      <td>B0030NS9BG</td>\n",
       "      <td>A2DGHNNPG7LC</td>\n",
       "      <td>False</td>\n",
       "      <td>2013-10-11</td>\n",
       "      <td>True</td>\n",
       "    </tr>\n",
       "  </tbody>\n",
       "</table>\n",
       "</div>"
      ],
      "text/plain": [
       "          unixReviewTime                                         reviewText  \\\n",
       "10469812      1374192000  People say it takes about 4 weeks to work, for...   \n",
       "1576842       1357084800  Overall A good product. However the initial us...   \n",
       "10312665      1376870400  4 stars for quality fit and comfort - minus on...   \n",
       "9129341       1358035200  Just okay.  The product was not worth the pric...   \n",
       "2343696       1381449600  I was expecting a more &#34;golden&#34; oak fi...   \n",
       "\n",
       "                                     summary  overall        asin  \\\n",
       "10469812                          Not Sure??      3.0  B006JHQRPA   \n",
       "1576842         Good Product, Two Negatives.      3.0  B00176B96U   \n",
       "10312665  Top Tier Sock, But Very High Price      3.0  B00591WBE8   \n",
       "9129341                  Not worth the price      3.0  B0015NZ6FK   \n",
       "2343696         ok but has some minor issues      3.0  B0030NS9BG   \n",
       "\n",
       "              reviewerID isIncentivized       date predicted_cat  \n",
       "10469812  A1JE7PUM5I3R5F          False 2013-07-19          True  \n",
       "1576842   A2DVNPCW13TM02          False 2013-01-02          True  \n",
       "10312665  A15IULIO4OCC4A          False 2013-08-19          True  \n",
       "9129341    A9QEP1HOR9VZL          False 2013-01-13          True  \n",
       "2343696     A2DGHNNPG7LC          False 2013-10-11          True  "
      ]
     },
     "execution_count": 156,
     "metadata": {},
     "output_type": "execute_result"
    }
   ],
   "source": [
    "suspicious.head()"
   ]
  },
  {
   "cell_type": "code",
   "execution_count": null,
   "metadata": {
    "collapsed": true
   },
   "outputs": [],
   "source": []
  }
 ],
 "metadata": {
  "anaconda-cloud": {},
  "kernelspec": {
   "display_name": "Python [Root]",
   "language": "python",
   "name": "Python [Root]"
  },
  "language_info": {
   "codemirror_mode": {
    "name": "ipython",
    "version": 3
   },
   "file_extension": ".py",
   "mimetype": "text/x-python",
   "name": "python",
   "nbconvert_exporter": "python",
   "pygments_lexer": "ipython3",
   "version": "3.5.2"
  }
 },
 "nbformat": 4,
 "nbformat_minor": 0
}
