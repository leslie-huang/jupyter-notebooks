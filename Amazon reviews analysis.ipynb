{
 "cells": [
  {
   "cell_type": "markdown",
   "metadata": {
    "nbpresent": {
     "id": "28f6e810-562f-47f6-8002-078fa0dbe644"
    },
    "slideshow": {
     "slide_type": "slide"
    }
   },
   "source": [
    "# Analysis of incentivized Amazon reviews\n",
    "\n",
    "### Leslie Huang\n",
    "### May 17, 2017\n",
    "\n",
    "Data provided by Julian McAuley, UCSD (http://jmcauley.ucsd.edu/data/amazon/)"
   ]
  },
  {
   "cell_type": "markdown",
   "metadata": {},
   "source": [
    "## The data\n",
    "\n",
    "- Amazon.com product reviews with text, rating, and summary\n",
    "\n",
    "\n",
    "- 17,320,663 reviews\n",
    "\n",
    "\n",
    "- Approx. ~10 GB of data\n",
    "\n",
    "\n",
    "- From the following categories:\n",
    "\n",
    "    - Health and Personal Care\n",
    "    - Home and Kitchen\n",
    "    - Tools and Home Improvement\n",
    "    - Beauty\n",
    "\n",
    "## The problem\n",
    "\n",
    "Until the practice was recently banned by Amazon, sellers had an incentive to offer free or discounted products in exchange for reviews, commonly known as \"incentivized reviews.\" Some of these reviews would include a disclaimer such as \"I received this product for free in exchange for my honest, unbiased opinion.\" \n",
    "\n",
    "However, shady sellers and reviewers post fraudulent positive reviews that *cannot be easily identified* because they do not have disclaimers. This is a problem for Amazon because the integrity of reviews is important, and it's a problem for consumers, because they don't know which reviews to trust.\n",
    "\n",
    "Thus, there is a real practical need for a tool that can identify and flag potential fraudulent reviews.\n",
    "\n",
    "## Let's get started!"
   ]
  },
  {
   "cell_type": "code",
   "execution_count": 2,
   "metadata": {
    "collapsed": false,
    "nbpresent": {
     "id": "c5e76566-bb00-41ed-8500-ef9fe3be23ca"
    },
    "slideshow": {
     "slide_type": "skip"
    }
   },
   "outputs": [],
   "source": [
    "# Workspace setup\n",
    "\n",
    "import math\n",
    "import matplotlib\n",
    "import matplotlib.pyplot as plt\n",
    "import multiprocessing as mp\n",
    "import nltk\n",
    "from nltk.stem.snowball import SnowballStemmer\n",
    "import numpy as np\n",
    "from odo import odo, discover, resource\n",
    "import pandas as pd\n",
    "from sklearn import linear_model\n",
    "from sklearn.naive_bayes import MultinomialNB\n",
    "import statsmodels.formula.api as sm\n",
    "from statsmodels.iolib.summary2 import summary_col\n",
    "from sklearn.cluster import KMeans, MiniBatchKMeans\n",
    "from sklearn.feature_extraction.text import CountVectorizer\n",
    "from sklearn.feature_extraction.text import TfidfTransformer\n",
    "from sklearn.feature_extraction.text import TfidfVectorizer\n",
    "from sklearn.pipeline import Pipeline\n",
    "import warnings\n",
    "\n",
    "warnings.simplefilter('ignore')\n",
    "\n",
    "%matplotlib inline\n",
    "matplotlib.rcParams['figure.figsize'] = (12, 8)"
   ]
  },
  {
   "cell_type": "markdown",
   "metadata": {},
   "source": [
    "The reviews were JSON-like objects, which I extracted into a MongoDB database."
   ]
  },
  {
   "cell_type": "code",
   "execution_count": 3,
   "metadata": {
    "collapsed": false,
    "nbpresent": {
     "id": "fc0a51a9-a3ec-45dd-a039-3519a3576ee0"
    },
    "slideshow": {
     "slide_type": "skip"
    }
   },
   "outputs": [],
   "source": [
    "# Retrieve data from MongoDB db\n",
    "data = odo(\"mongodb://localhost/my_mongo::amazon_reviews\", \n",
    "            pd.DataFrame, dshape = \"var * {unixReviewTime: int32, reviewText: string, summary: string, overall: float32, asin: string, reviewerID: string}\")"
   ]
  },
  {
   "cell_type": "code",
   "execution_count": 4,
   "metadata": {
    "collapsed": false,
    "nbpresent": {
     "id": "39f9ee0a-1a18-4fb4-9151-9aca4360c62f"
    },
    "slideshow": {
     "slide_type": "skip"
    }
   },
   "outputs": [],
   "source": [
    "### Construct some vars\n",
    "\n",
    "# Convert to correct datetime format\n",
    "data[\"date\"] = pd.to_datetime(data[\"unixReviewTime\"], unit = \"s\")\n",
    "\n",
    "# Create a dummy for incentivized reviews\n",
    "data[\"hasDisclaimer\"] = pd.Series(data.reviewText.str.contains(r\"( in exchange for my unbiased | in exchange for my honest | free or at a discount | free or discounted | Disclosure: | Disclaimer: | disclosure: | I received this product for free | in exchange for my review )\"))"
   ]
  },
  {
   "cell_type": "markdown",
   "metadata": {},
   "source": [
    "## Let's explore the data\n",
    "\n",
    "- I constructed a variable \"hasDisclaimer\" that is True if the review contains a phrase commonly found in disclaimers, such as:\n",
    "\n",
    "    - \"in exchange for my unbiased\"\n",
    "    - \"in exchange for my honest\"\n",
    "    - \"I received this product for free\"\n",
    "    - \"in exchange for my review\"\n",
    "    - \"Disclosure:\"\n",
    "    \n",
    "    \n",
    "- This variable probably has a lot of *false negatives*, but I wanted to minimize *false positives.*\n",
    "\n",
    "## We'll look at a snippet of the data as well as several visualizations below."
   ]
  },
  {
   "cell_type": "code",
   "execution_count": 5,
   "metadata": {
    "collapsed": false,
    "nbpresent": {
     "id": "88185689-a63d-484f-b0d3-cf153def4da5"
    },
    "slideshow": {
     "slide_type": "slide"
    }
   },
   "outputs": [
    {
     "data": {
      "text/html": [
       "<div>\n",
       "<table border=\"1\" class=\"dataframe\">\n",
       "  <thead>\n",
       "    <tr style=\"text-align: right;\">\n",
       "      <th></th>\n",
       "      <th>unixReviewTime</th>\n",
       "      <th>reviewText</th>\n",
       "      <th>summary</th>\n",
       "      <th>overall</th>\n",
       "      <th>asin</th>\n",
       "      <th>reviewerID</th>\n",
       "      <th>date</th>\n",
       "      <th>hasDisclaimer</th>\n",
       "    </tr>\n",
       "  </thead>\n",
       "  <tbody>\n",
       "    <tr>\n",
       "      <th>0</th>\n",
       "      <td>1369699200</td>\n",
       "      <td>i do love this moisturizer and would recommend...</td>\n",
       "      <td>bio-active anti-aging serum</td>\n",
       "      <td>5.0</td>\n",
       "      <td>0205616461</td>\n",
       "      <td>A39HTATAQ9V7YF</td>\n",
       "      <td>2013-05-28</td>\n",
       "      <td>False</td>\n",
       "    </tr>\n",
       "    <tr>\n",
       "      <th>1</th>\n",
       "      <td>1355443200</td>\n",
       "      <td>I received this product before the deadline.I ...</td>\n",
       "      <td>This product is ok, I'm use Baby Kabuki in moment</td>\n",
       "      <td>3.0</td>\n",
       "      <td>0558925278</td>\n",
       "      <td>A3JM6GV9MNOF9X</td>\n",
       "      <td>2012-12-14</td>\n",
       "      <td>False</td>\n",
       "    </tr>\n",
       "    <tr>\n",
       "      <th>2</th>\n",
       "      <td>1404691200</td>\n",
       "      <td>I love this set. Great buy for the price. I do...</td>\n",
       "      <td>I love this set</td>\n",
       "      <td>5.0</td>\n",
       "      <td>0558925278</td>\n",
       "      <td>A1Z513UWSAAO0F</td>\n",
       "      <td>2014-07-07</td>\n",
       "      <td>False</td>\n",
       "    </tr>\n",
       "    <tr>\n",
       "      <th>3</th>\n",
       "      <td>1382572800</td>\n",
       "      <td>A nice moisturizer, all natural ingredients an...</td>\n",
       "      <td>Nice Moisturizer</td>\n",
       "      <td>4.0</td>\n",
       "      <td>0733001998</td>\n",
       "      <td>A1WMRR494NWEWV</td>\n",
       "      <td>2013-10-24</td>\n",
       "      <td>False</td>\n",
       "    </tr>\n",
       "    <tr>\n",
       "      <th>4</th>\n",
       "      <td>1274227200</td>\n",
       "      <td>Please research the MAC Hello Kitty collection...</td>\n",
       "      <td>Fake MAC</td>\n",
       "      <td>1.0</td>\n",
       "      <td>0737104473</td>\n",
       "      <td>A3IAAVS479H7M7</td>\n",
       "      <td>2010-05-19</td>\n",
       "      <td>False</td>\n",
       "    </tr>\n",
       "  </tbody>\n",
       "</table>\n",
       "</div>"
      ],
      "text/plain": [
       "   unixReviewTime                                         reviewText  \\\n",
       "0      1369699200  i do love this moisturizer and would recommend...   \n",
       "1      1355443200  I received this product before the deadline.I ...   \n",
       "2      1404691200  I love this set. Great buy for the price. I do...   \n",
       "3      1382572800  A nice moisturizer, all natural ingredients an...   \n",
       "4      1274227200  Please research the MAC Hello Kitty collection...   \n",
       "\n",
       "                                             summary  overall        asin  \\\n",
       "0                        bio-active anti-aging serum      5.0  0205616461   \n",
       "1  This product is ok, I'm use Baby Kabuki in moment      3.0  0558925278   \n",
       "2                                    I love this set      5.0  0558925278   \n",
       "3                                   Nice Moisturizer      4.0  0733001998   \n",
       "4                                           Fake MAC      1.0  0737104473   \n",
       "\n",
       "       reviewerID       date hasDisclaimer  \n",
       "0  A39HTATAQ9V7YF 2013-05-28         False  \n",
       "1  A3JM6GV9MNOF9X 2012-12-14         False  \n",
       "2  A1Z513UWSAAO0F 2014-07-07         False  \n",
       "3  A1WMRR494NWEWV 2013-10-24         False  \n",
       "4  A3IAAVS479H7M7 2010-05-19         False  "
      ]
     },
     "execution_count": 5,
     "metadata": {},
     "output_type": "execute_result"
    }
   ],
   "source": [
    "data.head()"
   ]
  },
  {
   "cell_type": "code",
   "execution_count": 48,
   "metadata": {
    "collapsed": false,
    "nbpresent": {
     "id": "04274576-4593-414f-b8dc-f4b3471e9a38"
    },
    "slideshow": {
     "slide_type": "slide"
    }
   },
   "outputs": [
    {
     "data": {
      "text/plain": [
       "<matplotlib.text.Text at 0x14996f6a0>"
      ]
     },
     "execution_count": 48,
     "metadata": {},
     "output_type": "execute_result"
    },
    {
     "data": {
      "image/png": "[encoded data removed]",
      "text/plain": [
       "<matplotlib.figure.Figure at 0x12070d2e8>"
      ]
     },
     "metadata": {},
     "output_type": "display_data"
    }
   ],
   "source": [
    "# Plot distributions of incentivized versus non-incentivized reviews\n",
    "\n",
    "grouped = data.groupby([\"hasDisclaimer\", \"overall\"]).agg({\"overall\": \"sum\"})\n",
    "grouped_percentages = grouped.groupby(level = 0).apply(lambda x: x / float(x.sum()) * 100)\n",
    "\n",
    "grouped_percentages.unstack(0).plot.bar()\n",
    "plt.legend(labels = [\"Non-Incentivized\", \"Incentivized\"])\n",
    "plt.xlabel(\"Rating Given\", fontsize = 14)\n",
    "plt.ylabel(\"Percentage of Reviews\", fontsize = 14)\n",
    "plt.title(\"Distribution of Incentivized and Non-Incentivized Reviews over Ratings\", fontsize = 18)"
   ]
  },
  {
   "cell_type": "code",
   "execution_count": 7,
   "metadata": {
    "collapsed": false
   },
   "outputs": [
    {
     "data": {
      "text/plain": [
       "hasDisclaimer       \n",
       "False          count    1.118387e+07\n",
       "               mean     3.754460e+00\n",
       "               std      1.434142e+00\n",
       "               min      1.000000e+00\n",
       "               25%      4.000000e+00\n",
       "               50%      5.000000e+00\n",
       "               75%      5.000000e+00\n",
       "               max      5.000000e+00\n",
       "True           count    1.499000e+03\n",
       "               mean     4.370914e+00\n",
       "               std      1.051977e+00\n",
       "               min      1.000000e+00\n",
       "               25%      4.000000e+00\n",
       "               50%      5.000000e+00\n",
       "               75%      5.000000e+00\n",
       "               max      5.000000e+00\n",
       "Name: overall, dtype: float64"
      ]
     },
     "execution_count": 7,
     "metadata": {},
     "output_type": "execute_result"
    }
   ],
   "source": [
    "# Let's look at some summary statistics too\n",
    "\n",
    "groupby_disc = data.groupby([\"hasDisclaimer\"])\n",
    "\n",
    "groupby_disc[\"overall\"].describe()"
   ]
  },
  {
   "cell_type": "code",
   "execution_count": 45,
   "metadata": {
    "collapsed": false,
    "nbpresent": {
     "id": "e07646a4-2bc7-4bb7-ac84-9ed9a5d9e7a7"
    },
    "slideshow": {
     "slide_type": "slide"
    }
   },
   "outputs": [
    {
     "data": {
      "text/plain": [
       "(0, 6)"
      ]
     },
     "execution_count": 45,
     "metadata": {},
     "output_type": "execute_result"
    },
    {
     "data": {
      "image/png": "[encoded data removed]",
      "text/plain": [
       "<matplotlib.figure.Figure at 0x2cae50358>"
      ]
     },
     "metadata": {},
     "output_type": "display_data"
    }
   ],
   "source": [
    "# Get daily mean / monthly mean of data for plotting\n",
    "ts_df = data.groupby(\"date\").agg({\"overall\": \"mean\"})\n",
    "ts_df = ts_df.resample(\"M\").mean()\n",
    "\n",
    "plt.plot_date(ts_df.index.values, ts_df[\"overall\"], fmt = \"r-\")\n",
    "\n",
    "plt.title(\"Time Series of Mean Amazon Ratings\", fontsize = 18)\n",
    "plt.ylabel(\"Average Rating (Calculated per Month)\", fontsize = 14)\n",
    "plt.xlabel(\"Time\", fontsize = 14)\n",
    "plt.ylim(0, 6)"
   ]
  },
  {
   "cell_type": "markdown",
   "metadata": {},
   "source": [
    "## What have we learned?\n",
    "\n",
    "- Reviews with disclaimers have a higher probability of giving a 4.0+ rating and a lower probability of giving a 3.0 rating or less.\n",
    "\n",
    "\n",
    "- Incentivized reviews as an organized scheme only came about in the last few years. Accordingly, we see a trend of increasing average review scores over time. (Higher levels of variation in Amazon's early years can be attributed to paucity of reviews and thus greater sensitivity to outliers.)\n",
    "\n",
    "## How do we proceed?\n",
    "\n",
    "### Why use unsupervised machine learning?\n",
    "\n",
    "- The premise of this project is that some of the reviews without disclaimers are incentivized -- this means that we cannot use the presence or absence of a disclaimer to label the data, because *we are assuming that some of the reviews are secretly incentivized, but we don't know which ones*. \n",
    "\n",
    "\n",
    "- Thus, using the \"has disclaimer\"/\"no disclaimer\" dichotomy in a supervised machine learning technique such as Naive Bayes will fail because *some of the reviews are misclassified by design*. \n",
    "\n",
    "### Goal: train a model that correctly identifies the reviews that do have disclaimer language but are semantically similar to reviews that do have disclaimers.\n",
    "\n",
    "- This takes advantage of the fact that \"hasDisclaimer\" will have very few false positives. Not a lot of normal folks leave Amazon reviews that say \"I got this product for free\" if they were not incentivized!\n",
    "\n",
    "## Workflow\n",
    "\n",
    "- Take a subset of the data:\n",
    "    \n",
    "    - All reviews with a disclaimer and a score > 4.0\n",
    "    \n",
    "    - A sample of reviews without a disclaimer and a score > 4.0\n",
    "    \n",
    "    - It is important that the overall scores are in the same range: An incentivized 5-star review and a not incentivized 1-star review will obviously differ semantically! We want to know how an incentivized 5-star review differs from an unincentivized 5-star review!\n",
    "    \n",
    "    \n",
    "- Create document feature matrix (aka document term matrix) with pre-processing (stemming but not removing stopwords)\n",
    "\n",
    "\n",
    "- Because of variable document length, construct tf-idf matrix from the DFM\n",
    "\n",
    "\n",
    "- TF-IDF takes into account the fact that some words just occur a lot. TF-IDF scores are weighted to reflect the frequency that a word occurs in a document *relative to the other documents in the corpus*"
   ]
  },
  {
   "cell_type": "code",
   "execution_count": 9,
   "metadata": {
    "collapsed": false,
    "nbpresent": {
     "id": "062261ab-89da-4c16-9d2f-06a30b408758"
    },
    "slideshow": {
     "slide_type": "skip"
    }
   },
   "outputs": [],
   "source": [
    "# Create stemmer for DFM creation\n",
    "\n",
    "stemmer = SnowballStemmer(\"english\")\n",
    "analyzer = CountVectorizer().build_analyzer()\n",
    "\n",
    "def stemmed_words(doc):\n",
    "    return (stemmer.stem(w) for w in analyzer(doc))\n",
    "\n",
    "vectorizer = CountVectorizer(analyzer = stemmed_words)\n",
    "\n",
    "# Note: I choose not to remove stopwords because their usage can transmit information about the author's psychological state."
   ]
  },
  {
   "cell_type": "code",
   "execution_count": 11,
   "metadata": {
    "collapsed": false,
    "nbpresent": {
     "id": "ff07933e-0445-4de6-a300-1943c234d202"
    },
    "slideshow": {
     "slide_type": "skip"
    }
   },
   "outputs": [],
   "source": [
    "# Now let's create a training set of reviews with disclaimer language AND high ratings\n",
    "# and reviews with similar ratings that do not have disclaimer language\n",
    "\n",
    "incentivized = data[(data[\"hasDisclaimer\"] == True) & (data[\"overall\"] >= 4.0)]\n",
    "\n",
    "high_rating_no_disclaimer = data[(data[\"overall\"] > 4.0) & (data[\"hasDisclaimer\"] == False)].sample(n = 1500)\n",
    "\n",
    "# Create our training set from the bad reviews and the incentivized ones\n",
    "training_set = pd.concat([high_rating_no_disclaimer, incentivized])"
   ]
  },
  {
   "cell_type": "code",
   "execution_count": 12,
   "metadata": {
    "collapsed": false
   },
   "outputs": [],
   "source": [
    "# construct tf-idf matrix\n",
    "training_dfm = vectorizer.fit_transform(training_set[\"reviewText\"])\n",
    "\n",
    "tf_idf_mat = TfidfTransformer().fit_transform(training_dfm)"
   ]
  },
  {
   "cell_type": "code",
   "execution_count": 13,
   "metadata": {
    "collapsed": false
   },
   "outputs": [
    {
     "data": {
      "text/html": [
       "<div>\n",
       "<table border=\"1\" class=\"dataframe\">\n",
       "  <thead>\n",
       "    <tr style=\"text-align: right;\">\n",
       "      <th></th>\n",
       "      <th>unixReviewTime</th>\n",
       "      <th>reviewText</th>\n",
       "      <th>summary</th>\n",
       "      <th>overall</th>\n",
       "      <th>asin</th>\n",
       "      <th>reviewerID</th>\n",
       "      <th>date</th>\n",
       "      <th>hasDisclaimer</th>\n",
       "    </tr>\n",
       "  </thead>\n",
       "  <tbody>\n",
       "    <tr>\n",
       "      <th>3965170</th>\n",
       "      <td>1389744000</td>\n",
       "      <td>I loved the quality of the table.  It came in ...</td>\n",
       "      <td>Disney Cars Square Table and Chair Set</td>\n",
       "      <td>5.0</td>\n",
       "      <td>B001UAIG82</td>\n",
       "      <td>A1YT3R7P7WYTSI</td>\n",
       "      <td>2014-01-15</td>\n",
       "      <td>False</td>\n",
       "    </tr>\n",
       "    <tr>\n",
       "      <th>1899637</th>\n",
       "      <td>1383436800</td>\n",
       "      <td>I was surprised at how well this oil absorbed ...</td>\n",
       "      <td>Lovely oil, works great!</td>\n",
       "      <td>5.0</td>\n",
       "      <td>B00D3M0CRS</td>\n",
       "      <td>A29D2FCH3HQ3SX</td>\n",
       "      <td>2013-11-03</td>\n",
       "      <td>False</td>\n",
       "    </tr>\n",
       "    <tr>\n",
       "      <th>10250879</th>\n",
       "      <td>1314921600</td>\n",
       "      <td>With the understanding that everyones experien...</td>\n",
       "      <td>2 days in with amazing results</td>\n",
       "      <td>5.0</td>\n",
       "      <td>B004Y9AINC</td>\n",
       "      <td>A2G5BKQLMQWSHE</td>\n",
       "      <td>2011-09-02</td>\n",
       "      <td>False</td>\n",
       "    </tr>\n",
       "    <tr>\n",
       "      <th>6547056</th>\n",
       "      <td>1399852800</td>\n",
       "      <td>Exactly what I've been looking for. Knee pads ...</td>\n",
       "      <td>Knee Pad replacement Straps</td>\n",
       "      <td>5.0</td>\n",
       "      <td>B0007ZNHIK</td>\n",
       "      <td>A265DFDUNC6S8K</td>\n",
       "      <td>2014-05-12</td>\n",
       "      <td>False</td>\n",
       "    </tr>\n",
       "    <tr>\n",
       "      <th>5815521</th>\n",
       "      <td>1363564800</td>\n",
       "      <td>this poster is very high quality it looks like...</td>\n",
       "      <td>Great Quality Poster</td>\n",
       "      <td>5.0</td>\n",
       "      <td>B009H4AOQK</td>\n",
       "      <td>AGF76U20QUIJJ</td>\n",
       "      <td>2013-03-18</td>\n",
       "      <td>False</td>\n",
       "    </tr>\n",
       "  </tbody>\n",
       "</table>\n",
       "</div>"
      ],
      "text/plain": [
       "          unixReviewTime                                         reviewText  \\\n",
       "3965170       1389744000  I loved the quality of the table.  It came in ...   \n",
       "1899637       1383436800  I was surprised at how well this oil absorbed ...   \n",
       "10250879      1314921600  With the understanding that everyones experien...   \n",
       "6547056       1399852800  Exactly what I've been looking for. Knee pads ...   \n",
       "5815521       1363564800  this poster is very high quality it looks like...   \n",
       "\n",
       "                                         summary  overall        asin  \\\n",
       "3965170   Disney Cars Square Table and Chair Set      5.0  B001UAIG82   \n",
       "1899637                 Lovely oil, works great!      5.0  B00D3M0CRS   \n",
       "10250879          2 days in with amazing results      5.0  B004Y9AINC   \n",
       "6547056              Knee Pad replacement Straps      5.0  B0007ZNHIK   \n",
       "5815521                     Great Quality Poster      5.0  B009H4AOQK   \n",
       "\n",
       "              reviewerID       date hasDisclaimer  \n",
       "3965170   A1YT3R7P7WYTSI 2014-01-15         False  \n",
       "1899637   A29D2FCH3HQ3SX 2013-11-03         False  \n",
       "10250879  A2G5BKQLMQWSHE 2011-09-02         False  \n",
       "6547056   A265DFDUNC6S8K 2014-05-12         False  \n",
       "5815521    AGF76U20QUIJJ 2013-03-18         False  "
      ]
     },
     "execution_count": 13,
     "metadata": {},
     "output_type": "execute_result"
    }
   ],
   "source": [
    "training_set.head()"
   ]
  },
  {
   "cell_type": "markdown",
   "metadata": {},
   "source": [
    "## What's going on?\n",
    "\n",
    "- A review *with* disclaimer language is definitely incentivized\n",
    "\n",
    "- But a review *without* disclaimer language *may be incentivized too*! \n",
    "\n",
    "- Labelling reviews using the disclaimer language generates false negatives\n",
    "\n",
    "- We want to find these false negatives based on textual similarity to the true positives\n",
    "\n",
    "- First, let's try k-means clustering"
   ]
  },
  {
   "cell_type": "code",
   "execution_count": 14,
   "metadata": {
    "collapsed": false
   },
   "outputs": [],
   "source": [
    "# k-means clustering setup\n",
    "\n",
    "n_k = 2\n",
    "\n",
    "km_model = KMeans(n_clusters = n_k, init = \"k-means++\", max_iter = 100, n_init = 10)\n",
    "\n",
    "km_model.fit(tf_idf_mat)\n",
    "clusters = km_model.labels_.tolist()"
   ]
  },
  {
   "cell_type": "code",
   "execution_count": 15,
   "metadata": {
    "collapsed": false
   },
   "outputs": [],
   "source": [
    "# Now let's see if the clusters line up with the isIncentivized definition\n",
    "\n",
    "training_set[\"cluster_assign\"] = clusters"
   ]
  },
  {
   "cell_type": "markdown",
   "metadata": {},
   "source": [
    "## Validating the model\n",
    "\n",
    "### Do the clusters line up with the \"disclaimer\"/\"no disclaimer\" variable?\n",
    "\n",
    "- Remember, we do expect false negatives because of the strictness of the \"disclaimer\" variable."
   ]
  },
  {
   "cell_type": "code",
   "execution_count": 36,
   "metadata": {
    "collapsed": false
   },
   "outputs": [
    {
     "data": {
      "text/html": [
       "<div>\n",
       "<table border=\"1\" class=\"dataframe\">\n",
       "  <thead>\n",
       "    <tr style=\"text-align: right;\">\n",
       "      <th>cluster_assign</th>\n",
       "      <th>0</th>\n",
       "      <th>1</th>\n",
       "    </tr>\n",
       "    <tr>\n",
       "      <th>hasDisclaimer</th>\n",
       "      <th></th>\n",
       "      <th></th>\n",
       "    </tr>\n",
       "  </thead>\n",
       "  <tbody>\n",
       "    <tr>\n",
       "      <th>False</th>\n",
       "      <td>1229</td>\n",
       "      <td>271</td>\n",
       "    </tr>\n",
       "    <tr>\n",
       "      <th>True</th>\n",
       "      <td>281</td>\n",
       "      <td>985</td>\n",
       "    </tr>\n",
       "  </tbody>\n",
       "</table>\n",
       "</div>"
      ],
      "text/plain": [
       "cluster_assign     0    1\n",
       "hasDisclaimer            \n",
       "False           1229  271\n",
       "True             281  985"
      ]
     },
     "execution_count": 36,
     "metadata": {},
     "output_type": "execute_result"
    }
   ],
   "source": [
    "xtab = pd.crosstab(training_set.hasDisclaimer, training_set.cluster_assign, margins = True).ix[:-1, :-1]\n",
    "xtab"
   ]
  },
  {
   "cell_type": "markdown",
   "metadata": {},
   "source": [
    "## Analysis\n",
    "\n",
    "It looks like most reviews with disclaimers are in cluster 1, and most reviews without disclaimers are in cluster 0. This suggests that Cluster 1 may be incentivized reviews.\n"
   ]
  },
  {
   "cell_type": "code",
   "execution_count": 59,
   "metadata": {
    "collapsed": false
   },
   "outputs": [
    {
     "data": {
      "text/plain": [
       "([<matplotlib.axis.XTick at 0x11cfdef60>,\n",
       "  <matplotlib.axis.XTick at 0x143e8d400>],\n",
       " <a list of 2 Text xticklabel objects>)"
      ]
     },
     "execution_count": 59,
     "metadata": {},
     "output_type": "execute_result"
    },
    {
     "data": {
      "image/png": "[encoded data removed]",
      "text/plain": [
       "<matplotlib.figure.Figure at 0x2cd0de4a8>"
      ]
     },
     "metadata": {},
     "output_type": "display_data"
    }
   ],
   "source": [
    "xtab.plot(kind = \"bar\", stacked = False, colors = [\"orange\", \"blue\"], grid = False).get_legend().set_title(\"Clusters\")\n",
    "plt.xlabel(\"Has a disclaimer in the text?\", fontsize = 14)\n",
    "plt.ylabel(\"Num. of Reviews\", fontsize = 14)\n",
    "plt.title(\"Sorting of Reviews With and Without Disclaimers into Clusters\", fontsize = 18)\n",
    "plt.xticks([False, True], [\"No disclaimer\", \"Has a disclaimer\"], rotation = \"horizontal\")"
   ]
  },
  {
   "cell_type": "markdown",
   "metadata": {},
   "source": [
    "## Top words\n",
    "\n",
    "Now let's take a look at some top terms from each cluster. Keep in mind that I did not remove stopwords when tokenizing, because the frequency of usage of stopwords can contain valuable information according to psychology research."
   ]
  },
  {
   "cell_type": "code",
   "execution_count": null,
   "metadata": {
    "collapsed": false
   },
   "outputs": [],
   "source": [
    "# Let's look at some top terms\n",
    "top_terms = 50\n",
    "\n",
    "order_centroids = km_model.cluster_centers_.argsort()[:, ::-1]\n",
    "terms = vectorizer.get_feature_names()\n",
    "\n",
    "top_terms_df = pd.DataFrame()\n",
    "\n",
    "for i in range(n_k):\n",
    "    temp_terms = []\n",
    "    \n",
    "    for ind in order_centroids[i, :top_terms]:\n",
    "        temp_terms.append(terms[ind])\n",
    "    \n",
    "    top_terms_df[\"cluster_{}\".format(i)] = (pd.Series(temp_terms))"
   ]
  },
  {
   "cell_type": "code",
   "execution_count": 28,
   "metadata": {
    "collapsed": false
   },
   "outputs": [
    {
     "data": {
      "text/html": [
       "<div>\n",
       "<table border=\"1\" class=\"dataframe\">\n",
       "  <thead>\n",
       "    <tr style=\"text-align: right;\">\n",
       "      <th></th>\n",
       "      <th>cluster_0</th>\n",
       "      <th>cluster_1</th>\n",
       "    </tr>\n",
       "  </thead>\n",
       "  <tbody>\n",
       "    <tr>\n",
       "      <th>0</th>\n",
       "      <td>the</td>\n",
       "      <td>the</td>\n",
       "    </tr>\n",
       "    <tr>\n",
       "      <th>1</th>\n",
       "      <td>and</td>\n",
       "      <td>it</td>\n",
       "    </tr>\n",
       "    <tr>\n",
       "      <th>2</th>\n",
       "      <td>it</td>\n",
       "      <td>to</td>\n",
       "    </tr>\n",
       "    <tr>\n",
       "      <th>3</th>\n",
       "      <td>to</td>\n",
       "      <td>and</td>\n",
       "    </tr>\n",
       "    <tr>\n",
       "      <th>4</th>\n",
       "      <td>this</td>\n",
       "      <td>my</td>\n",
       "    </tr>\n",
       "    <tr>\n",
       "      <th>5</th>\n",
       "      <td>for</td>\n",
       "      <td>this</td>\n",
       "    </tr>\n",
       "    <tr>\n",
       "      <th>6</th>\n",
       "      <td>is</td>\n",
       "      <td>of</td>\n",
       "    </tr>\n",
       "    <tr>\n",
       "      <th>7</th>\n",
       "      <td>my</td>\n",
       "      <td>for</td>\n",
       "    </tr>\n",
       "    <tr>\n",
       "      <th>8</th>\n",
       "      <td>great</td>\n",
       "      <td>is</td>\n",
       "    </tr>\n",
       "    <tr>\n",
       "      <th>9</th>\n",
       "      <td>of</td>\n",
       "      <td>in</td>\n",
       "    </tr>\n",
       "    <tr>\n",
       "      <th>10</th>\n",
       "      <td>in</td>\n",
       "      <td>that</td>\n",
       "    </tr>\n",
       "    <tr>\n",
       "      <th>11</th>\n",
       "      <td>use</td>\n",
       "      <td>you</td>\n",
       "    </tr>\n",
       "    <tr>\n",
       "      <th>12</th>\n",
       "      <td>have</td>\n",
       "      <td>product</td>\n",
       "    </tr>\n",
       "    <tr>\n",
       "      <th>13</th>\n",
       "      <td>veri</td>\n",
       "      <td>use</td>\n",
       "    </tr>\n",
       "    <tr>\n",
       "      <th>14</th>\n",
       "      <td>with</td>\n",
       "      <td>have</td>\n",
       "    </tr>\n",
       "    <tr>\n",
       "      <th>15</th>\n",
       "      <td>was</td>\n",
       "      <td>on</td>\n",
       "    </tr>\n",
       "    <tr>\n",
       "      <th>16</th>\n",
       "      <td>work</td>\n",
       "      <td>with</td>\n",
       "    </tr>\n",
       "    <tr>\n",
       "      <th>17</th>\n",
       "      <td>product</td>\n",
       "      <td>was</td>\n",
       "    </tr>\n",
       "    <tr>\n",
       "      <th>18</th>\n",
       "      <td>love</td>\n",
       "      <td>hair</td>\n",
       "    </tr>\n",
       "    <tr>\n",
       "      <th>19</th>\n",
       "      <td>they</td>\n",
       "      <td>but</td>\n",
       "    </tr>\n",
       "    <tr>\n",
       "      <th>20</th>\n",
       "      <td>these</td>\n",
       "      <td>as</td>\n",
       "    </tr>\n",
       "    <tr>\n",
       "      <th>21</th>\n",
       "      <td>that</td>\n",
       "      <td>not</td>\n",
       "    </tr>\n",
       "    <tr>\n",
       "      <th>22</th>\n",
       "      <td>on</td>\n",
       "      <td>so</td>\n",
       "    </tr>\n",
       "    <tr>\n",
       "      <th>23</th>\n",
       "      <td>one</td>\n",
       "      <td>like</td>\n",
       "    </tr>\n",
       "    <tr>\n",
       "      <th>24</th>\n",
       "      <td>are</td>\n",
       "      <td>review</td>\n",
       "    </tr>\n",
       "    <tr>\n",
       "      <th>25</th>\n",
       "      <td>you</td>\n",
       "      <td>be</td>\n",
       "    </tr>\n",
       "    <tr>\n",
       "      <th>26</th>\n",
       "      <td>but</td>\n",
       "      <td>skin</td>\n",
       "    </tr>\n",
       "    <tr>\n",
       "      <th>27</th>\n",
       "      <td>as</td>\n",
       "      <td>are</td>\n",
       "    </tr>\n",
       "    <tr>\n",
       "      <th>28</th>\n",
       "      <td>good</td>\n",
       "      <td>or</td>\n",
       "    </tr>\n",
       "    <tr>\n",
       "      <th>29</th>\n",
       "      <td>so</td>\n",
       "      <td>all</td>\n",
       "    </tr>\n",
       "    <tr>\n",
       "      <th>30</th>\n",
       "      <td>not</td>\n",
       "      <td>receiv</td>\n",
       "    </tr>\n",
       "    <tr>\n",
       "      <th>31</th>\n",
       "      <td>well</td>\n",
       "      <td>can</td>\n",
       "    </tr>\n",
       "    <tr>\n",
       "      <th>32</th>\n",
       "      <td>we</td>\n",
       "      <td>one</td>\n",
       "    </tr>\n",
       "    <tr>\n",
       "      <th>33</th>\n",
       "      <td>like</td>\n",
       "      <td>me</td>\n",
       "    </tr>\n",
       "    <tr>\n",
       "      <th>34</th>\n",
       "      <td>would</td>\n",
       "      <td>veri</td>\n",
       "    </tr>\n",
       "    <tr>\n",
       "      <th>35</th>\n",
       "      <td>just</td>\n",
       "      <td>if</td>\n",
       "    </tr>\n",
       "    <tr>\n",
       "      <th>36</th>\n",
       "      <td>price</td>\n",
       "      <td>out</td>\n",
       "    </tr>\n",
       "    <tr>\n",
       "      <th>37</th>\n",
       "      <td>recommend</td>\n",
       "      <td>get</td>\n",
       "    </tr>\n",
       "    <tr>\n",
       "      <th>38</th>\n",
       "      <td>them</td>\n",
       "      <td>your</td>\n",
       "    </tr>\n",
       "    <tr>\n",
       "      <th>39</th>\n",
       "      <td>easi</td>\n",
       "      <td>at</td>\n",
       "    </tr>\n",
       "    <tr>\n",
       "      <th>40</th>\n",
       "      <td>perfect</td>\n",
       "      <td>free</td>\n",
       "    </tr>\n",
       "    <tr>\n",
       "      <th>41</th>\n",
       "      <td>look</td>\n",
       "      <td>honest</td>\n",
       "    </tr>\n",
       "    <tr>\n",
       "      <th>42</th>\n",
       "      <td>can</td>\n",
       "      <td>from</td>\n",
       "    </tr>\n",
       "    <tr>\n",
       "      <th>43</th>\n",
       "      <td>had</td>\n",
       "      <td>when</td>\n",
       "    </tr>\n",
       "    <tr>\n",
       "      <th>44</th>\n",
       "      <td>be</td>\n",
       "      <td>just</td>\n",
       "    </tr>\n",
       "    <tr>\n",
       "      <th>45</th>\n",
       "      <td>bought</td>\n",
       "      <td>tri</td>\n",
       "    </tr>\n",
       "    <tr>\n",
       "      <th>46</th>\n",
       "      <td>what</td>\n",
       "      <td>feel</td>\n",
       "    </tr>\n",
       "    <tr>\n",
       "      <th>47</th>\n",
       "      <td>make</td>\n",
       "      <td>they</td>\n",
       "    </tr>\n",
       "    <tr>\n",
       "      <th>48</th>\n",
       "      <td>at</td>\n",
       "      <td>scale</td>\n",
       "    </tr>\n",
       "    <tr>\n",
       "      <th>49</th>\n",
       "      <td>buy</td>\n",
       "      <td>will</td>\n",
       "    </tr>\n",
       "  </tbody>\n",
       "</table>\n",
       "</div>"
      ],
      "text/plain": [
       "    cluster_0 cluster_1\n",
       "0         the       the\n",
       "1         and        it\n",
       "2          it        to\n",
       "3          to       and\n",
       "4        this        my\n",
       "5         for      this\n",
       "6          is        of\n",
       "7          my       for\n",
       "8       great        is\n",
       "9          of        in\n",
       "10         in      that\n",
       "11        use       you\n",
       "12       have   product\n",
       "13       veri       use\n",
       "14       with      have\n",
       "15        was        on\n",
       "16       work      with\n",
       "17    product       was\n",
       "18       love      hair\n",
       "19       they       but\n",
       "20      these        as\n",
       "21       that       not\n",
       "22         on        so\n",
       "23        one      like\n",
       "24        are    review\n",
       "25        you        be\n",
       "26        but      skin\n",
       "27         as       are\n",
       "28       good        or\n",
       "29         so       all\n",
       "30        not    receiv\n",
       "31       well       can\n",
       "32         we       one\n",
       "33       like        me\n",
       "34      would      veri\n",
       "35       just        if\n",
       "36      price       out\n",
       "37  recommend       get\n",
       "38       them      your\n",
       "39       easi        at\n",
       "40    perfect      free\n",
       "41       look    honest\n",
       "42        can      from\n",
       "43        had      when\n",
       "44         be      just\n",
       "45     bought       tri\n",
       "46       what      feel\n",
       "47       make      they\n",
       "48         at     scale\n",
       "49        buy      will"
      ]
     },
     "execution_count": 28,
     "metadata": {},
     "output_type": "execute_result"
    }
   ],
   "source": [
    "top_terms_df.head(n=50)"
   ]
  },
  {
   "cell_type": "markdown",
   "metadata": {},
   "source": [
    "## What's next?\n",
    "\n",
    "- Using cosine similarity between documents to validate these results\n",
    "- Validating model results against a small sample of hand-coded reviews"
   ]
  }
 ],
 "metadata": {
  "anaconda-cloud": {},
  "kernelspec": {
   "display_name": "Python [Root]",
   "language": "python",
   "name": "Python [Root]"
  },
  "language_info": {
   "codemirror_mode": {
    "name": "ipython",
    "version": 3
   },
   "file_extension": ".py",
   "mimetype": "text/x-python",
   "name": "python",
   "nbconvert_exporter": "python",
   "pygments_lexer": "ipython3",
   "version": "3.5.2"
  },
  "nbpresent": {
   "slides": {
    "4b57520b-8675-4e6c-ad18-3c7af824ba78": {
     "id": "4b57520b-8675-4e6c-ad18-3c7af824ba78",
     "prev": "9bc216fb-81e9-4a12-85b5-fb9231f62a70",
     "regions": {
      "f819e4c6-bb3e-4386-b1c8-fcdb858deadf": {
       "attrs": {
        "height": 1,
        "width": 1,
        "x": 0,
        "y": 0
       },
       "content": {
        "cell": "88185689-a63d-484f-b0d3-cf153def4da5",
        "part": "outputs"
       },
       "id": "f819e4c6-bb3e-4386-b1c8-fcdb858deadf"
      }
     }
    },
    "9bc216fb-81e9-4a12-85b5-fb9231f62a70": {
     "id": "9bc216fb-81e9-4a12-85b5-fb9231f62a70",
     "prev": null,
     "regions": {
      "442a3584-7f04-4da4-866e-4b5b924a5634": {
       "attrs": {
        "height": 1,
        "width": 1,
        "x": 0,
        "y": 0
       },
       "content": {
        "cell": "28f6e810-562f-47f6-8002-078fa0dbe644",
        "part": "whole"
       },
       "id": "442a3584-7f04-4da4-866e-4b5b924a5634"
      }
     }
    }
   },
   "themes": {
    "default": "88578ef2-aeac-4084-9b7f-2a4e5adaad1e",
    "theme": {
     "88578ef2-aeac-4084-9b7f-2a4e5adaad1e": {
      "backgrounds": {
       "backgroundColor": {
        "background-color": "backgroundColor",
        "id": "backgroundColor"
       }
      },
      "id": "88578ef2-aeac-4084-9b7f-2a4e5adaad1e",
      "palette": {
       "backgroundColor": {
        "id": "backgroundColor",
        "rgb": [
         17,
         17,
         17
        ]
       },
       "headingColor": {
        "id": "headingColor",
        "rgb": [
         238,
         238,
         238
        ]
       },
       "linkColor": {
        "id": "linkColor",
        "rgb": [
         231,
         173,
         82
        ]
       },
       "mainColor": {
        "id": "mainColor",
        "rgb": [
         238,
         238,
         238
        ]
       }
      },
      "rules": {
       "a": {
        "color": "linkColor"
       },
       "h1": {
        "color": "headingColor",
        "font-family": "Montserrat",
        "font-size": 7
       },
       "h2": {
        "color": "headingColor",
        "font-family": "Montserrat",
        "font-size": 5
       },
       "h3": {
        "color": "headingColor",
        "font-family": "Montserrat",
        "font-size": 3.75
       },
       "h4": {
        "color": "headingColor",
        "font-family": "Montserrat",
        "font-size": 3
       },
       "h5": {
        "color": "headingColor",
        "font-family": "Montserrat"
       },
       "h6": {
        "color": "headingColor",
        "font-family": "Montserrat"
       },
       "h7": {
        "color": "headingColor",
        "font-family": "Montserrat"
       },
       "li": {
        "color": "mainColor",
        "font-family": "Open Sans",
        "font-size": 4
       },
       "p": {
        "color": "mainColor",
        "font-family": "Open Sans",
        "font-size": 4
       }
      },
      "text-base": {
       "color": "mainColor",
       "font-family": "Open Sans",
       "font-size": 4
      }
     }
    }
   }
  }
 },
 "nbformat": 4,
 "nbformat_minor": 0
}
