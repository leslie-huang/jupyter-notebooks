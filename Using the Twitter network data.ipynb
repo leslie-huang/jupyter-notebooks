{
 "cells": [
  {
   "cell_type": "markdown",
   "metadata": {},
   "source": [
    "# Demo: Using Python to graph Twitter network data\n",
    "\n",
    "### Leslie Huang\n",
    "### April 11, 2017"
   ]
  },
  {
   "cell_type": "code",
   "execution_count": 1,
   "metadata": {
    "collapsed": false
   },
   "outputs": [],
   "source": [
    "import networkx as nx\n",
    "import csv\n",
    "import pandas as pd\n",
    "import numpy as np\n",
    "import matplotlib\n",
    "import matplotlib.pyplot as plt"
   ]
  },
  {
   "cell_type": "code",
   "execution_count": 2,
   "metadata": {
    "collapsed": false
   },
   "outputs": [],
   "source": [
    "# Read in the CSV file of edges\n",
    "# edgelist = pd.DataFrame.from_csv(\"/Users/lesliehuang/twitter-ssscraper/edgelist.csv\", index_col = False)\n",
    "\n",
    "edgelist = pd.read_csv(\"/Users/lesliehuang/twitter-ssscraper/edgelist.csv\")"
   ]
  },
  {
   "cell_type": "code",
   "execution_count": 3,
   "metadata": {
    "collapsed": false
   },
   "outputs": [
    {
     "data": {
      "text/html": [
       "<div>\n",
       "<table border=\"1\" class=\"dataframe\">\n",
       "  <thead>\n",
       "    <tr style=\"text-align: right;\">\n",
       "      <th></th>\n",
       "      <th>followee</th>\n",
       "      <th>follower</th>\n",
       "    </tr>\n",
       "  </thead>\n",
       "  <tbody>\n",
       "    <tr>\n",
       "      <th>0</th>\n",
       "      <td>109099419</td>\n",
       "      <td>263359852</td>\n",
       "    </tr>\n",
       "    <tr>\n",
       "      <th>1</th>\n",
       "      <td>109099419</td>\n",
       "      <td>2440562484</td>\n",
       "    </tr>\n",
       "    <tr>\n",
       "      <th>2</th>\n",
       "      <td>109099419</td>\n",
       "      <td>1922131345</td>\n",
       "    </tr>\n",
       "    <tr>\n",
       "      <th>3</th>\n",
       "      <td>109099419</td>\n",
       "      <td>288875304</td>\n",
       "    </tr>\n",
       "    <tr>\n",
       "      <th>4</th>\n",
       "      <td>109099419</td>\n",
       "      <td>1485726001</td>\n",
       "    </tr>\n",
       "  </tbody>\n",
       "</table>\n",
       "</div>"
      ],
      "text/plain": [
       "    followee    follower\n",
       "0  109099419   263359852\n",
       "1  109099419  2440562484\n",
       "2  109099419  1922131345\n",
       "3  109099419   288875304\n",
       "4  109099419  1485726001"
      ]
     },
     "execution_count": 3,
     "metadata": {},
     "output_type": "execute_result"
    }
   ],
   "source": [
    "# Inspect the data\n",
    "\n",
    "edgelist.head()"
   ]
  },
  {
   "cell_type": "code",
   "execution_count": 4,
   "metadata": {
    "collapsed": false
   },
   "outputs": [
    {
     "data": {
      "text/plain": [
       "(142960, 2)"
      ]
     },
     "execution_count": 4,
     "metadata": {},
     "output_type": "execute_result"
    }
   ],
   "source": [
    "edgelist.shape"
   ]
  },
  {
   "cell_type": "code",
   "execution_count": 5,
   "metadata": {
    "collapsed": false
   },
   "outputs": [],
   "source": [
    "# Let's get a sample so this doesn't melt down\n",
    "\n",
    "edgelist = edgelist.sample(100)"
   ]
  },
  {
   "cell_type": "code",
   "execution_count": 6,
   "metadata": {
    "collapsed": false
   },
   "outputs": [],
   "source": [
    "egos = edgelist.followee\n",
    "alters = edgelist.follower"
   ]
  },
  {
   "cell_type": "code",
   "execution_count": 7,
   "metadata": {
    "collapsed": false
   },
   "outputs": [],
   "source": [
    "# Add the edges\n",
    "\n",
    "H = nx.from_pandas_dataframe(edgelist, source = \"followee\", target = \"follower\")"
   ]
  },
  {
   "cell_type": "code",
   "execution_count": 8,
   "metadata": {
    "collapsed": false
   },
   "outputs": [
    {
     "data": {
      "text/plain": [
       "[707635289246687232,\n",
       " 829808360203681793,\n",
       " 787280049670062082,\n",
       " 21308466,\n",
       " 111699460,\n",
       " 57175045,\n",
       " 621275399,\n",
       " 127426312,\n",
       " 1236405782,\n",
       " 739396183,\n",
       " 36215085,\n",
       " 18928144,\n",
       " 2908405779,\n",
       " 16145684,\n",
       " 131323158,\n",
       " 171282905,\n",
       " 8046872,\n",
       " 324054554,\n",
       " 124548380,\n",
       " 160425245,\n",
       " 2732661534,\n",
       " 107107333,\n",
       " 767433248,\n",
       " 104978467,\n",
       " 91029541,\n",
       " 17357094,\n",
       " 4839575079,\n",
       " 284030300,\n",
       " 1153528620,\n",
       " 3373,\n",
       " 1673006126,\n",
       " 1043761,\n",
       " 14550221,\n",
       " 2886372404,\n",
       " 52220726,\n",
       " 7589432,\n",
       " 303341620,\n",
       " 570522682,\n",
       " 208783676,\n",
       " 3191840573,\n",
       " 50768962,\n",
       " 518644022,\n",
       " 2468699718,\n",
       " 14137569,\n",
       " 179994441,\n",
       " 2776321867,\n",
       " 53590352,\n",
       " 419926270,\n",
       " 749325398,\n",
       " 2854720569,\n",
       " 455642712,\n",
       " 50420964,\n",
       " 45245276,\n",
       " 190242406,\n",
       " 2829146646,\n",
       " 28230251,\n",
       " 258402157,\n",
       " 492906350,\n",
       " 729146557,\n",
       " 99390322,\n",
       " 1218922873,\n",
       " 28693117,\n",
       " 16828803,\n",
       " 434717206,\n",
       " 3198373255,\n",
       " 2941452939,\n",
       " 489700493,\n",
       " 1415484558,\n",
       " 263547117,\n",
       " 570273682,\n",
       " 561577621,\n",
       " 6304662,\n",
       " 45463,\n",
       " 50046831,\n",
       " 450634010,\n",
       " 795470076,\n",
       " 383605157,\n",
       " 548243033,\n",
       " 284544935,\n",
       " 2263985064,\n",
       " 36757418,\n",
       " 2571216301,\n",
       " 226020275,\n",
       " 211360694,\n",
       " 283377591,\n",
       " 248842939,\n",
       " 199955133,\n",
       " 578608732,\n",
       " 288220192,\n",
       " 2647290306,\n",
       " 372525674,\n",
       " 82993609,\n",
       " 2924382668,\n",
       " 542355149,\n",
       " 376162509,\n",
       " 163614416,\n",
       " 76710355,\n",
       " 378031031,\n",
       " 744409081,\n",
       " 106299902,\n",
       " 379962842,\n",
       " 63901405,\n",
       " 259949790,\n",
       " 226356705,\n",
       " 16016841,\n",
       " 197827366,\n",
       " 15533800,\n",
       " 14271209,\n",
       " 2942581799,\n",
       " 4287633388,\n",
       " 3018013421,\n",
       " 504315656,\n",
       " 823428349,\n",
       " 1129283312,\n",
       " 20769777,\n",
       " 2667456242,\n",
       " 18702069,\n",
       " 477937716,\n",
       " 21758761,\n",
       " 100650488,\n",
       " 193067769,\n",
       " 2895313916,\n",
       " 3097764093,\n",
       " 910671102,\n",
       " 61271807]"
      ]
     },
     "execution_count": 8,
     "metadata": {},
     "output_type": "execute_result"
    }
   ],
   "source": [
    "H.nodes()"
   ]
  },
  {
   "cell_type": "code",
   "execution_count": 9,
   "metadata": {
    "collapsed": false
   },
   "outputs": [
    {
     "data": {
      "text/plain": [
       "[(707635289246687232, 795470076),\n",
       " (829808360203681793, 2468699718),\n",
       " (787280049670062082, 795470076),\n",
       " (21308466, 99390322),\n",
       " (111699460, 2468699718),\n",
       " (57175045, 14550221),\n",
       " (621275399, 104978467),\n",
       " (621275399, 107107333),\n",
       " (621275399, 197827366),\n",
       " (621275399, 4839575079),\n",
       " (621275399, 2829146646),\n",
       " (621275399, 2941452939),\n",
       " (621275399, 3097764093),\n",
       " (127426312, 131323158),\n",
       " (1236405782, 383605157),\n",
       " (739396183, 749325398),\n",
       " (36215085, 8046872),\n",
       " (18928144, 82993609),\n",
       " (2908405779, 193067769),\n",
       " (16145684, 3191840573),\n",
       " (171282905, 2468699718),\n",
       " (8046872, 2776321867),\n",
       " (8046872, 208783676),\n",
       " (324054554, 21758761),\n",
       " (124548380, 50420964),\n",
       " (160425245, 383605157),\n",
       " (2732661534, 3018013421),\n",
       " (767433248, 53590352),\n",
       " (91029541, 14550221),\n",
       " (17357094, 3373),\n",
       " (284030300, 383605157),\n",
       " (1153528620, 28693117),\n",
       " (1153528620, 284544935),\n",
       " (1673006126, 50420964),\n",
       " (1043761, 14271209),\n",
       " (14550221, 190242406),\n",
       " (14550221, 45463),\n",
       " (14550221, 744409081),\n",
       " (14550221, 570522682),\n",
       " (14550221, 6304662),\n",
       " (14550221, 106299902),\n",
       " (2886372404, 2468699718),\n",
       " (52220726, 795470076),\n",
       " (7589432, 21758761),\n",
       " (303341620, 21758761),\n",
       " (50768962, 1129283312),\n",
       " (518644022, 548243033),\n",
       " (2468699718, 2647290306),\n",
       " (2468699718, 14137569),\n",
       " (2468699718, 16016841),\n",
       " (2468699718, 2667456242),\n",
       " (2468699718, 76710355),\n",
       " (2468699718, 18702069),\n",
       " (2468699718, 2854720569),\n",
       " (2468699718, 477937716),\n",
       " (179994441, 383605157),\n",
       " (53590352, 163614416),\n",
       " (53590352, 570273682),\n",
       " (53590352, 378031031),\n",
       " (53590352, 379962842),\n",
       " (53590352, 199955133),\n",
       " (53590352, 259949790),\n",
       " (53590352, 2571216301),\n",
       " (419926270, 226356705),\n",
       " (419926270, 372525674),\n",
       " (419926270, 61271807),\n",
       " (419926270, 578608732),\n",
       " (419926270, 283377591),\n",
       " (455642712, 795470076),\n",
       " (50420964, 288220192),\n",
       " (50420964, 16828803),\n",
       " (50420964, 263547117),\n",
       " (45245276, 211360694),\n",
       " (28230251, 82993609),\n",
       " (258402157, 795470076),\n",
       " (492906350, 383605157),\n",
       " (729146557, 36757418),\n",
       " (1218922873, 82993609),\n",
       " (434717206, 383605157),\n",
       " (3198373255, 795470076),\n",
       " (489700493, 82993609),\n",
       " (1415484558, 3018013421),\n",
       " (561577621, 795470076),\n",
       " (50046831, 82993609),\n",
       " (450634010, 383605157),\n",
       " (795470076, 4287633388),\n",
       " (795470076, 2924382668),\n",
       " (795470076, 226020275),\n",
       " (795470076, 2895313916),\n",
       " (795470076, 823428349),\n",
       " (383605157, 504315656),\n",
       " (383605157, 542355149),\n",
       " (383605157, 63901405),\n",
       " (383605157, 20769777),\n",
       " (383605157, 100650488),\n",
       " (2263985064, 376162509),\n",
       " (248842939, 82993609),\n",
       " (82993609, 15533800),\n",
       " (2942581799, 3018013421),\n",
       " (21758761, 910671102)]"
      ]
     },
     "execution_count": 9,
     "metadata": {},
     "output_type": "execute_result"
    }
   ],
   "source": [
    "H.edges()"
   ]
  },
  {
   "cell_type": "code",
   "execution_count": 10,
   "metadata": {
    "collapsed": false
   },
   "outputs": [
    {
     "data": {
      "image/png": "[encoded data removed]",
      "text/plain": [
       "<matplotlib.figure.Figure at 0x115d5e0b8>"
      ]
     },
     "metadata": {},
     "output_type": "display_data"
    }
   ],
   "source": [
    "nx.draw(H)\n",
    "plt.show()"
   ]
  },
  {
   "cell_type": "code",
   "execution_count": null,
   "metadata": {
    "collapsed": true
   },
   "outputs": [],
   "source": []
  }
 ],
 "metadata": {
  "anaconda-cloud": {},
  "kernelspec": {
   "display_name": "Python [Root]",
   "language": "python",
   "name": "Python [Root]"
  },
  "language_info": {
   "codemirror_mode": {
    "name": "ipython",
    "version": 3
   },
   "file_extension": ".py",
   "mimetype": "text/x-python",
   "name": "python",
   "nbconvert_exporter": "python",
   "pygments_lexer": "ipython3",
   "version": "3.5.2"
  }
 },
 "nbformat": 4,
 "nbformat_minor": 0
}
