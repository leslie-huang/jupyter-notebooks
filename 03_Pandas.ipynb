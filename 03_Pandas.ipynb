{
 "cells": [
  {
   "cell_type": "markdown",
   "metadata": {},
   "source": [
    "# DS-GA-1007 Programming for Data Science"
   ]
  },
  {
   "cell_type": "markdown",
   "metadata": {
    "nbgrader": {
     "grade": false,
     "solution": false
    }
   },
   "source": [
    "Before you turn this problem in, make sure everything runs as expected. First, **restart the kernel** (in the menubar, select Kernel$\\rightarrow$Restart) and then **run all cells** (in the menubar, select Cell$\\rightarrow$Run All).\n",
    "\n",
    "Any *textual answers* that need to be provided will be marked with \"YOUR ANSWER HERE\". Replace this text with your answer to the question.\n",
    "\n",
    "Any *code answers* that need to be provided will be marked with:\n",
    "\n",
    "```\n",
    "# YOUR CODE HERE\n",
    "raise NotImplementedError()\n",
    "```\n",
    "\n",
    "Replace all this code with your answer to the question. If you do not answer the question, the `NotImplementedError` exception will be raised, which will indicate to the grader that no answer has been supplied.\n",
    "\n",
    "In many cases, code answers will also have some associated test code. You should execute the tests after you have entered your code in order to ensure that your answer is correct. You should not proceed to the next question until your answer is correct.\n",
    "\n",
    "Finally, insert your Net ID and the Net ID's of any collaborators in the cell below."
   ]
  },
  {
   "cell_type": "code",
   "execution_count": 1,
   "metadata": {
    "collapsed": false,
    "nbgrader": {
     "grade": false,
     "solution": false
    }
   },
   "outputs": [],
   "source": [
    "NET_ID = \"lh1036\"\n",
    "COLLABORATORS = \"\""
   ]
  },
  {
   "cell_type": "markdown",
   "metadata": {
    "nbgrader": {
     "grade": false,
     "solution": false
    }
   },
   "source": [
    "---"
   ]
  },
  {
   "cell_type": "markdown",
   "metadata": {},
   "source": [
    "## Assignment 3: Pandas I\n",
    "### Munging GoT data using Pandas\n",
    "This assignment will give you some experience munging data relating to the Game of Thrones. The dataset used in this example and other datasets related to *A Song of Ice and Fire series by George R. R. Martin* can be found [here](https://www.kaggle.com/mylesoneill/game-of-thrones). Download the `character-predictions.csv` file and place it in the same location as the notebook."
   ]
  },
  {
   "cell_type": "markdown",
   "metadata": {},
   "source": [
    "Define a function called `read_characters` that will read the character data from a file into a DataFrame. The first argument of the function should be a string containing name of the file.\n",
    "\n",
    "Make sure that the first column is specified to be the index of the DataFrame."
   ]
  },
  {
   "cell_type": "code",
   "execution_count": 1,
   "metadata": {
    "collapsed": false,
    "deletable": false,
    "nbgrader": {
     "checksum": "6ec046a2a72d4a5ebd4a66a6737a107a",
     "grade": false,
     "grade_id": "Q1A",
     "locked": false,
     "solution": true
    }
   },
   "outputs": [],
   "source": [
    "import pandas as pd\n",
    "import seaborn as sns\n",
    "import matplotlib.pyplot as plt\n",
    "from pandas.util import testing\n",
    "\n",
    "%matplotlib inline\n",
    "\n",
    "def read_characters(filename):\n",
    "    '''\n",
    "    Function to read in a csv file with the name supplied as a string argument. Returns None if non string is passed.\n",
    "    Sources consulted: http://pandas.pydata.org/pandas-docs/stable/generated/pandas.read_csv.html\n",
    "    '''\n",
    "    if type(filename) is str:\n",
    "        df = pd.read_csv(filename, index_col = 0)\n",
    "        return df\n",
    "    else:\n",
    "        return None\n",
    "    \n",
    "characters = read_characters('character-predictions.csv')"
   ]
  },
  {
   "cell_type": "markdown",
   "metadata": {},
   "source": [
    "What is the size of the DataFrame?"
   ]
  },
  {
   "cell_type": "code",
   "execution_count": 2,
   "metadata": {
    "collapsed": false
   },
   "outputs": [
    {
     "data": {
      "text/plain": [
       "(1946, 32)"
      ]
     },
     "execution_count": 2,
     "metadata": {},
     "output_type": "execute_result"
    }
   ],
   "source": [
    "characters.shape"
   ]
  },
  {
   "cell_type": "markdown",
   "metadata": {},
   "source": [
    "The first element indicates the number of rows and the second the number of columns."
   ]
  },
  {
   "cell_type": "code",
   "execution_count": 35,
   "metadata": {
    "collapsed": false
   },
   "outputs": [
    {
     "data": {
      "text/plain": [
       "1946"
      ]
     },
     "execution_count": 35,
     "metadata": {},
     "output_type": "execute_result"
    }
   ],
   "source": [
    "characters.index.shape"
   ]
  },
  {
   "cell_type": "code",
   "execution_count": 4,
   "metadata": {
    "collapsed": false
   },
   "outputs": [
    {
     "data": {
      "text/plain": [
       "(32,)"
      ]
     },
     "execution_count": 4,
     "metadata": {},
     "output_type": "execute_result"
    }
   ],
   "source": [
    "characters.columns.shape"
   ]
  },
  {
   "cell_type": "code",
   "execution_count": 5,
   "metadata": {
    "collapsed": false,
    "deletable": false,
    "nbgrader": {
     "checksum": "5b094464f744bc6bf1cf786496f773e3",
     "grade": true,
     "grade_id": "Q1B",
     "locked": true,
     "points": 1,
     "solution": false
    }
   },
   "outputs": [],
   "source": [
    "testing.assert_equal(characters.shape, (1946, 32))\n",
    "testing.assert_equal(characters.index.name, 'S.No')"
   ]
  },
  {
   "cell_type": "markdown",
   "metadata": {},
   "source": [
    "## What kind of information do we have for each character?\n",
    "Check out column names and data types, notice that columns can have different data types.\n",
    "\n",
    "For a detailed data dictionary please check **Feature selection** section of the dataset website [here](https://got.show/machine-learning-algorithm-predicts-death-game-of-thrones)"
   ]
  },
  {
   "cell_type": "code",
   "execution_count": 6,
   "metadata": {
    "collapsed": false
   },
   "outputs": [
    {
     "data": {
      "text/plain": [
       "actual                 int64:dense\n",
       "pred                   int64:dense\n",
       "alive                float64:dense\n",
       "plod                 float64:dense\n",
       "name                  object:dense\n",
       "title                 object:dense\n",
       "male                   int64:dense\n",
       "culture               object:dense\n",
       "dateOfBirth          float64:dense\n",
       "DateoFdeath          float64:dense\n",
       "mother                object:dense\n",
       "father                object:dense\n",
       "heir                  object:dense\n",
       "house                 object:dense\n",
       "spouse                object:dense\n",
       "book1                  int64:dense\n",
       "book2                  int64:dense\n",
       "book3                  int64:dense\n",
       "book4                  int64:dense\n",
       "book5                  int64:dense\n",
       "isAliveMother        float64:dense\n",
       "isAliveFather        float64:dense\n",
       "isAliveHeir          float64:dense\n",
       "isAliveSpouse        float64:dense\n",
       "isMarried              int64:dense\n",
       "isNoble                int64:dense\n",
       "age                  float64:dense\n",
       "numDeadRelations       int64:dense\n",
       "boolDeadRelations      int64:dense\n",
       "isPopular              int64:dense\n",
       "popularity           float64:dense\n",
       "isAlive                int64:dense\n",
       "dtype: object"
      ]
     },
     "execution_count": 6,
     "metadata": {},
     "output_type": "execute_result"
    }
   ],
   "source": [
    "characters.ftypes"
   ]
  },
  {
   "cell_type": "markdown",
   "metadata": {},
   "source": [
    "You can also get additional information about the DataFrame"
   ]
  },
  {
   "cell_type": "code",
   "execution_count": 8,
   "metadata": {
    "collapsed": false
   },
   "outputs": [
    {
     "name": "stdout",
     "output_type": "stream",
     "text": [
      "<class 'pandas.core.frame.DataFrame'>\n",
      "Int64Index: 1946 entries, 1 to 1946\n",
      "Data columns (total 32 columns):\n",
      "actual               1946 non-null int64\n",
      "pred                 1946 non-null int64\n",
      "alive                1946 non-null float64\n",
      "plod                 1946 non-null float64\n",
      "name                 1946 non-null object\n",
      "title                938 non-null object\n",
      "male                 1946 non-null int64\n",
      "culture              677 non-null object\n",
      "dateOfBirth          433 non-null float64\n",
      "DateoFdeath          444 non-null float64\n",
      "mother               21 non-null object\n",
      "father               26 non-null object\n",
      "heir                 23 non-null object\n",
      "house                1519 non-null object\n",
      "spouse               276 non-null object\n",
      "book1                1946 non-null int64\n",
      "book2                1946 non-null int64\n",
      "book3                1946 non-null int64\n",
      "book4                1946 non-null int64\n",
      "book5                1946 non-null int64\n",
      "isAliveMother        21 non-null float64\n",
      "isAliveFather        26 non-null float64\n",
      "isAliveHeir          23 non-null float64\n",
      "isAliveSpouse        276 non-null float64\n",
      "isMarried            1946 non-null int64\n",
      "isNoble              1946 non-null int64\n",
      "age                  433 non-null float64\n",
      "numDeadRelations     1946 non-null int64\n",
      "boolDeadRelations    1946 non-null int64\n",
      "isPopular            1946 non-null int64\n",
      "popularity           1946 non-null float64\n",
      "isAlive              1946 non-null int64\n",
      "dtypes: float64(10), int64(14), object(8)\n",
      "memory usage: 501.7+ KB\n"
     ]
    }
   ],
   "source": [
    "characters.info()"
   ]
  },
  {
   "cell_type": "markdown",
   "metadata": {},
   "source": [
    "Define a function called `generate_subset` that takes two arguments `characters` and `n` where `characters` is a DataFrame and `n` is the number of rows to extract. The function should generate a new DataFrame containing only the columns `actual` and `predicted` for the first `n` rows, then return this DataFrame transposed."
   ]
  },
  {
   "cell_type": "code",
   "execution_count": 39,
   "metadata": {
    "collapsed": false,
    "deletable": false,
    "nbgrader": {
     "checksum": "3d656f14d47e34a708af86167d525e3b",
     "grade": false,
     "grade_id": "Q2A",
     "locked": false,
     "solution": true
    }
   },
   "outputs": [],
   "source": [
    "def generate_subset(characters, n=3):\n",
    "    '''\n",
    "    Function to return transposed DF of \"actual\" and \"pred\" for specified rows\n",
    "    Sources consulted: http://pandas.pydata.org/pandas-docs/stable/generated/pandas.DataFrame.transpose.html\n",
    "    '''\n",
    "    df = characters[:n][[\"actual\", \"pred\"]]\n",
    "\n",
    "    return pd.DataFrame.transpose(df)"
   ]
  },
  {
   "cell_type": "code",
   "execution_count": 37,
   "metadata": {
    "collapsed": false,
    "deletable": false,
    "nbgrader": {
     "checksum": "65d886380bc5c034935aa919bff42a63",
     "grade": true,
     "grade_id": "Q2B",
     "locked": true,
     "points": 1,
     "solution": false
    }
   },
   "outputs": [],
   "source": [
    "# This assertion should hold\n",
    "data = {\n",
    "    1 : {'actual': 0, 'pred': 0},\n",
    "    2 : {'actual': 1, 'pred': 0},\n",
    "    3 : {'actual': 1, 'pred': 0}\n",
    "}\n",
    "\n",
    "expected = pd.DataFrame(data)\n",
    "expected.columns.name = 'S.No'\n",
    "subset = generate_subset(characters, 3)\n",
    "\n",
    "testing.assert_frame_equal(expected, subset)"
   ]
  },
  {
   "cell_type": "markdown",
   "metadata": {},
   "source": [
    "Define a function called `get_ages` that takes two arguments `characters` and `n` where `characters` is a DataFrame and `n` is the number of rows to extract. The function should generate a new Series containing only the column `ages` for the **last** `n` rows, then return this Series."
   ]
  },
  {
   "cell_type": "code",
   "execution_count": 17,
   "metadata": {
    "collapsed": false,
    "deletable": false,
    "nbgrader": {
     "checksum": "351bdd981dee171dabee5d58d3e2c258",
     "grade": false,
     "grade_id": "Q3A",
     "locked": false,
     "solution": true
    }
   },
   "outputs": [],
   "source": [
    "def get_ages(characters, n=3):\n",
    "    return characters[-n:][\"age\"]"
   ]
  },
  {
   "cell_type": "code",
   "execution_count": 18,
   "metadata": {
    "collapsed": false,
    "deletable": false,
    "nbgrader": {
     "checksum": "a29c6b179719447e2ebe9977a5cb8561",
     "grade": true,
     "grade_id": "Q3B",
     "locked": true,
     "points": 1,
     "solution": false
    }
   },
   "outputs": [],
   "source": [
    "# This assertion should hold\n",
    "series = { 1944: None, 1945: None, 1946: 47.0}\n",
    "\n",
    "expected = pd.Series(series)\n",
    "expected.name = 'age'\n",
    "expected.index.name = 'S.No'\n",
    "column = get_ages(characters, 3)\n",
    "\n",
    "testing.assert_series_equal(expected, column)"
   ]
  },
  {
   "cell_type": "markdown",
   "metadata": {},
   "source": [
    "Define a function called `negative_ages` that takes one argument `characters` that is a DataFrame. The function should return a Series containing only the column `ages` for all rows that have characters with negative ages."
   ]
  },
  {
   "cell_type": "code",
   "execution_count": 20,
   "metadata": {
    "collapsed": false,
    "deletable": false,
    "nbgrader": {
     "checksum": "5cb98b3ceb28bbb7c9e7b873c8a2323b",
     "grade": false,
     "grade_id": "Q4A",
     "locked": false,
     "solution": true
    }
   },
   "outputs": [],
   "source": [
    "def negative_ages(characters):\n",
    "    ser = characters[\"age\"]\n",
    "    return ser[ser < 0]"
   ]
  },
  {
   "cell_type": "code",
   "execution_count": 21,
   "metadata": {
    "collapsed": false,
    "deletable": false,
    "nbgrader": {
     "checksum": "c0e0cb6921848ca14fb1f17e383ef48c",
     "grade": true,
     "grade_id": "Q4B",
     "locked": true,
     "points": 2,
     "solution": false
    }
   },
   "outputs": [],
   "source": [
    "# This assertion should hold\n",
    "series = { 1685: -277980.0, 1869: -298001.0}\n",
    "\n",
    "expected = pd.Series(series)\n",
    "expected.name = 'age'\n",
    "expected.index.name = 'S.No'\n",
    "negative = negative_ages(characters)\n",
    "\n",
    "testing.assert_series_equal(expected, negative)"
   ]
  },
  {
   "cell_type": "markdown",
   "metadata": {},
   "source": [
    "Using your knowledge of how to manipulat DataFrames and Series, replace all the negative ages in the orgingal dataset with the value zero."
   ]
  },
  {
   "cell_type": "code",
   "execution_count": 26,
   "metadata": {
    "collapsed": false,
    "deletable": false,
    "nbgrader": {
     "checksum": "61fd4f104ef4a68a8d20464c092c40fe",
     "grade": false,
     "grade_id": "Q5A",
     "locked": false,
     "solution": true
    }
   },
   "outputs": [],
   "source": [
    "def replace_neg(characters):\n",
    "    ser = characters[\"age\"]\n",
    "    ser[ser < 0] = 0 # change to ser will also change the DF\n",
    "    return characters"
   ]
  },
  {
   "cell_type": "code",
   "execution_count": 30,
   "metadata": {
    "collapsed": false,
    "deletable": false,
    "nbgrader": {
     "checksum": "6d1bdf29bdbe8093fe5bc3c104c8c224",
     "grade": true,
     "grade_id": "Q6A",
     "locked": true,
     "points": 2,
     "solution": false
    }
   },
   "outputs": [],
   "source": [
    "# This assertion should hold\n",
    "testing.assert_equal(len(negative_ages(characters)), 0)"
   ]
  },
  {
   "cell_type": "markdown",
   "metadata": {},
   "source": [
    "Notice that the Series in the *characters_ages* is a reference to the DataFrame column, when we change the DataFrame column, the Series is also changed."
   ]
  },
  {
   "cell_type": "markdown",
   "metadata": {},
   "source": [
    "## Focus on a specific type of data\n",
    "Define a function called `categorical_features` that takes one argument `characters` that is a DataFrame. The function should return an **Index** containing the names of the categorical features in the data."
   ]
  },
  {
   "cell_type": "code",
   "execution_count": 31,
   "metadata": {
    "collapsed": false,
    "deletable": false,
    "nbgrader": {
     "checksum": "0920d59576c84fa5261a54b13e604574",
     "grade": false,
     "grade_id": "Q7A",
     "locked": false,
     "solution": true
    }
   },
   "outputs": [],
   "source": [
    "def categorical_features(characters):\n",
    "    '''\n",
    "    Sources consulted: http://pandas.pydata.org/pandas-docs/stable/generated/pandas.DataFrame.select_dtypes.html\n",
    "    http://pandas.pydata.org/pandas-docs/stable/indexing.html\n",
    "    http://pandas.pydata.org/pandas-docs/stable/generated/pandas.Index.html?highlight=index\n",
    "    '''\n",
    "    \n",
    "    categoricals = characters.select_dtypes(include=[\"object\"])[0:0]\n",
    "    ind = pd.Index(categoricals.columns.values)\n",
    "    \n",
    "    return ind"
   ]
  },
  {
   "cell_type": "code",
   "execution_count": 32,
   "metadata": {
    "collapsed": false,
    "deletable": false,
    "nbgrader": {
     "checksum": "9feb25c59ae8892c4668b1b24545aa71",
     "grade": true,
     "grade_id": "Q7B",
     "locked": true,
     "points": 2,
     "solution": false
    }
   },
   "outputs": [],
   "source": [
    "categorical = pd.Index([u'name', u'title', u'culture', u'mother', u'father', u'heir', u'house', u'spouse'])\n",
    "testing.assert_index_equal(categorical, categorical_features(characters))"
   ]
  },
  {
   "cell_type": "markdown",
   "metadata": {},
   "source": [
    "Define a function called `categorical_counts` that takes one argument `characters` that is a DataFrame. Using the function you defined previously, this function should return a Series containing the number of unique values in each categorical feature, sorted in descending order by values (features with more distinct elements on top)."
   ]
  },
  {
   "cell_type": "code",
   "execution_count": 33,
   "metadata": {
    "collapsed": false,
    "deletable": false,
    "nbgrader": {
     "checksum": "ddd8774d5d347f7f8f5ebc832ff0cc6b",
     "grade": false,
     "grade_id": "Q8A",
     "locked": false,
     "solution": true
    }
   },
   "outputs": [],
   "source": [
    "def categorical_counts(characters):    \n",
    "    '''\n",
    "    Function to return a Series of unique values for categorical vars from given DF.\n",
    "    Calls categorical_features() function.\n",
    "    Sources consulted:\n",
    "    http://pandas.pydata.org/pandas-docs/stable/basics.html\n",
    "    http://pandas.pydata.org/pandas-docs/stable/generated/pandas.Series.value_counts.html\n",
    "    http://pandas.pydata.org/pandas-docs/stable/generated/pandas.Series.html\n",
    "    '''\n",
    "    \n",
    "    categoricals = characters[categorical_features(characters)]\n",
    "    unique_ser = pd.Series()\n",
    "    \n",
    "    for column in categoricals:\n",
    "        unique_ser[column] = len(categoricals[column].value_counts())\n",
    "        \n",
    "    # return Series sorted and (per test code) converted to float64\n",
    "    return unique_ser.sort_values(ascending=False).astype(float) "
   ]
  },
  {
   "cell_type": "code",
   "execution_count": 34,
   "metadata": {
    "collapsed": false,
    "deletable": false,
    "nbgrader": {
     "checksum": "2b21c9696db1638057a7565c110d0922",
     "grade": true,
     "grade_id": "Q8B",
     "locked": true,
     "points": 4,
     "solution": false
    }
   },
   "outputs": [],
   "source": [
    "# This assertion should hold\n",
    "series = {'name': 1946.0, 'house': 347.0, 'title': 262.0, 'spouse': 254.0,\n",
    "          'culture': 64.0, 'heir': 22.0, 'father': 20.0, 'mother': 17.0}\n",
    "\n",
    "expected = pd.Series(series).sort_values(ascending=False)\n",
    "testing.assert_series_equal(expected, categorical_counts(characters))"
   ]
  },
  {
   "cell_type": "markdown",
   "metadata": {},
   "source": [
    "We will conclude this exercise next week by analyzing the data to determine some interesting facts."
   ]
  }
 ],
 "metadata": {
  "anaconda-cloud": {},
  "kernelspec": {
   "display_name": "Python [Root]",
   "language": "python",
   "name": "Python [Root]"
  },
  "language_info": {
   "codemirror_mode": {
    "name": "ipython",
    "version": 3
   },
   "file_extension": ".py",
   "mimetype": "text/x-python",
   "name": "python",
   "nbconvert_exporter": "python",
   "pygments_lexer": "ipython3",
   "version": "3.5.2"
  }
 },
 "nbformat": 4,
 "nbformat_minor": 0
}
