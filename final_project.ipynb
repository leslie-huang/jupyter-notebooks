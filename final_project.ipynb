{
 "cells": [
  {
   "cell_type": "markdown",
   "metadata": {},
   "source": [
    "Leslie Huang (lh1036)\n",
    "\n",
    "Programming for Data Science, Fall 2016\n",
    "\n",
    "December 16, 2016\n",
    "\n",
    "# Final Project: Visualizing NYC restaurant health inspection grades\n",
    "\n",
    "# User Guide\n",
    "\n",
    "## Introduction\n",
    "\n",
    "Welcome to the Restaurant Grades visualizer. This project combines two open NYC datasets, the DOHMH New York City Restaurant Inspection Results and the Sidewalk Café Licenses and Applications, to allow users to request and view graphical visualizations of the inspection letter grades and violation scores for *restaurants*, *cuisine categories* (predefined by the DOHMH), and *zip code*. Results can be disaggregated by borough, sidewalk cafe type, or (in the case of zip code) cuisine type.\n",
    "\n",
    "### Data\n",
    "\n",
    "The datasets are continuously updated in real time and the latest versions are available at:\n",
    "\n",
    "- https://data.cityofnewyork.us/Health/DOHMH-New-York-City-Restaurant-Inspection-Results/xx67-kt59\n",
    "\n",
    "- https://data.cityofnewyork.us/Business/Sidewalk-Caf-Licenses-and-Applications/qcdj-rwhu\n",
    "\n",
    "In the repository that contains the program, you will find a zip file with the Inspection Results dataset in CSV format (original size: 160 MB) dated 11/27/16, and the Sidewalk Cafe Licenses dataset in CSV format (not compressed) dated 12/2/2016. The Inspection Results dataset contains more than 437,000 inspection records and the Sidewalk Cafe Licenses contains approximately 1,500 records."
   ]
  },
  {
   "cell_type": "markdown",
   "metadata": {},
   "source": [
    "### What's inside the box\n",
    "\n",
    "Download the program repository onto your local machine. It contains the following:\n",
    "\n",
    "- Data:\n",
    "     - DOHMH_New_York_City_Restaurant_Inspection_Results.csv.zip: compressed archive of the Inspection Results\n",
    "     - Sidewalk_Caf__Licenses_and_Applications.csv: Sidewalk Cafe Licenses results\n",
    "     \n",
    "- main.py: This executes the main program\n",
    "- datacleaning.py: Datacleaning program that generates a cleaned CSV when run on its own; passes a DataFrame when called in the main.py file\n",
    "- exceptions.py: Defines custom exceptions\n",
    "- userinput.py: Functions for handling and validating user inputs\n",
    "- /sample output: Directory containing example graph output in each of the three categories\n",
    "- /inspectiongrades:\n",
    "    - visualizer.py: Visualizer superclass from which other data visualizatioin classes inherit\n",
    "    - zipvisualizer.py: Methods and attributes of the class that handles data and generates graphs for zipcodes\n",
    "    - cuisinevisualizer.py: Methods and attributes of the class that handles data and generates graphs for cuisine categories\n",
    "    - restaurantvisualizer.py: Methods and attributes of the class that handles data and generates graphs for the searching by restaurant name\n",
    "- Tests:\n",
    "    - test_userinput.py\n",
    "    - test_datacleaning.py\n",
    "    - /tests_\n",
    "        - test_visualizer.py\n",
    "        - test_zipvisualizer.py\n",
    "        - test_cuisinevisualizer.py\n",
    "        - test_restaurantvisualizer.py\n"
   ]
  },
  {
   "cell_type": "markdown",
   "metadata": {},
   "source": [
    "### Installing and running the program\n",
    "- Open a shell program\n",
    "- Navigate to the local program containing the repository\n",
    "- Run main.py in the shell\n",
    "- Please be patient! The data will take a while to load. \n",
    "\n",
    "![ ](run.png)"
   ]
  },
  {
   "cell_type": "markdown",
   "metadata": {},
   "source": [
    "### Interacting with the program\n",
    "\n",
    "There are two levels of interaction: \n",
    "- a) Choosing a \"browse\" category: browse by restaurant name, zip code, or cuisine category\n",
    "\n",
    "![ ](prompt1.png)\n",
    "\n",
    "- b) After choosing the browse category, entering the name, zip code, or cuisine category name you want to search for\n",
    "\n",
    "![ ](prompt2.png)\n",
    "\n",
    "**Graphs will be saved in the repository where the program is located.**"
   ]
  },
  {
   "cell_type": "markdown",
   "metadata": {},
   "source": [
    "### FYI:\n",
    "\n",
    "- Searches are not case sensitive\n",
    "- If the restaurant name, category, or zip code does not exist in the dataset, the program will prompt you to try again\n",
    "- Please note that the program will not find a restaurant name that is misspelled or different from \"official\" name listed in the dataset, or because of data scarcity (e.g. if a newly opened restaurant has only been inspected a few times)\n",
    "- Results by restaurant name are returned for all restaurants with the same name\n",
    "\n",
    "![ ](cantfindrest.png)\n",
    "\n",
    "- Enter \"finish\" if you want to quit"
   ]
  },
  {
   "cell_type": "markdown",
   "metadata": {},
   "source": [
    "# Sample output: restaurant name"
   ]
  },
  {
   "cell_type": "markdown",
   "metadata": {},
   "source": [
    "![ ](pret.png)"
   ]
  },
  {
   "cell_type": "markdown",
   "metadata": {},
   "source": [
    "![](xian.png)"
   ]
  },
  {
   "cell_type": "markdown",
   "metadata": {},
   "source": [
    "# Sample output: cuisine category"
   ]
  },
  {
   "cell_type": "markdown",
   "metadata": {},
   "source": [
    "![](sample1.png)"
   ]
  },
  {
   "cell_type": "markdown",
   "metadata": {},
   "source": [
    "![](japanese.png)"
   ]
  },
  {
   "cell_type": "markdown",
   "metadata": {},
   "source": [
    "![](icecream.png)"
   ]
  },
  {
   "cell_type": "markdown",
   "metadata": {},
   "source": [
    "![](sandwich.png)"
   ]
  },
  {
   "cell_type": "markdown",
   "metadata": {},
   "source": [
    "![](greek.png)"
   ]
  },
  {
   "cell_type": "markdown",
   "metadata": {},
   "source": [
    "# Sample output: zipcode"
   ]
  },
  {
   "cell_type": "markdown",
   "metadata": {},
   "source": [
    "![](10027.png)"
   ]
  },
  {
   "cell_type": "markdown",
   "metadata": {
    "collapsed": true
   },
   "source": [
    "![](10001.png)"
   ]
  },
  {
   "cell_type": "markdown",
   "metadata": {},
   "source": [
    "![](11211.png)"
   ]
  },
  {
   "cell_type": "markdown",
   "metadata": {},
   "source": [
    "### Unit tests\n",
    "- Unit tests are grouped by the module/program for which they are written:\n",
    "    - test_userinput.py\n",
    "    - test_datacleaning.py\n",
    "    - /tests_\n",
    "        - test_visualizer.py\n",
    "        - test_zipvisualizer.py\n",
    "        - test_cuisinevisualizer.py\n",
    "        - test_restaurantvisualizer.py\n",
    "\n",
    "All of these tests can be run using \"python3 -m unittest discover -v\"."
   ]
  }
 ],
 "metadata": {
  "anaconda-cloud": {},
  "kernelspec": {
   "display_name": "Python [Root]",
   "language": "python",
   "name": "Python [Root]"
  },
  "language_info": {
   "codemirror_mode": {
    "name": "ipython",
    "version": 3
   },
   "file_extension": ".py",
   "mimetype": "text/x-python",
   "name": "python",
   "nbconvert_exporter": "python",
   "pygments_lexer": "ipython3",
   "version": "3.5.2"
  }
 },
 "nbformat": 4,
 "nbformat_minor": 0
}
