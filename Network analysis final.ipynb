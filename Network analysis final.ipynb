{
 "cells": [
  {
   "cell_type": "code",
   "execution_count": 1,
   "metadata": {
    "collapsed": true
   },
   "outputs": [],
   "source": [
    "# Leslie Huang\n",
    "# Network Analysis\n",
    "\n",
    "from datetime import datetime\n",
    "import json\n",
    "import math\n",
    "import matplotlib.pyplot as plt\n",
    "import nltk\n",
    "import numpy as np\n",
    "from odo import odo, discover, resource\n",
    "import pandas as pd\n",
    "import pytz\n",
    "from sklearn import linear_model\n",
    "import statsmodels.formula.api as sm\n",
    "from statsmodels.iolib.summary2 import summary_col\n",
    "import time"
   ]
  },
  {
   "cell_type": "code",
   "execution_count": 2,
   "metadata": {
    "collapsed": false
   },
   "outputs": [],
   "source": [
    "data = odo(\"mongodb://localhost/my_mongo::wm_tweets\", \n",
    "            pd.DataFrame, \n",
    "            dshape = \"var * {id_str: string, created_at: string, lang: string, user_statuses_count: int32, user_friends_count: int32, text: string, user_verified: bool, user_followers_count: int32, num_retweets: int32, hashtags: var * string, includes_url: bool, user_created_at: string,user_id_str: string, is_a_retweet: bool, includes_media: bool}\")\n",
    "\n",
    "# id_str is user ID\n",
    "# drop MongoDB _id var\n",
    "# Note: If tweet is a retweet:\n",
    "# user_id_str, user_statuses_count, user_friends_count, user_followers_count will be for the user retweeting (NOT the original user)\n",
    "# id_str will be for the ORIGINAL tweet"
   ]
  },
  {
   "cell_type": "code",
   "execution_count": 3,
   "metadata": {
    "collapsed": false
   },
   "outputs": [],
   "source": [
    "# Exclude low activity and new accounts: Those that have fewer than 5 followers or 5 statuses or were created within the last week\n",
    "\n",
    "data = data[(data[\"user_followers_count\"] > 5) & (data[\"user_statuses_count\"] > 5)]"
   ]
  },
  {
   "cell_type": "code",
   "execution_count": 4,
   "metadata": {
    "collapsed": false
   },
   "outputs": [],
   "source": [
    "# Convert timestamps\n",
    "\n",
    "time_columns = [\"created_at\", \"user_created_at\"]\n",
    "\n",
    "for column in time_columns:\n",
    "    data[column] = data[column].apply(lambda x: datetime.strptime(x,'%a %b %d %H:%M:%S +0000 %Y').replace(tzinfo = pytz.UTC))"
   ]
  },
  {
   "cell_type": "code",
   "execution_count": 5,
   "metadata": {
    "collapsed": false
   },
   "outputs": [],
   "source": [
    "# Exclude accounts created 1 week before the march\n",
    "\n",
    "cutoff_date = datetime.strptime(\"Fri Jan 13 00:00:00 +0000 2017\",'%a %b %d %H:%M:%S +0000 %Y').replace(tzinfo = pytz.UTC)\n",
    "\n",
    "data = data[data[\"user_created_at\"] < cutoff_date]"
   ]
  },
  {
   "cell_type": "code",
   "execution_count": 28,
   "metadata": {
    "collapsed": true
   },
   "outputs": [],
   "source": [
    "data[\"hashtags_lc\"] = data[\"hashtags\"].apply(lambda hashtaglist: [tag.lower() for tag in hashtaglist])"
   ]
  },
  {
   "cell_type": "code",
   "execution_count": 6,
   "metadata": {
    "collapsed": false
   },
   "outputs": [],
   "source": [
    "data[\"num_hashtags\"] = data[\"hashtags\"].apply(lambda x: len(x))"
   ]
  },
  {
   "cell_type": "code",
   "execution_count": 7,
   "metadata": {
    "collapsed": false
   },
   "outputs": [],
   "source": [
    "columns_to_log = [\"user_followers_count\", \"num_retweets\", \"user_statuses_count\", \"num_hashtags\"]\n",
    "\n",
    "# Smoothing: Take log of each numerical val + 1 (to accommodate with zeroes)\n",
    "\n",
    "for column in columns_to_log:\n",
    "    new_col_name = \"{}_log\".format(column)\n",
    "    data[new_col_name] = data[column].apply(lambda x: math.log(x + 1))"
   ]
  },
  {
   "cell_type": "code",
   "execution_count": 8,
   "metadata": {
    "collapsed": false
   },
   "outputs": [],
   "source": [
    "# Do not drop columns that appear to be duplicates\n",
    "\n",
    "# data = data.drop_duplicates(subset = ['id_str', 'created_at', 'lang', 'statuses_count', 'friends_count', 'text', 'in_reply_to_status_id', 'verified', 'followers_count', 'num_retweets', 'followers_count_log', 'num_retweets_log', 'statuses_count_log'])"
   ]
  },
  {
   "cell_type": "code",
   "execution_count": 9,
   "metadata": {
    "collapsed": false
   },
   "outputs": [
    {
     "name": "stdout",
     "output_type": "stream",
     "text": [
      "id_str                                   object\n",
      "created_at                  datetime64[ns, UTC]\n",
      "lang                                     object\n",
      "user_statuses_count                       int32\n",
      "user_friends_count                        int32\n",
      "text                                     object\n",
      "user_verified                              bool\n",
      "user_followers_count                      int32\n",
      "num_retweets                              int32\n",
      "hashtags                                 object\n",
      "includes_url                               bool\n",
      "user_created_at             datetime64[ns, UTC]\n",
      "user_id_str                              object\n",
      "is_a_retweet                               bool\n",
      "includes_media                             bool\n",
      "num_hashtags                              int64\n",
      "user_followers_count_log                float64\n",
      "num_retweets_log                        float64\n",
      "user_statuses_count_log                 float64\n",
      "num_hashtags_log                        float64\n",
      "dtype: object\n"
     ]
    }
   ],
   "source": [
    "print(data.dtypes)"
   ]
  },
  {
   "cell_type": "code",
   "execution_count": 10,
   "metadata": {
    "collapsed": false
   },
   "outputs": [
    {
     "name": "stdout",
     "output_type": "stream",
     "text": [
      "['id_str' 'created_at' 'lang' 'user_statuses_count' 'user_friends_count'\n",
      " 'text' 'user_verified' 'user_followers_count' 'num_retweets' 'hashtags'\n",
      " 'includes_url' 'user_created_at' 'user_id_str' 'is_a_retweet'\n",
      " 'includes_media' 'num_hashtags' 'user_followers_count_log'\n",
      " 'num_retweets_log' 'user_statuses_count_log' 'num_hashtags_log']\n"
     ]
    }
   ],
   "source": [
    "print(data.columns.values)"
   ]
  },
  {
   "cell_type": "code",
   "execution_count": 11,
   "metadata": {
    "collapsed": false
   },
   "outputs": [
    {
     "data": {
      "text/html": [
       "<div>\n",
       "<table border=\"1\" class=\"dataframe\">\n",
       "  <thead>\n",
       "    <tr style=\"text-align: right;\">\n",
       "      <th></th>\n",
       "      <th>id_str</th>\n",
       "      <th>created_at</th>\n",
       "      <th>lang</th>\n",
       "      <th>user_statuses_count</th>\n",
       "      <th>user_friends_count</th>\n",
       "      <th>text</th>\n",
       "      <th>user_verified</th>\n",
       "      <th>user_followers_count</th>\n",
       "      <th>num_retweets</th>\n",
       "      <th>hashtags</th>\n",
       "      <th>includes_url</th>\n",
       "      <th>user_created_at</th>\n",
       "      <th>user_id_str</th>\n",
       "      <th>is_a_retweet</th>\n",
       "      <th>includes_media</th>\n",
       "      <th>num_hashtags</th>\n",
       "      <th>user_followers_count_log</th>\n",
       "      <th>num_retweets_log</th>\n",
       "      <th>user_statuses_count_log</th>\n",
       "      <th>num_hashtags_log</th>\n",
       "    </tr>\n",
       "  </thead>\n",
       "  <tbody>\n",
       "    <tr>\n",
       "      <th>9553807</th>\n",
       "      <td>823394839303778304</td>\n",
       "      <td>2017-01-23 05:00:02+00:00</td>\n",
       "      <td>en</td>\n",
       "      <td>987</td>\n",
       "      <td>229</td>\n",
       "      <td>Steve Buscemi poses with a man who turned his ...</td>\n",
       "      <td>False</td>\n",
       "      <td>101</td>\n",
       "      <td>3605</td>\n",
       "      <td>[WomensMarch]</td>\n",
       "      <td>False</td>\n",
       "      <td>2015-05-24 19:12:32+00:00</td>\n",
       "      <td>3296981266</td>\n",
       "      <td>True</td>\n",
       "      <td>True</td>\n",
       "      <td>1</td>\n",
       "      <td>4.624973</td>\n",
       "      <td>8.190354</td>\n",
       "      <td>6.895683</td>\n",
       "      <td>0.693147</td>\n",
       "    </tr>\n",
       "    <tr>\n",
       "      <th>9553808</th>\n",
       "      <td>823394838909288448</td>\n",
       "      <td>2017-01-23 05:00:02+00:00</td>\n",
       "      <td>en</td>\n",
       "      <td>41837</td>\n",
       "      <td>155</td>\n",
       "      <td>RT @sydnerain: Alright. Here is one indigenous...</td>\n",
       "      <td>False</td>\n",
       "      <td>100</td>\n",
       "      <td>0</td>\n",
       "      <td>[WomensMarch]</td>\n",
       "      <td>False</td>\n",
       "      <td>2014-08-18 02:30:50+00:00</td>\n",
       "      <td>2741039840</td>\n",
       "      <td>False</td>\n",
       "      <td>False</td>\n",
       "      <td>1</td>\n",
       "      <td>4.615121</td>\n",
       "      <td>0.000000</td>\n",
       "      <td>10.641560</td>\n",
       "      <td>0.693147</td>\n",
       "    </tr>\n",
       "    <tr>\n",
       "      <th>9553809</th>\n",
       "      <td>823394839496654848</td>\n",
       "      <td>2017-01-23 05:00:02+00:00</td>\n",
       "      <td>en</td>\n",
       "      <td>948</td>\n",
       "      <td>127</td>\n",
       "      <td>RT @highlightcult: Rihanna is marching at the ...</td>\n",
       "      <td>False</td>\n",
       "      <td>177</td>\n",
       "      <td>0</td>\n",
       "      <td>[WomensMarch]</td>\n",
       "      <td>False</td>\n",
       "      <td>2011-07-16 02:19:42+00:00</td>\n",
       "      <td>336302350</td>\n",
       "      <td>False</td>\n",
       "      <td>True</td>\n",
       "      <td>1</td>\n",
       "      <td>5.181784</td>\n",
       "      <td>0.000000</td>\n",
       "      <td>6.855409</td>\n",
       "      <td>0.693147</td>\n",
       "    </tr>\n",
       "    <tr>\n",
       "      <th>9553810</th>\n",
       "      <td>823394838909288448</td>\n",
       "      <td>2017-01-23 05:00:02+00:00</td>\n",
       "      <td>en</td>\n",
       "      <td>41837</td>\n",
       "      <td>155</td>\n",
       "      <td>RT @sydnerain: Alright. Here is one indigenous...</td>\n",
       "      <td>False</td>\n",
       "      <td>100</td>\n",
       "      <td>0</td>\n",
       "      <td>[WomensMarch]</td>\n",
       "      <td>False</td>\n",
       "      <td>2014-08-18 02:30:50+00:00</td>\n",
       "      <td>2741039840</td>\n",
       "      <td>False</td>\n",
       "      <td>False</td>\n",
       "      <td>1</td>\n",
       "      <td>4.615121</td>\n",
       "      <td>0.000000</td>\n",
       "      <td>10.641560</td>\n",
       "      <td>0.693147</td>\n",
       "    </tr>\n",
       "    <tr>\n",
       "      <th>9553811</th>\n",
       "      <td>823394839496654848</td>\n",
       "      <td>2017-01-23 05:00:02+00:00</td>\n",
       "      <td>en</td>\n",
       "      <td>948</td>\n",
       "      <td>127</td>\n",
       "      <td>RT @highlightcult: Rihanna is marching at the ...</td>\n",
       "      <td>False</td>\n",
       "      <td>177</td>\n",
       "      <td>0</td>\n",
       "      <td>[WomensMarch]</td>\n",
       "      <td>False</td>\n",
       "      <td>2011-07-16 02:19:42+00:00</td>\n",
       "      <td>336302350</td>\n",
       "      <td>False</td>\n",
       "      <td>True</td>\n",
       "      <td>1</td>\n",
       "      <td>5.181784</td>\n",
       "      <td>0.000000</td>\n",
       "      <td>6.855409</td>\n",
       "      <td>0.693147</td>\n",
       "    </tr>\n",
       "  </tbody>\n",
       "</table>\n",
       "</div>"
      ],
      "text/plain": [
       "                     id_str                created_at lang  \\\n",
       "9553807  823394839303778304 2017-01-23 05:00:02+00:00   en   \n",
       "9553808  823394838909288448 2017-01-23 05:00:02+00:00   en   \n",
       "9553809  823394839496654848 2017-01-23 05:00:02+00:00   en   \n",
       "9553810  823394838909288448 2017-01-23 05:00:02+00:00   en   \n",
       "9553811  823394839496654848 2017-01-23 05:00:02+00:00   en   \n",
       "\n",
       "         user_statuses_count  user_friends_count  \\\n",
       "9553807                  987                 229   \n",
       "9553808                41837                 155   \n",
       "9553809                  948                 127   \n",
       "9553810                41837                 155   \n",
       "9553811                  948                 127   \n",
       "\n",
       "                                                      text user_verified  \\\n",
       "9553807  Steve Buscemi poses with a man who turned his ...         False   \n",
       "9553808  RT @sydnerain: Alright. Here is one indigenous...         False   \n",
       "9553809  RT @highlightcult: Rihanna is marching at the ...         False   \n",
       "9553810  RT @sydnerain: Alright. Here is one indigenous...         False   \n",
       "9553811  RT @highlightcult: Rihanna is marching at the ...         False   \n",
       "\n",
       "         user_followers_count  num_retweets       hashtags includes_url  \\\n",
       "9553807                   101          3605  [WomensMarch]        False   \n",
       "9553808                   100             0  [WomensMarch]        False   \n",
       "9553809                   177             0  [WomensMarch]        False   \n",
       "9553810                   100             0  [WomensMarch]        False   \n",
       "9553811                   177             0  [WomensMarch]        False   \n",
       "\n",
       "                  user_created_at user_id_str is_a_retweet includes_media  \\\n",
       "9553807 2015-05-24 19:12:32+00:00  3296981266         True           True   \n",
       "9553808 2014-08-18 02:30:50+00:00  2741039840        False          False   \n",
       "9553809 2011-07-16 02:19:42+00:00   336302350        False           True   \n",
       "9553810 2014-08-18 02:30:50+00:00  2741039840        False          False   \n",
       "9553811 2011-07-16 02:19:42+00:00   336302350        False           True   \n",
       "\n",
       "         num_hashtags  user_followers_count_log  num_retweets_log  \\\n",
       "9553807             1                  4.624973          8.190354   \n",
       "9553808             1                  4.615121          0.000000   \n",
       "9553809             1                  5.181784          0.000000   \n",
       "9553810             1                  4.615121          0.000000   \n",
       "9553811             1                  5.181784          0.000000   \n",
       "\n",
       "         user_statuses_count_log  num_hashtags_log  \n",
       "9553807                 6.895683          0.693147  \n",
       "9553808                10.641560          0.693147  \n",
       "9553809                 6.855409          0.693147  \n",
       "9553810                10.641560          0.693147  \n",
       "9553811                 6.855409          0.693147  "
      ]
     },
     "execution_count": 11,
     "metadata": {},
     "output_type": "execute_result"
    }
   ],
   "source": [
    "data.tail()"
   ]
  },
  {
   "cell_type": "code",
   "execution_count": 12,
   "metadata": {
    "collapsed": false
   },
   "outputs": [],
   "source": [
    "# for column in data.columns.values.tolist():\n",
    "#     print(data[column].describe())"
   ]
  },
  {
   "cell_type": "code",
   "execution_count": 13,
   "metadata": {
    "collapsed": false
   },
   "outputs": [
    {
     "data": {
      "text/plain": [
       "1     7183244\n",
       "2     1458366\n",
       "3      434964\n",
       "4      151088\n",
       "5       67297\n",
       "6       34229\n",
       "7       30283\n",
       "8        8275\n",
       "9        2771\n",
       "10       1863\n",
       "11        416\n",
       "12        192\n",
       "13         95\n",
       "15         72\n",
       "14         24\n",
       "16          6\n",
       "20          6\n",
       "19          2\n",
       "17          2\n",
       "Name: num_hashtags, dtype: int64"
      ]
     },
     "execution_count": 13,
     "metadata": {},
     "output_type": "execute_result"
    }
   ],
   "source": [
    "data[\"num_hashtags\"].value_counts()"
   ]
  },
  {
   "cell_type": "code",
   "execution_count": 29,
   "metadata": {
    "collapsed": false
   },
   "outputs": [],
   "source": [
    "# Find out the most popular hashtags (case insensitive)\n",
    "all_hashtags = []\n",
    "all_hashtags.append([hashtag_list for hashtag_list in data[\"hashtags_lc\"]])\n",
    "all_hashtags = [val for sublist in all_hashtags for val in sublist]\n",
    "all_hashtags = [val for sublist in all_hashtags for val in sublist]\n",
    "all_hashtags = pd.Series(all_hashtags)"
   ]
  },
  {
   "cell_type": "code",
   "execution_count": 30,
   "metadata": {
    "collapsed": false
   },
   "outputs": [],
   "source": [
    "hashtag_freq = all_hashtags.value_counts()"
   ]
  },
  {
   "cell_type": "code",
   "execution_count": 32,
   "metadata": {
    "collapsed": false
   },
   "outputs": [
    {
     "data": {
      "text/plain": [
       "womensmarch                   8938327\n",
       "womensmarchonwashington        451702\n",
       "whyimarch                      205358\n",
       "womensrights                   139814\n",
       "icantkeepquiet                  88776\n",
       "womensmarchlondon               69135\n",
       "theresistance                   66389\n",
       "trump                           66211\n",
       "inauguration                    61877\n",
       "womensmarchla                   56446\n",
       "womensmarchnyc                  46220\n",
       "maga                            30169\n",
       "resist                          28664\n",
       "themarchcontinues               28619\n",
       "nastywoman                      27630\n",
       "sobadevenintrovertsarehere      26981\n",
       "womensmarchatx                  22953\n",
       "womensmarchonaustin             22341\n",
       "spicerfacts                     21312\n",
       "notmypresident                  21068\n",
       "equality                        20564\n",
       "amjoy                           20413\n",
       "hijab                           19946\n",
       "lovetrumpshate                  19324\n",
       "madonna                         17940\n",
       "whywemarch                      17091\n",
       "trumpleaks                      16945\n",
       "alternativefacts                16674\n",
       "womensmarchsf                   16655\n",
       "strongertogether                16262\n",
       "dc                              16009\n",
       "womenwhohaveinspiredme          15018\n",
       "nastywomen                      14562\n",
       "london                          14555\n",
       "womensrightsarehumanrights      14522\n",
       "women                           14039\n",
       "resistance                      13160\n",
       "retweet                         13023\n",
       "trumptaxesmarch                 12124\n",
       "humanrights                     11572\n",
       "indigenouswomenrise             11349\n",
       "wmwart                          10772\n",
       "equalrights                     10556\n",
       "imarchfor                       10474\n",
       "indigenousrising                10184\n",
       "washington                      10182\n",
       "womansmarch                     10020\n",
       "equalityforall                   9972\n",
       "feminism                         9471\n",
       "dtype: int64"
      ]
     },
     "execution_count": 32,
     "metadata": {},
     "output_type": "execute_result"
    }
   ],
   "source": [
    "hashtag_freq[0:49]"
   ]
  },
  {
   "cell_type": "code",
   "execution_count": 33,
   "metadata": {
    "collapsed": false
   },
   "outputs": [
    {
     "data": {
      "text/plain": [
       "marchonwashington        8435\n",
       "marchonmain              8412\n",
       "solidarity               8243\n",
       "nyc                      8203\n",
       "bestfanarmy              8196\n",
       "arabamerican             8133\n",
       "palestinianamerican      8101\n",
       "feministtodolist         7950\n",
       "model                    7765\n",
       "nataliaborges            7739\n",
       "suit                     7739\n",
       "malanbreton              7739\n",
       "leahsnow                 7739\n",
       "shanelavancher           7739\n",
       "세계여성_공동행진_서울             7687\n",
       "iwillgoout               7520\n",
       "blacklivesmatter         7495\n",
       "sundance                 7488\n",
       "resisttrump              7314\n",
       "hearourvoice             7211\n",
       "presidenttrump           7170\n",
       "wmnyc                    7155\n",
       "westandunited            7114\n",
       "nycwomensmarch           7108\n",
       "paris                    7052\n",
       "wmla                     6995\n",
       "edinburgh                6808\n",
       "losangeles               6761\n",
       "wmwcanada                6705\n",
       "sistermarch              6654\n",
       "inaugurationday          6624\n",
       "hh4pp                    6522\n",
       "sundaymorning            6431\n",
       "alaska                   6304\n",
       "listentothekidsbro       6277\n",
       "tcot                     6257\n",
       "austin                   6133\n",
       "donaldtrump              6052\n",
       "marchamujeresusa         6016\n",
       "womenmarch               5969\n",
       "seattle                  5808\n",
       "dumptrump                5703\n",
       "girlpower                5702\n",
       "chicago                  5695\n",
       "queen                    5568\n",
       "womensmarchlosangeles    5531\n",
       "nonna                    5517\n",
       "qm                       5503\n",
       "freedom                  5271\n",
       "dtype: int64"
      ]
     },
     "execution_count": 33,
     "metadata": {},
     "output_type": "execute_result"
    }
   ],
   "source": [
    "hashtag_freq[50:99]"
   ]
  },
  {
   "cell_type": "code",
   "execution_count": 37,
   "metadata": {
    "collapsed": false
   },
   "outputs": [
    {
     "data": {
      "text/plain": [
       "feminist                         5064\n",
       "love                             5049\n",
       "breaking                         5021\n",
       "prolife                          4954\n",
       "lovatics                         4855\n",
       "womensmarchglobal                4830\n",
       "cnn                              4816\n",
       "equalitynow                      4814\n",
       "womensmarchparis                 4766\n",
       "protest                          4751\n",
       "boswomensmarch                   4729\n",
       "nbc4dc                           4607\n",
       "heretostay                       4539\n",
       "msnbc                            4511\n",
       "stopenslavingsaudiwomen          4492\n",
       "womensmarchto                    4464\n",
       "bychubbz                         4456\n",
       "goddesses                        4436\n",
       "unified                          4420\n",
       "everything                       4410\n",
       "fairbanks                        4407\n",
       "imwithher                        4394\n",
       "atlantamarch                     4350\n",
       "wethepeople                      4328\n",
       "mybodymychoice                   4287\n",
       "womanpower                       4254\n",
       "trumppresident                   4254\n",
       "queeeent                         4249\n",
       "myrock                           4247\n",
       "dtla                             4200\n",
       "resistfromday1                   4196\n",
       "سعوديات_نطلب_اسقاط_الولايه200    4130\n",
       "toronto                          4075\n",
       "plannedparenthood                4037\n",
       "impeachtrump                     4037\n",
       "sharia                           3975\n",
       "wewomen                          3969\n",
       "usa                              3966\n",
       "americafirst                     3918\n",
       "sanfrancisco                     3900\n",
       "feminists                        3893\n",
       "photo                            3793\n",
       "sydney                           3780\n",
       "womensmarchchi                   3685\n",
       "pussyhat                         3654\n",
       "100daysofresistance              3596\n",
       "isis                             3588\n",
       "womensmarchaustin                3565\n",
       "potus                            3513\n",
       "dtype: int64"
      ]
     },
     "execution_count": 37,
     "metadata": {},
     "output_type": "execute_result"
    }
   ],
   "source": [
    "hashtag_freq[100:149]"
   ]
  },
  {
   "cell_type": "code",
   "execution_count": 38,
   "metadata": {
    "collapsed": false
   },
   "outputs": [
    {
     "data": {
      "text/plain": [
       "maddow                  3513\n",
       "boston                  3502\n",
       "tupacshakur             3495\n",
       "wmw                     3463\n",
       "la                      3424\n",
       "trumpinauguration       3412\n",
       "oakland                 3411\n",
       "saudiarabia             3371\n",
       "seanspicer              3311\n",
       "hillaryclinton          3238\n",
       "riseup                  3223\n",
       "notmymarch              3180\n",
       "jointheresistance       3138\n",
       "1u                      3133\n",
       "islam                   3085\n",
       "peace                   3084\n",
       "video                   3072\n",
       "it                      3070\n",
       "berlin                  3057\n",
       "uscapitol               3052\n",
       "washingtondc            3007\n",
       "loveislove              2992\n",
       "cnnsotu                 2971\n",
       "trump45                 2946\n",
       "dublin                  2923\n",
       "whyimarched             2897\n",
       "bostonwomensmarch       2882\n",
       "cair                    2827\n",
       "meetthepress            2824\n",
       "hillary                 2821\n",
       "snapchat                2817\n",
       "sophiecruz              2815\n",
       "indivisible             2798\n",
       "p2                      2783\n",
       "draintheswamp           2774\n",
       "womensmarchedinburgh    2743\n",
       "lovearmy                2737\n",
       "snl                     2665\n",
       "pershingsquare          2655\n",
       "fakenews                2626\n",
       "womensmarchdc           2625\n",
       "womensmarchsydney       2580\n",
       "sharialaw               2563\n",
       "trndnl                  2505\n",
       "prolifefeminist         2476\n",
       "trumptrain              2475\n",
       "liberals                2468\n",
       "nasty                   2459\n",
       "istandwithpp            2455\n",
       "dtype: int64"
      ]
     },
     "execution_count": 38,
     "metadata": {},
     "output_type": "execute_result"
    }
   ],
   "source": [
    "hashtag_freq[150:199]"
   ]
  },
  {
   "cell_type": "code",
   "execution_count": 39,
   "metadata": {
    "collapsed": false
   },
   "outputs": [
    {
     "data": {
      "text/plain": [
       "rt                         2439\n",
       "pussypower                 2386\n",
       "lgbtq                      2368\n",
       "ashleyjudd                 2359\n",
       "kellyanne                  2342\n",
       "trumpprotest               2303\n",
       "respect                    2300\n",
       "womensmarchams             2271\n",
       "bridgesnotwalls            2257\n",
       "wearehere                  2256\n",
       "protesttrump               2242\n",
       "thefutureisfemale          2236\n",
       "addhername                 2233\n",
       "photos                     2217\n",
       "womensmarch2017            2211\n",
       "unity                      2208\n",
       "supergirl                  2206\n",
       "stillwithher               2201\n",
       "womensmarchrome            2195\n",
       "womensmarchphiladelphia    2193\n",
       "obama                      2191\n",
       "womanfortrump              2191\n",
       "wmnewzealand               2190\n",
       "vancouver                  2168\n",
       "readytorun                 2167\n",
       "marchedesfemmes            2148\n",
       "stateofwomen               2146\n",
       "philly                     2143\n",
       "uniteblue                  2141\n",
       "womensmarchdenver          2114\n",
       "mexican                    2106\n",
       "wmata                      2091\n",
       "womensmarchseattle         2070\n",
       "anchorage                  2063\n",
       "provablefalsehood          2055\n",
       "buildthewall               2049\n",
       "march                      2048\n",
       "womensmarchpdx             2039\n",
       "lnyhbt                     2021\n",
       "nodapl                     1997\n",
       "makeamericagreatagain      1995\n",
       "hope                       1995\n",
       "womensmarchchicago         1984\n",
       "bansharia                  1972\n",
       "bestmusicvideo             1945\n",
       "repost                     1930\n",
       "kag                        1925\n",
       "indigenouswomenrising      1923\n",
       "womensmarchwashington      1886\n",
       "dtype: int64"
      ]
     },
     "execution_count": 39,
     "metadata": {},
     "output_type": "execute_result"
    }
   ],
   "source": [
    "hashtag_freq[200:249]"
   ]
  },
  {
   "cell_type": "code",
   "execution_count": 35,
   "metadata": {
    "collapsed": false
   },
   "outputs": [
    {
     "data": {
      "text/plain": [
       "(9373195, 21)"
      ]
     },
     "execution_count": 35,
     "metadata": {},
     "output_type": "execute_result"
    }
   ],
   "source": [
    "data.shape"
   ]
  },
  {
   "cell_type": "code",
   "execution_count": 17,
   "metadata": {
    "collapsed": false
   },
   "outputs": [
    {
     "data": {
      "text/html": [
       "<table class=\"simpletable\">\n",
       "<caption>OLS Regression Results</caption>\n",
       "<tr>\n",
       "  <th>Dep. Variable:</th>      <td>num_retweets</td>   <th>  R-squared:         </th>  <td>   0.001</td>  \n",
       "</tr>\n",
       "<tr>\n",
       "  <th>Model:</th>                   <td>OLS</td>       <th>  Adj. R-squared:    </th>  <td>   0.001</td>  \n",
       "</tr>\n",
       "<tr>\n",
       "  <th>Method:</th>             <td>Least Squares</td>  <th>  F-statistic:       </th>  <td>   6609.</td>  \n",
       "</tr>\n",
       "<tr>\n",
       "  <th>Date:</th>             <td>Sun, 14 May 2017</td> <th>  Prob (F-statistic):</th>   <td>  0.00</td>   \n",
       "</tr>\n",
       "<tr>\n",
       "  <th>Time:</th>                 <td>19:02:14</td>     <th>  Log-Likelihood:    </th> <td>-1.0253e+08</td>\n",
       "</tr>\n",
       "<tr>\n",
       "  <th>No. Observations:</th>      <td>9373195</td>     <th>  AIC:               </th>  <td>2.051e+08</td> \n",
       "</tr>\n",
       "<tr>\n",
       "  <th>Df Residuals:</th>          <td>9373193</td>     <th>  BIC:               </th>  <td>2.051e+08</td> \n",
       "</tr>\n",
       "<tr>\n",
       "  <th>Df Model:</th>              <td>     1</td>      <th>                     </th>      <td> </td>     \n",
       "</tr>\n",
       "<tr>\n",
       "  <th>Covariance Type:</th>      <td>nonrobust</td>    <th>                     </th>      <td> </td>     \n",
       "</tr>\n",
       "</table>\n",
       "<table class=\"simpletable\">\n",
       "<tr>\n",
       "        <td></td>          <th>coef</th>     <th>std err</th>      <th>t</th>      <th>P>|t|</th> <th>[95.0% Conf. Int.]</th> \n",
       "</tr>\n",
       "<tr>\n",
       "  <th>Intercept</th>    <td> 2336.7701</td> <td>    8.314</td> <td>  281.065</td> <td> 0.000</td> <td> 2320.475  2353.065</td>\n",
       "</tr>\n",
       "<tr>\n",
       "  <th>num_hashtags</th> <td> -415.4462</td> <td>    5.110</td> <td>  -81.294</td> <td> 0.000</td> <td> -425.462  -405.430</td>\n",
       "</tr>\n",
       "</table>\n",
       "<table class=\"simpletable\">\n",
       "<tr>\n",
       "  <th>Omnibus:</th>       <td>14173129.665</td> <th>  Durbin-Watson:     </th>    <td>   1.447</td>   \n",
       "</tr>\n",
       "<tr>\n",
       "  <th>Prob(Omnibus):</th>    <td> 0.000</td>    <th>  Jarque-Bera (JB):  </th> <td>4134163202.197</td>\n",
       "</tr>\n",
       "<tr>\n",
       "  <th>Skew:</th>             <td> 9.781</td>    <th>  Prob(JB):          </th>    <td>    0.00</td>   \n",
       "</tr>\n",
       "<tr>\n",
       "  <th>Kurtosis:</th>         <td>104.009</td>   <th>  Cond. No.          </th>    <td>    3.94</td>   \n",
       "</tr>\n",
       "</table>"
      ],
      "text/plain": [
       "<class 'statsmodels.iolib.summary.Summary'>\n",
       "\"\"\"\n",
       "                            OLS Regression Results                            \n",
       "==============================================================================\n",
       "Dep. Variable:           num_retweets   R-squared:                       0.001\n",
       "Model:                            OLS   Adj. R-squared:                  0.001\n",
       "Method:                 Least Squares   F-statistic:                     6609.\n",
       "Date:                Sun, 14 May 2017   Prob (F-statistic):               0.00\n",
       "Time:                        19:02:14   Log-Likelihood:            -1.0253e+08\n",
       "No. Observations:             9373195   AIC:                         2.051e+08\n",
       "Df Residuals:                 9373193   BIC:                         2.051e+08\n",
       "Df Model:                           1                                         \n",
       "Covariance Type:            nonrobust                                         \n",
       "================================================================================\n",
       "                   coef    std err          t      P>|t|      [95.0% Conf. Int.]\n",
       "--------------------------------------------------------------------------------\n",
       "Intercept     2336.7701      8.314    281.065      0.000      2320.475  2353.065\n",
       "num_hashtags  -415.4462      5.110    -81.294      0.000      -425.462  -405.430\n",
       "==============================================================================\n",
       "Omnibus:                 14173129.665   Durbin-Watson:                   1.447\n",
       "Prob(Omnibus):                  0.000   Jarque-Bera (JB):       4134163202.197\n",
       "Skew:                           9.781   Prob(JB):                         0.00\n",
       "Kurtosis:                     104.009   Cond. No.                         3.94\n",
       "==============================================================================\n",
       "\n",
       "Warnings:\n",
       "[1] Standard Errors assume that the covariance matrix of the errors is correctly specified.\n",
       "\"\"\""
      ]
     },
     "execution_count": 17,
     "metadata": {},
     "output_type": "execute_result"
    }
   ],
   "source": [
    "result = sm.ols(formula = \"num_retweets ~ num_hashtags\", data = data).fit()\n",
    "result.summary()"
   ]
  },
  {
   "cell_type": "code",
   "execution_count": 18,
   "metadata": {
    "collapsed": false
   },
   "outputs": [],
   "source": [
    "#dfoutput = summary_col([result],stars=True)\n",
    "#print(dfoutput.as_latex())"
   ]
  },
  {
   "cell_type": "code",
   "execution_count": null,
   "metadata": {
    "collapsed": true
   },
   "outputs": [],
   "source": []
  }
 ],
 "metadata": {
  "anaconda-cloud": {},
  "kernelspec": {
   "display_name": "Python [Root]",
   "language": "python",
   "name": "Python [Root]"
  },
  "language_info": {
   "codemirror_mode": {
    "name": "ipython",
    "version": 3
   },
   "file_extension": ".py",
   "mimetype": "text/x-python",
   "name": "python",
   "nbconvert_exporter": "python",
   "pygments_lexer": "ipython3",
   "version": "3.5.2"
  }
 },
 "nbformat": 4,
 "nbformat_minor": 0
}
