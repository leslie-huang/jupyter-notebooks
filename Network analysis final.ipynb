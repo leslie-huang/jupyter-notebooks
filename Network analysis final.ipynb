{
 "cells": [
  {
   "cell_type": "code",
   "execution_count": 1,
   "metadata": {
    "collapsed": true
   },
   "outputs": [],
   "source": [
    "# Leslie Huang\n",
    "# Network Analysis\n",
    "\n",
    "from causalinference import CausalModel\n",
    "from datetime import datetime\n",
    "import json\n",
    "import math\n",
    "import matplotlib.pyplot as plt\n",
    "import nltk\n",
    "import numpy as np\n",
    "from odo import odo, discover, resource\n",
    "import pandas as pd\n",
    "import pytz\n",
    "from sklearn import linear_model\n",
    "import statsmodels.formula.api as sm\n",
    "from statsmodels.iolib.summary2 import summary_col\n",
    "import time"
   ]
  },
  {
   "cell_type": "code",
   "execution_count": 41,
   "metadata": {
    "collapsed": false
   },
   "outputs": [],
   "source": [
    "data = odo(\"mongodb://localhost/my_mongo::wm_tweets\", \n",
    "            pd.DataFrame, \n",
    "            dshape = \"var * {id_str: string, created_at: string, lang: string, user_statuses_count: int32, user_friends_count: int32, text: string, user_verified: bool, user_followers_count: int32, num_retweets: int32, hashtags: var * string, includes_url: bool, user_created_at: string,user_id_str: string, is_a_retweet: bool, includes_media: bool}\")\n",
    "\n",
    "# id_str is user ID\n",
    "# drop MongoDB _id var\n",
    "# Note: If tweet is a retweet:\n",
    "# user_id_str, user_statuses_count, user_friends_count, user_followers_count will be for the user retweeting (NOT the original user)\n",
    "# id_str will be for the ORIGINAL tweet"
   ]
  },
  {
   "cell_type": "code",
   "execution_count": 42,
   "metadata": {
    "collapsed": false
   },
   "outputs": [],
   "source": [
    "# Exclude low activity and new accounts: Those that have fewer than 5 followers or 5 statuses or were created within the last week\n",
    "\n",
    "data = data[(data[\"user_followers_count\"] > 5) & (data[\"user_statuses_count\"] > 5)]"
   ]
  },
  {
   "cell_type": "code",
   "execution_count": 43,
   "metadata": {
    "collapsed": false
   },
   "outputs": [],
   "source": [
    "# Convert timestamps\n",
    "\n",
    "time_columns = [\"created_at\", \"user_created_at\"]\n",
    "\n",
    "for column in time_columns:\n",
    "    data[column] = data[column].apply(lambda x: datetime.strptime(x,'%a %b %d %H:%M:%S +0000 %Y').replace(tzinfo = pytz.UTC))"
   ]
  },
  {
   "cell_type": "code",
   "execution_count": 44,
   "metadata": {
    "collapsed": false
   },
   "outputs": [],
   "source": [
    "# Exclude accounts created 1 week before the march\n",
    "\n",
    "cutoff_date = datetime.strptime(\"Fri Jan 13 00:00:00 +0000 2017\",'%a %b %d %H:%M:%S +0000 %Y').replace(tzinfo = pytz.UTC)\n",
    "\n",
    "data = data[data[\"user_created_at\"] < cutoff_date]"
   ]
  },
  {
   "cell_type": "code",
   "execution_count": 45,
   "metadata": {
    "collapsed": false
   },
   "outputs": [],
   "source": [
    "data[\"hashtags_lc\"] = data[\"hashtags\"].apply(lambda hashtaglist: tuple(tag.lower() for tag in hashtaglist))"
   ]
  },
  {
   "cell_type": "code",
   "execution_count": 46,
   "metadata": {
    "collapsed": false
   },
   "outputs": [],
   "source": [
    "data[\"num_hashtags\"] = data[\"hashtags\"].apply(lambda x: len(x))"
   ]
  },
  {
   "cell_type": "code",
   "execution_count": 47,
   "metadata": {
    "collapsed": false
   },
   "outputs": [],
   "source": [
    "# Calculate the log age of the account in weeks (+1 for smoothing)\n",
    "data[\"log_acct_age_weeks\"] = (data[\"user_created_at\"] - data[\"created_at\"]).apply(lambda x: math.log((x.days / -7) + 1))"
   ]
  },
  {
   "cell_type": "code",
   "execution_count": 48,
   "metadata": {
    "collapsed": false
   },
   "outputs": [],
   "source": [
    "# Smoothing: Take log of each numerical val + 1 (to accommodate with zeroes)\n",
    "columns_to_log = [\"user_followers_count\", \"num_retweets\", \"user_statuses_count\", \"num_hashtags\"]\n",
    "\n",
    "for column in columns_to_log:\n",
    "    new_col_name = \"{}_log\".format(column)\n",
    "    data[new_col_name] = data[column].apply(lambda x: math.log(x + 1))"
   ]
  },
  {
   "cell_type": "code",
   "execution_count": 49,
   "metadata": {
    "collapsed": true
   },
   "outputs": [],
   "source": [
    "# Find out the most popular hashtags (case insensitive)\n",
    "all_hashtags = []\n",
    "all_hashtags.append([hashtag_list for hashtag_list in data[\"hashtags_lc\"]])\n",
    "all_hashtags = [val for sublist in all_hashtags for val in sublist]\n",
    "all_hashtags = [val for sublist in all_hashtags for val in sublist]\n",
    "all_hashtags = pd.Series(all_hashtags)\n",
    "\n",
    "hashtag_freq = all_hashtags.value_counts()"
   ]
  },
  {
   "cell_type": "code",
   "execution_count": 50,
   "metadata": {
    "collapsed": false
   },
   "outputs": [],
   "source": [
    "# Count number of hashtags not in the official list\n",
    "\n",
    "wm_hashtags = [\"whyimarch\", \"womensmarch\", \"womensmarchonwashington\", \"imarchfor\"]\n",
    "\n",
    "data[\"num_unofficial_hashtags\"] = data.apply(lambda row: len(set(row.hashtags_lc) - set(wm_hashtags)), axis = 1)"
   ]
  },
  {
   "cell_type": "code",
   "execution_count": 51,
   "metadata": {
    "collapsed": false
   },
   "outputs": [],
   "source": [
    "# Create dummy variables for political issues\n",
    "\n",
    "indig_rights = pd.DataFrame(pd.Series((\"indigenouswomenrise\" in hashtags_lc or \"indigenousrising\" in hashtags_lc for hashtags_lc in data[\"hashtags_lc\"]), index = data.index), columns = [\"indig_rights\"])\n",
    "marriage_eq = pd.DataFrame(pd.Series((\"lovetrumpshate\" in hashtags_lc or \"loveislove\" in hashtags_lc for hashtags_lc in data[\"hashtags_lc\"]), index = data.index), columns = [\"marriage_eq\"])\n",
    "anti_abortion = pd.DataFrame(pd.Series((\"prolife\" in hashtags_lc or \"prolifefeminist\" in hashtags_lc for hashtags_lc in data[\"hashtags_lc\"]), index = data.index), columns = [\"anti_abortion\"])\n",
    "blm = pd.DataFrame(pd.Series((\"blacklivesmatter\" in hashtags_lc for hashtags_lc in data[\"hashtags_lc\"]), index = data.index), columns = [\"blm\"])\n",
    "gender_eq = pd.DataFrame(pd.Series((\"womensrightsarehumanrights\" in hashtags_lc or \"equality\" in hashtags_lc or \"equalrights\" in hashtags_lc for hashtags_lc in data[\"hashtags_lc\"]), index = data.index), columns = [\"gender_eq\"])\n",
    "repro_rights = pd.DataFrame(pd.Series((\"istandwithpp\" in hashtags_lc or \"mybodymychoice\" in hashtags_lc or \"plannedparenthood\" in hashtags_lc for hashtags_lc in data[\"hashtags_lc\"]), index = data.index), columns = [\"repro_rights\"])\n",
    "anti_trump = pd.DataFrame(pd.Series((\"theresistance\" in hashtags_lc or \"resist\" in hashtags_lc or \"trump\" in hashtags_lc for hashtags_lc in data[\"hashtags_lc\"]), index = data.index), columns = [\"anti_trump\"])"
   ]
  },
  {
   "cell_type": "code",
   "execution_count": 52,
   "metadata": {
    "collapsed": false
   },
   "outputs": [],
   "source": [
    "# Then merge each of them with the main DF\n",
    "\n",
    "dummies = [indig_rights, marriage_eq, anti_abortion, blm, gender_eq, repro_rights, anti_trump]\n",
    "\n",
    "for dummy in dummies:\n",
    "    data = data.merge(dummy, left_index = True, right_index = True)"
   ]
  },
  {
   "cell_type": "code",
   "execution_count": 53,
   "metadata": {
    "collapsed": false
   },
   "outputs": [
    {
     "data": {
      "text/html": [
       "<div>\n",
       "<table border=\"1\" class=\"dataframe\">\n",
       "  <thead>\n",
       "    <tr style=\"text-align: right;\">\n",
       "      <th></th>\n",
       "      <th>id_str</th>\n",
       "      <th>created_at</th>\n",
       "      <th>lang</th>\n",
       "      <th>user_statuses_count</th>\n",
       "      <th>user_friends_count</th>\n",
       "      <th>text</th>\n",
       "      <th>user_verified</th>\n",
       "      <th>user_followers_count</th>\n",
       "      <th>num_retweets</th>\n",
       "      <th>hashtags</th>\n",
       "      <th>...</th>\n",
       "      <th>user_statuses_count_log</th>\n",
       "      <th>num_hashtags_log</th>\n",
       "      <th>num_unofficial_hashtags</th>\n",
       "      <th>indig_rights</th>\n",
       "      <th>marriage_eq</th>\n",
       "      <th>anti_abortion</th>\n",
       "      <th>blm</th>\n",
       "      <th>gender_eq</th>\n",
       "      <th>repro_rights</th>\n",
       "      <th>anti_trump</th>\n",
       "    </tr>\n",
       "  </thead>\n",
       "  <tbody>\n",
       "    <tr>\n",
       "      <th>0</th>\n",
       "      <td>822670319219576832</td>\n",
       "      <td>2017-01-21 05:01:03+00:00</td>\n",
       "      <td>en</td>\n",
       "      <td>96414</td>\n",
       "      <td>2083</td>\n",
       "      <td>RT @LaurenJauregui: Less than 24 hours and the...</td>\n",
       "      <td>False</td>\n",
       "      <td>1602</td>\n",
       "      <td>0</td>\n",
       "      <td>[whyimarch]</td>\n",
       "      <td>...</td>\n",
       "      <td>11.476417</td>\n",
       "      <td>0.693147</td>\n",
       "      <td>0</td>\n",
       "      <td>False</td>\n",
       "      <td>False</td>\n",
       "      <td>False</td>\n",
       "      <td>False</td>\n",
       "      <td>False</td>\n",
       "      <td>False</td>\n",
       "      <td>False</td>\n",
       "    </tr>\n",
       "    <tr>\n",
       "      <th>1</th>\n",
       "      <td>822670319219576832</td>\n",
       "      <td>2017-01-21 05:01:03+00:00</td>\n",
       "      <td>en</td>\n",
       "      <td>96414</td>\n",
       "      <td>2083</td>\n",
       "      <td>RT @LaurenJauregui: Less than 24 hours and the...</td>\n",
       "      <td>False</td>\n",
       "      <td>1602</td>\n",
       "      <td>0</td>\n",
       "      <td>[whyimarch]</td>\n",
       "      <td>...</td>\n",
       "      <td>11.476417</td>\n",
       "      <td>0.693147</td>\n",
       "      <td>0</td>\n",
       "      <td>False</td>\n",
       "      <td>False</td>\n",
       "      <td>False</td>\n",
       "      <td>False</td>\n",
       "      <td>False</td>\n",
       "      <td>False</td>\n",
       "      <td>False</td>\n",
       "    </tr>\n",
       "    <tr>\n",
       "      <th>2</th>\n",
       "      <td>822670322126069760</td>\n",
       "      <td>2017-01-21 05:01:03+00:00</td>\n",
       "      <td>ko</td>\n",
       "      <td>26655</td>\n",
       "      <td>178</td>\n",
       "      <td>#세계여성_공동행진_서울 \\n#womensmarch 현재 강남역 10번 출구에서는 ...</td>\n",
       "      <td>False</td>\n",
       "      <td>88</td>\n",
       "      <td>49</td>\n",
       "      <td>[세계여성_공동행진_서울, womensmarch]</td>\n",
       "      <td>...</td>\n",
       "      <td>10.190770</td>\n",
       "      <td>1.098612</td>\n",
       "      <td>1</td>\n",
       "      <td>False</td>\n",
       "      <td>False</td>\n",
       "      <td>False</td>\n",
       "      <td>False</td>\n",
       "      <td>False</td>\n",
       "      <td>False</td>\n",
       "      <td>False</td>\n",
       "    </tr>\n",
       "    <tr>\n",
       "      <th>3</th>\n",
       "      <td>822670322126069760</td>\n",
       "      <td>2017-01-21 05:01:03+00:00</td>\n",
       "      <td>ko</td>\n",
       "      <td>26655</td>\n",
       "      <td>178</td>\n",
       "      <td>#세계여성_공동행진_서울 \\n#womensmarch 현재 강남역 10번 출구에서는 ...</td>\n",
       "      <td>False</td>\n",
       "      <td>88</td>\n",
       "      <td>49</td>\n",
       "      <td>[세계여성_공동행진_서울, womensmarch]</td>\n",
       "      <td>...</td>\n",
       "      <td>10.190770</td>\n",
       "      <td>1.098612</td>\n",
       "      <td>1</td>\n",
       "      <td>False</td>\n",
       "      <td>False</td>\n",
       "      <td>False</td>\n",
       "      <td>False</td>\n",
       "      <td>False</td>\n",
       "      <td>False</td>\n",
       "      <td>False</td>\n",
       "    </tr>\n",
       "    <tr>\n",
       "      <th>4</th>\n",
       "      <td>822670327704469504</td>\n",
       "      <td>2017-01-21 05:01:05+00:00</td>\n",
       "      <td>en</td>\n",
       "      <td>10509</td>\n",
       "      <td>913</td>\n",
       "      <td>RT @womensmarch: Together we fight for equity....</td>\n",
       "      <td>False</td>\n",
       "      <td>375</td>\n",
       "      <td>0</td>\n",
       "      <td>[WomensMarch, WhyIMarch]</td>\n",
       "      <td>...</td>\n",
       "      <td>9.260082</td>\n",
       "      <td>1.098612</td>\n",
       "      <td>0</td>\n",
       "      <td>False</td>\n",
       "      <td>False</td>\n",
       "      <td>False</td>\n",
       "      <td>False</td>\n",
       "      <td>False</td>\n",
       "      <td>False</td>\n",
       "      <td>False</td>\n",
       "    </tr>\n",
       "  </tbody>\n",
       "</table>\n",
       "<p>5 rows × 30 columns</p>\n",
       "</div>"
      ],
      "text/plain": [
       "               id_str                created_at lang  user_statuses_count  \\\n",
       "0  822670319219576832 2017-01-21 05:01:03+00:00   en                96414   \n",
       "1  822670319219576832 2017-01-21 05:01:03+00:00   en                96414   \n",
       "2  822670322126069760 2017-01-21 05:01:03+00:00   ko                26655   \n",
       "3  822670322126069760 2017-01-21 05:01:03+00:00   ko                26655   \n",
       "4  822670327704469504 2017-01-21 05:01:05+00:00   en                10509   \n",
       "\n",
       "   user_friends_count                                               text  \\\n",
       "0                2083  RT @LaurenJauregui: Less than 24 hours and the...   \n",
       "1                2083  RT @LaurenJauregui: Less than 24 hours and the...   \n",
       "2                 178  #세계여성_공동행진_서울 \\n#womensmarch 현재 강남역 10번 출구에서는 ...   \n",
       "3                 178  #세계여성_공동행진_서울 \\n#womensmarch 현재 강남역 10번 출구에서는 ...   \n",
       "4                 913  RT @womensmarch: Together we fight for equity....   \n",
       "\n",
       "  user_verified  user_followers_count  num_retweets  \\\n",
       "0         False                  1602             0   \n",
       "1         False                  1602             0   \n",
       "2         False                    88            49   \n",
       "3         False                    88            49   \n",
       "4         False                   375             0   \n",
       "\n",
       "                      hashtags     ...     user_statuses_count_log  \\\n",
       "0                  [whyimarch]     ...                   11.476417   \n",
       "1                  [whyimarch]     ...                   11.476417   \n",
       "2  [세계여성_공동행진_서울, womensmarch]     ...                   10.190770   \n",
       "3  [세계여성_공동행진_서울, womensmarch]     ...                   10.190770   \n",
       "4     [WomensMarch, WhyIMarch]     ...                    9.260082   \n",
       "\n",
       "  num_hashtags_log num_unofficial_hashtags indig_rights marriage_eq  \\\n",
       "0         0.693147                       0        False       False   \n",
       "1         0.693147                       0        False       False   \n",
       "2         1.098612                       1        False       False   \n",
       "3         1.098612                       1        False       False   \n",
       "4         1.098612                       0        False       False   \n",
       "\n",
       "  anti_abortion    blm  gender_eq  repro_rights  anti_trump  \n",
       "0         False  False      False         False       False  \n",
       "1         False  False      False         False       False  \n",
       "2         False  False      False         False       False  \n",
       "3         False  False      False         False       False  \n",
       "4         False  False      False         False       False  \n",
       "\n",
       "[5 rows x 30 columns]"
      ]
     },
     "execution_count": 53,
     "metadata": {},
     "output_type": "execute_result"
    }
   ],
   "source": [
    "data.head()"
   ]
  },
  {
   "cell_type": "code",
   "execution_count": 61,
   "metadata": {
    "collapsed": false
   },
   "outputs": [
    {
     "data": {
      "text/plain": [
       "id_str                                   object\n",
       "created_at                  datetime64[ns, UTC]\n",
       "lang                                     object\n",
       "user_statuses_count                       int32\n",
       "user_friends_count                        int32\n",
       "text                                     object\n",
       "user_verified                              bool\n",
       "user_followers_count                      int32\n",
       "num_retweets                              int32\n",
       "hashtags                                 object\n",
       "includes_url                               bool\n",
       "user_created_at             datetime64[ns, UTC]\n",
       "user_id_str                              object\n",
       "is_a_retweet                               bool\n",
       "includes_media                             bool\n",
       "hashtags_lc                              object\n",
       "num_hashtags                              int64\n",
       "log_acct_age_weeks                      float64\n",
       "user_followers_count_log                float64\n",
       "num_retweets_log                        float64\n",
       "user_statuses_count_log                 float64\n",
       "num_hashtags_log                        float64\n",
       "num_unofficial_hashtags                   int64\n",
       "indig_rights                               bool\n",
       "marriage_eq                                bool\n",
       "anti_abortion                              bool\n",
       "blm                                        bool\n",
       "gender_eq                                  bool\n",
       "repro_rights                               bool\n",
       "anti_trump                                 bool\n",
       "dtype: object"
      ]
     },
     "execution_count": 61,
     "metadata": {},
     "output_type": "execute_result"
    }
   ],
   "source": [
    "data.dtypes"
   ]
  },
  {
   "cell_type": "code",
   "execution_count": 54,
   "metadata": {
    "collapsed": false
   },
   "outputs": [
    {
     "data": {
      "text/html": [
       "<table class=\"simpletable\">\n",
       "<caption>OLS Regression Results</caption>\n",
       "<tr>\n",
       "  <th>Dep. Variable:</th>    <td>num_retweets_log</td> <th>  R-squared:         </th>  <td>   0.062</td>  \n",
       "</tr>\n",
       "<tr>\n",
       "  <th>Model:</th>                   <td>OLS</td>       <th>  Adj. R-squared:    </th>  <td>   0.062</td>  \n",
       "</tr>\n",
       "<tr>\n",
       "  <th>Method:</th>             <td>Least Squares</td>  <th>  F-statistic:       </th>  <td>8.895e+04</td> \n",
       "</tr>\n",
       "<tr>\n",
       "  <th>Date:</th>             <td>Thu, 18 May 2017</td> <th>  Prob (F-statistic):</th>   <td>  0.00</td>   \n",
       "</tr>\n",
       "<tr>\n",
       "  <th>Time:</th>                 <td>14:05:18</td>     <th>  Log-Likelihood:    </th> <td>-2.0788e+07</td>\n",
       "</tr>\n",
       "<tr>\n",
       "  <th>No. Observations:</th>      <td>9373195</td>     <th>  AIC:               </th>  <td>4.158e+07</td> \n",
       "</tr>\n",
       "<tr>\n",
       "  <th>Df Residuals:</th>          <td>9373187</td>     <th>  BIC:               </th>  <td>4.158e+07</td> \n",
       "</tr>\n",
       "<tr>\n",
       "  <th>Df Model:</th>              <td>     7</td>      <th>                     </th>      <td> </td>     \n",
       "</tr>\n",
       "<tr>\n",
       "  <th>Covariance Type:</th>      <td>nonrobust</td>    <th>                     </th>      <td> </td>     \n",
       "</tr>\n",
       "</table>\n",
       "<table class=\"simpletable\">\n",
       "<tr>\n",
       "              <td></td>                 <th>coef</th>     <th>std err</th>      <th>t</th>      <th>P>|t|</th> <th>[95.0% Conf. Int.]</th> \n",
       "</tr>\n",
       "<tr>\n",
       "  <th>Intercept</th>                 <td>   -0.0148</td> <td>    0.005</td> <td>   -2.850</td> <td> 0.004</td> <td>   -0.025    -0.005</td>\n",
       "</tr>\n",
       "<tr>\n",
       "  <th>includes_url[T.True]</th>      <td>   -0.2067</td> <td>    0.002</td> <td>  -87.335</td> <td> 0.000</td> <td>   -0.211    -0.202</td>\n",
       "</tr>\n",
       "<tr>\n",
       "  <th>includes_media[T.True]</th>    <td>    1.1199</td> <td>    0.002</td> <td>  705.216</td> <td> 0.000</td> <td>    1.117     1.123</td>\n",
       "</tr>\n",
       "<tr>\n",
       "  <th>np.power(num_hashtags, 2)</th> <td>   -0.0182</td> <td>    0.000</td> <td>  -51.495</td> <td> 0.000</td> <td>   -0.019    -0.018</td>\n",
       "</tr>\n",
       "<tr>\n",
       "  <th>num_hashtags</th>              <td>    0.2478</td> <td>    0.002</td> <td>  109.874</td> <td> 0.000</td> <td>    0.243     0.252</td>\n",
       "</tr>\n",
       "<tr>\n",
       "  <th>user_followers_count_log</th>  <td>   -0.0555</td> <td>    0.001</td> <td>  -84.989</td> <td> 0.000</td> <td>   -0.057    -0.054</td>\n",
       "</tr>\n",
       "<tr>\n",
       "  <th>user_statuses_count_log</th>   <td>   -0.0020</td> <td>    0.001</td> <td>   -3.498</td> <td> 0.000</td> <td>   -0.003    -0.001</td>\n",
       "</tr>\n",
       "<tr>\n",
       "  <th>log_acct_age_weeks</th>        <td>    0.0231</td> <td>    0.001</td> <td>   28.840</td> <td> 0.000</td> <td>    0.022     0.025</td>\n",
       "</tr>\n",
       "</table>\n",
       "<table class=\"simpletable\">\n",
       "<tr>\n",
       "  <th>Omnibus:</th>       <td>5761610.489</td> <th>  Durbin-Watson:     </th>   <td>   1.567</td>  \n",
       "</tr>\n",
       "<tr>\n",
       "  <th>Prob(Omnibus):</th>   <td> 0.000</td>    <th>  Jarque-Bera (JB):  </th> <td>45675427.988</td>\n",
       "</tr>\n",
       "<tr>\n",
       "  <th>Skew:</th>            <td> 3.012</td>    <th>  Prob(JB):          </th>   <td>    0.00</td>  \n",
       "</tr>\n",
       "<tr>\n",
       "  <th>Kurtosis:</th>        <td>11.981</td>    <th>  Cond. No.          </th>   <td>    93.0</td>  \n",
       "</tr>\n",
       "</table>"
      ],
      "text/plain": [
       "<class 'statsmodels.iolib.summary.Summary'>\n",
       "\"\"\"\n",
       "                            OLS Regression Results                            \n",
       "==============================================================================\n",
       "Dep. Variable:       num_retweets_log   R-squared:                       0.062\n",
       "Model:                            OLS   Adj. R-squared:                  0.062\n",
       "Method:                 Least Squares   F-statistic:                 8.895e+04\n",
       "Date:                Thu, 18 May 2017   Prob (F-statistic):               0.00\n",
       "Time:                        14:05:18   Log-Likelihood:            -2.0788e+07\n",
       "No. Observations:             9373195   AIC:                         4.158e+07\n",
       "Df Residuals:                 9373187   BIC:                         4.158e+07\n",
       "Df Model:                           7                                         \n",
       "Covariance Type:            nonrobust                                         \n",
       "=============================================================================================\n",
       "                                coef    std err          t      P>|t|      [95.0% Conf. Int.]\n",
       "---------------------------------------------------------------------------------------------\n",
       "Intercept                    -0.0148      0.005     -2.850      0.004        -0.025    -0.005\n",
       "includes_url[T.True]         -0.2067      0.002    -87.335      0.000        -0.211    -0.202\n",
       "includes_media[T.True]        1.1199      0.002    705.216      0.000         1.117     1.123\n",
       "np.power(num_hashtags, 2)    -0.0182      0.000    -51.495      0.000        -0.019    -0.018\n",
       "num_hashtags                  0.2478      0.002    109.874      0.000         0.243     0.252\n",
       "user_followers_count_log     -0.0555      0.001    -84.989      0.000        -0.057    -0.054\n",
       "user_statuses_count_log      -0.0020      0.001     -3.498      0.000        -0.003    -0.001\n",
       "log_acct_age_weeks            0.0231      0.001     28.840      0.000         0.022     0.025\n",
       "==============================================================================\n",
       "Omnibus:                  5761610.489   Durbin-Watson:                   1.567\n",
       "Prob(Omnibus):                  0.000   Jarque-Bera (JB):         45675427.988\n",
       "Skew:                           3.012   Prob(JB):                         0.00\n",
       "Kurtosis:                      11.981   Cond. No.                         93.0\n",
       "==============================================================================\n",
       "\n",
       "Warnings:\n",
       "[1] Standard Errors assume that the covariance matrix of the errors is correctly specified.\n",
       "\"\"\""
      ]
     },
     "execution_count": 54,
     "metadata": {},
     "output_type": "execute_result"
    }
   ],
   "source": [
    "result = sm.ols(formula = \"num_retweets_log ~ np.power(num_hashtags, 2) + num_hashtags + user_followers_count_log + user_statuses_count_log + includes_url + includes_media + log_acct_age_weeks \", data = data).fit()\n",
    "result.summary()"
   ]
  },
  {
   "cell_type": "code",
   "execution_count": null,
   "metadata": {
    "collapsed": false
   },
   "outputs": [],
   "source": [
    "#dfoutput = summary_col([result],stars=True)\n",
    "#print(dfoutput.as_latex())"
   ]
  },
  {
   "cell_type": "code",
   "execution_count": 55,
   "metadata": {
    "collapsed": false
   },
   "outputs": [],
   "source": [
    "# Use Propensity Score Matching\n",
    "\n",
    "# Create the \"control\" group\n",
    "data_single_hashtag = data[data[\"num_hashtags\"] == 1]"
   ]
  },
  {
   "cell_type": "code",
   "execution_count": 103,
   "metadata": {
    "collapsed": true
   },
   "outputs": [],
   "source": [
    "# Create subset of the covariates to match on\n",
    "\n",
    "X_vec = [ \n",
    "         \"includes_media\", \n",
    "         \"log_acct_age_weeks\"]"
   ]
  },
  {
   "cell_type": "code",
   "execution_count": 114,
   "metadata": {
    "collapsed": true
   },
   "outputs": [],
   "source": [
    "# Create sample of \"control\" group + marriage_eq \"treatment\" group\n",
    "\n",
    "def create_subset_df(dummy_name):\n",
    "    return pd.concat([\n",
    "                         data[data[dummy_name] == True],\n",
    "                         data_single_hashtag\n",
    "                        ])"
   ]
  },
  {
   "cell_type": "code",
   "execution_count": 118,
   "metadata": {
    "collapsed": true
   },
   "outputs": [],
   "source": [
    "gender_eq_subset = create_subset_df(\"gender_eq\")\n",
    "blm_subset = create_subset_df(\"blm\")\n",
    "indig_rights_subset = create_subset_df(\"indig_rights\")\n",
    "marriage_eq_subset = create_subset_df(\"marriage_eq\")\n",
    "repro_rights_subset = create_subset_df(\"repro_rights\")\n",
    "anti_trump_subset = create_subset_df(\"anti_trump\")\n",
    "anti_abortion_subset = create_subset_df(\"anti_abortion\")"
   ]
  },
  {
   "cell_type": "code",
   "execution_count": 119,
   "metadata": {
    "collapsed": false
   },
   "outputs": [
    {
     "name": "stdout",
     "output_type": "stream",
     "text": [
      "(7228148, 30) (7190739, 30) (7194617, 30) (7205234, 30) (7193945, 30) (7328213, 30) (7190614, 30)\n"
     ]
    }
   ],
   "source": [
    "print(gender_eq_subset.shape, blm_subset.shape, indig_rights_subset.shape, marriage_eq_subset.shape, repro_rights_subset.shape, anti_trump_subset.shape, anti_abortion_subset.shape)"
   ]
  },
  {
   "cell_type": "code",
   "execution_count": 120,
   "metadata": {
    "collapsed": false
   },
   "outputs": [],
   "source": [
    "# Run the causal model\n",
    "\n",
    "gender_eq_causal = CausalModel(\n",
    "                                 np.array(marriage_eq_subset[\"num_retweets_log\"]), \n",
    "                                 np.array(marriage_eq_subset[\"gender_eq\"]), \n",
    "                                 marriage_eq_subset[X_vec]\n",
    "                                )"
   ]
  },
  {
   "cell_type": "code",
   "execution_count": 121,
   "metadata": {
    "collapsed": false
   },
   "outputs": [
    {
     "name": "stdout",
     "output_type": "stream",
     "text": [
      "\n",
      "Summary Statistics\n",
      "\n",
      "                   Controls (N_c=7204556)         Treated (N_t=678)             \n",
      "       Variable         Mean         S.d.         Mean         S.d.     Raw-diff\n",
      "--------------------------------------------------------------------------------\n",
      "              Y        0.646        2.199        0.073        0.331       -0.574\n",
      "\n",
      "                   Controls (N_c=7204556)         Treated (N_t=678)             \n",
      "       Variable         Mean         S.d.         Mean         S.d.     Nor-diff\n",
      "--------------------------------------------------------------------------------\n",
      "             X0        0.646        0.478        0.355        0.479       -0.608\n",
      "             X1        5.052        0.954        5.146        1.031        0.095\n",
      "\n"
     ]
    }
   ],
   "source": [
    "print(gender_eq_causal.summary_stats)"
   ]
  },
  {
   "cell_type": "code",
   "execution_count": 122,
   "metadata": {
    "collapsed": false
   },
   "outputs": [],
   "source": [
    "#marriage_eq_causal.est_via_ols()\n",
    "#print(marriage_eq_causal.estimates)"
   ]
  },
  {
   "cell_type": "code",
   "execution_count": 123,
   "metadata": {
    "collapsed": false
   },
   "outputs": [
    {
     "ename": "TypeError",
     "evalue": "unhashable type: 'slice'",
     "output_type": "error",
     "traceback": [
      "\u001b[0;31m---------------------------------------------------------------------------\u001b[0m",
      "\u001b[0;31mTypeError\u001b[0m                                 Traceback (most recent call last)",
      "\u001b[0;32m<ipython-input-123-29bc234974f5>\u001b[0m in \u001b[0;36m<module>\u001b[0;34m()\u001b[0m\n\u001b[0;32m----> 1\u001b[0;31m \u001b[0mgender_eq_causal\u001b[0m\u001b[0;34m.\u001b[0m\u001b[0mest_propensity_s\u001b[0m\u001b[0;34m(\u001b[0m\u001b[0;34m)\u001b[0m \u001b[0;31m# estimate propensity score\u001b[0m\u001b[0;34m\u001b[0m\u001b[0m\n\u001b[0m",
      "\u001b[0;32m/Users/lesliehuang/anaconda/lib/python3.5/site-packages/causalinference/causal.py\u001b[0m in \u001b[0;36mest_propensity_s\u001b[0;34m(self, lin_B, C_lin, C_qua)\u001b[0m\n\u001b[1;32m    111\u001b[0m \u001b[0;34m\u001b[0m\u001b[0m\n\u001b[1;32m    112\u001b[0m \t\tself.propensity = PropensitySelect(self.raw_data, lin_basic,\n\u001b[0;32m--> 113\u001b[0;31m \t\t                                   C_lin, C_qua)\n\u001b[0m\u001b[1;32m    114\u001b[0m                 \u001b[0mself\u001b[0m\u001b[0;34m.\u001b[0m\u001b[0mraw_data\u001b[0m\u001b[0;34m.\u001b[0m\u001b[0m_dict\u001b[0m\u001b[0;34m[\u001b[0m\u001b[0;34m'pscore'\u001b[0m\u001b[0;34m]\u001b[0m \u001b[0;34m=\u001b[0m \u001b[0mself\u001b[0m\u001b[0;34m.\u001b[0m\u001b[0mpropensity\u001b[0m\u001b[0;34m[\u001b[0m\u001b[0;34m'fitted'\u001b[0m\u001b[0;34m]\u001b[0m\u001b[0;34m\u001b[0m\u001b[0m\n\u001b[1;32m    115\u001b[0m                 \u001b[0mself\u001b[0m\u001b[0;34m.\u001b[0m\u001b[0m_post_pscore_init\u001b[0m\u001b[0;34m(\u001b[0m\u001b[0;34m)\u001b[0m\u001b[0;34m\u001b[0m\u001b[0m\n",
      "\u001b[0;32m/Users/lesliehuang/anaconda/lib/python3.5/site-packages/causalinference/core/propensity.py\u001b[0m in \u001b[0;36m__init__\u001b[0;34m(self, data, lin_B, C_lin, C_qua)\u001b[0m\n\u001b[1;32m     91\u001b[0m \u001b[0;34m\u001b[0m\u001b[0m\n\u001b[1;32m     92\u001b[0m                 \u001b[0mX_c\u001b[0m\u001b[0;34m,\u001b[0m \u001b[0mX_t\u001b[0m \u001b[0;34m=\u001b[0m \u001b[0mdata\u001b[0m\u001b[0;34m[\u001b[0m\u001b[0;34m'X_c'\u001b[0m\u001b[0;34m]\u001b[0m\u001b[0;34m,\u001b[0m \u001b[0mdata\u001b[0m\u001b[0;34m[\u001b[0m\u001b[0;34m'X_t'\u001b[0m\u001b[0;34m]\u001b[0m\u001b[0;34m\u001b[0m\u001b[0m\n\u001b[0;32m---> 93\u001b[0;31m                 \u001b[0mlin\u001b[0m \u001b[0;34m=\u001b[0m \u001b[0mselect_lin_terms\u001b[0m\u001b[0;34m(\u001b[0m\u001b[0mX_c\u001b[0m\u001b[0;34m,\u001b[0m \u001b[0mX_t\u001b[0m\u001b[0;34m,\u001b[0m \u001b[0mlin_B\u001b[0m\u001b[0;34m,\u001b[0m \u001b[0mC_lin\u001b[0m\u001b[0;34m)\u001b[0m\u001b[0;34m\u001b[0m\u001b[0m\n\u001b[0m\u001b[1;32m     94\u001b[0m                 \u001b[0mqua\u001b[0m \u001b[0;34m=\u001b[0m \u001b[0mselect_qua_terms\u001b[0m\u001b[0;34m(\u001b[0m\u001b[0mX_c\u001b[0m\u001b[0;34m,\u001b[0m \u001b[0mX_t\u001b[0m\u001b[0;34m,\u001b[0m \u001b[0mlin\u001b[0m\u001b[0;34m,\u001b[0m \u001b[0mC_qua\u001b[0m\u001b[0;34m)\u001b[0m\u001b[0;34m\u001b[0m\u001b[0m\n\u001b[1;32m     95\u001b[0m \u001b[0;34m\u001b[0m\u001b[0m\n",
      "\u001b[0;32m/Users/lesliehuang/anaconda/lib/python3.5/site-packages/causalinference/core/propensity.py\u001b[0m in \u001b[0;36mselect_lin_terms\u001b[0;34m(X_c, X_t, lin_B, C_lin)\u001b[0m\n\u001b[1;32m    236\u001b[0m                 \u001b[0;32mreturn\u001b[0m \u001b[0mlin_B\u001b[0m\u001b[0;34m\u001b[0m\u001b[0m\n\u001b[1;32m    237\u001b[0m         \u001b[0;32melse\u001b[0m\u001b[0;34m:\u001b[0m\u001b[0;34m\u001b[0m\u001b[0m\n\u001b[0;32m--> 238\u001b[0;31m                 \u001b[0;32mreturn\u001b[0m \u001b[0mselect_lin\u001b[0m\u001b[0;34m(\u001b[0m\u001b[0mX_c\u001b[0m\u001b[0;34m,\u001b[0m \u001b[0mX_t\u001b[0m\u001b[0;34m,\u001b[0m \u001b[0mlin_B\u001b[0m\u001b[0;34m,\u001b[0m \u001b[0mC_lin\u001b[0m\u001b[0;34m)\u001b[0m\u001b[0;34m\u001b[0m\u001b[0m\n\u001b[0m\u001b[1;32m    239\u001b[0m \u001b[0;34m\u001b[0m\u001b[0m\n\u001b[1;32m    240\u001b[0m \u001b[0;34m\u001b[0m\u001b[0m\n",
      "\u001b[0;32m/Users/lesliehuang/anaconda/lib/python3.5/site-packages/causalinference/core/propensity.py\u001b[0m in \u001b[0;36mselect_lin\u001b[0;34m(X_c, X_t, lin_B, C_lin)\u001b[0m\n\u001b[1;32m    215\u001b[0m                 \u001b[0;32mreturn\u001b[0m \u001b[0;36m2\u001b[0m \u001b[0;34m*\u001b[0m \u001b[0;34m(\u001b[0m\u001b[0mll_alt\u001b[0m \u001b[0;34m-\u001b[0m \u001b[0mll_null\u001b[0m\u001b[0;34m)\u001b[0m\u001b[0;34m\u001b[0m\u001b[0m\n\u001b[1;32m    216\u001b[0m \u001b[0;34m\u001b[0m\u001b[0m\n\u001b[0;32m--> 217\u001b[0;31m         \u001b[0mlr_stats\u001b[0m \u001b[0;34m=\u001b[0m \u001b[0mnp\u001b[0m\u001b[0;34m.\u001b[0m\u001b[0marray\u001b[0m\u001b[0;34m(\u001b[0m\u001b[0;34m[\u001b[0m\u001b[0mlr_stat_lin\u001b[0m\u001b[0;34m(\u001b[0m\u001b[0mterm\u001b[0m\u001b[0;34m)\u001b[0m \u001b[0;32mfor\u001b[0m \u001b[0mterm\u001b[0m \u001b[0;32min\u001b[0m \u001b[0mexcluded\u001b[0m\u001b[0;34m]\u001b[0m\u001b[0;34m)\u001b[0m\u001b[0;34m\u001b[0m\u001b[0m\n\u001b[0m\u001b[1;32m    218\u001b[0m         \u001b[0margmax_lr\u001b[0m \u001b[0;34m=\u001b[0m \u001b[0mlr_stats\u001b[0m\u001b[0;34m.\u001b[0m\u001b[0margmax\u001b[0m\u001b[0;34m(\u001b[0m\u001b[0;34m)\u001b[0m\u001b[0;34m\u001b[0m\u001b[0m\n\u001b[1;32m    219\u001b[0m \u001b[0;34m\u001b[0m\u001b[0m\n",
      "\u001b[0;32m/Users/lesliehuang/anaconda/lib/python3.5/site-packages/causalinference/core/propensity.py\u001b[0m in \u001b[0;36m<listcomp>\u001b[0;34m(.0)\u001b[0m\n\u001b[1;32m    215\u001b[0m                 \u001b[0;32mreturn\u001b[0m \u001b[0;36m2\u001b[0m \u001b[0;34m*\u001b[0m \u001b[0;34m(\u001b[0m\u001b[0mll_alt\u001b[0m \u001b[0;34m-\u001b[0m \u001b[0mll_null\u001b[0m\u001b[0;34m)\u001b[0m\u001b[0;34m\u001b[0m\u001b[0m\n\u001b[1;32m    216\u001b[0m \u001b[0;34m\u001b[0m\u001b[0m\n\u001b[0;32m--> 217\u001b[0;31m         \u001b[0mlr_stats\u001b[0m \u001b[0;34m=\u001b[0m \u001b[0mnp\u001b[0m\u001b[0;34m.\u001b[0m\u001b[0marray\u001b[0m\u001b[0;34m(\u001b[0m\u001b[0;34m[\u001b[0m\u001b[0mlr_stat_lin\u001b[0m\u001b[0;34m(\u001b[0m\u001b[0mterm\u001b[0m\u001b[0;34m)\u001b[0m \u001b[0;32mfor\u001b[0m \u001b[0mterm\u001b[0m \u001b[0;32min\u001b[0m \u001b[0mexcluded\u001b[0m\u001b[0;34m]\u001b[0m\u001b[0;34m)\u001b[0m\u001b[0;34m\u001b[0m\u001b[0m\n\u001b[0m\u001b[1;32m    218\u001b[0m         \u001b[0margmax_lr\u001b[0m \u001b[0;34m=\u001b[0m \u001b[0mlr_stats\u001b[0m\u001b[0;34m.\u001b[0m\u001b[0margmax\u001b[0m\u001b[0;34m(\u001b[0m\u001b[0;34m)\u001b[0m\u001b[0;34m\u001b[0m\u001b[0m\n\u001b[1;32m    219\u001b[0m \u001b[0;34m\u001b[0m\u001b[0m\n",
      "\u001b[0;32m/Users/lesliehuang/anaconda/lib/python3.5/site-packages/causalinference/core/propensity.py\u001b[0m in \u001b[0;36mlr_stat_lin\u001b[0;34m(lin_term)\u001b[0m\n\u001b[1;32m    212\u001b[0m \u001b[0;34m\u001b[0m\u001b[0m\n\u001b[1;32m    213\u001b[0m         \u001b[0;32mdef\u001b[0m \u001b[0mlr_stat_lin\u001b[0m\u001b[0;34m(\u001b[0m\u001b[0mlin_term\u001b[0m\u001b[0;34m)\u001b[0m\u001b[0;34m:\u001b[0m\u001b[0;34m\u001b[0m\u001b[0m\n\u001b[0;32m--> 214\u001b[0;31m                 \u001b[0mll_alt\u001b[0m \u001b[0;34m=\u001b[0m \u001b[0mcalc_loglike\u001b[0m\u001b[0;34m(\u001b[0m\u001b[0mX_c\u001b[0m\u001b[0;34m,\u001b[0m \u001b[0mX_t\u001b[0m\u001b[0;34m,\u001b[0m \u001b[0mlin_B\u001b[0m\u001b[0;34m+\u001b[0m\u001b[0;34m[\u001b[0m\u001b[0mlin_term\u001b[0m\u001b[0;34m]\u001b[0m\u001b[0;34m,\u001b[0m \u001b[0;34m[\u001b[0m\u001b[0;34m]\u001b[0m\u001b[0;34m)\u001b[0m\u001b[0;34m\u001b[0m\u001b[0m\n\u001b[0m\u001b[1;32m    215\u001b[0m                 \u001b[0;32mreturn\u001b[0m \u001b[0;36m2\u001b[0m \u001b[0;34m*\u001b[0m \u001b[0;34m(\u001b[0m\u001b[0mll_alt\u001b[0m \u001b[0;34m-\u001b[0m \u001b[0mll_null\u001b[0m\u001b[0;34m)\u001b[0m\u001b[0;34m\u001b[0m\u001b[0m\n\u001b[1;32m    216\u001b[0m \u001b[0;34m\u001b[0m\u001b[0m\n",
      "\u001b[0;32m/Users/lesliehuang/anaconda/lib/python3.5/site-packages/causalinference/core/propensity.py\u001b[0m in \u001b[0;36mcalc_loglike\u001b[0;34m(X_c, X_t, lin, qua)\u001b[0m\n\u001b[1;32m    191\u001b[0m \u001b[0;32mdef\u001b[0m \u001b[0mcalc_loglike\u001b[0m\u001b[0;34m(\u001b[0m\u001b[0mX_c\u001b[0m\u001b[0;34m,\u001b[0m \u001b[0mX_t\u001b[0m\u001b[0;34m,\u001b[0m \u001b[0mlin\u001b[0m\u001b[0;34m,\u001b[0m \u001b[0mqua\u001b[0m\u001b[0;34m)\u001b[0m\u001b[0;34m:\u001b[0m\u001b[0;34m\u001b[0m\u001b[0m\n\u001b[1;32m    192\u001b[0m \u001b[0;34m\u001b[0m\u001b[0m\n\u001b[0;32m--> 193\u001b[0;31m         \u001b[0mZ_c\u001b[0m \u001b[0;34m=\u001b[0m \u001b[0mform_matrix\u001b[0m\u001b[0;34m(\u001b[0m\u001b[0mX_c\u001b[0m\u001b[0;34m,\u001b[0m \u001b[0mlin\u001b[0m\u001b[0;34m,\u001b[0m \u001b[0mqua\u001b[0m\u001b[0;34m)\u001b[0m\u001b[0;34m\u001b[0m\u001b[0m\n\u001b[0m\u001b[1;32m    194\u001b[0m         \u001b[0mZ_t\u001b[0m \u001b[0;34m=\u001b[0m \u001b[0mform_matrix\u001b[0m\u001b[0;34m(\u001b[0m\u001b[0mX_t\u001b[0m\u001b[0;34m,\u001b[0m \u001b[0mlin\u001b[0m\u001b[0;34m,\u001b[0m \u001b[0mqua\u001b[0m\u001b[0;34m)\u001b[0m\u001b[0;34m\u001b[0m\u001b[0m\n\u001b[1;32m    195\u001b[0m         \u001b[0mbeta\u001b[0m \u001b[0;34m=\u001b[0m \u001b[0mcalc_coef\u001b[0m\u001b[0;34m(\u001b[0m\u001b[0mZ_c\u001b[0m\u001b[0;34m,\u001b[0m \u001b[0mZ_t\u001b[0m\u001b[0;34m)\u001b[0m\u001b[0;34m\u001b[0m\u001b[0m\n",
      "\u001b[0;32m/Users/lesliehuang/anaconda/lib/python3.5/site-packages/causalinference/core/propensity.py\u001b[0m in \u001b[0;36mform_matrix\u001b[0;34m(X, lin, qua)\u001b[0m\n\u001b[1;32m    106\u001b[0m         \u001b[0mcurrent_col\u001b[0m \u001b[0;34m=\u001b[0m \u001b[0;36m1\u001b[0m\u001b[0;34m\u001b[0m\u001b[0m\n\u001b[1;32m    107\u001b[0m         \u001b[0;32mif\u001b[0m \u001b[0mlin\u001b[0m\u001b[0;34m:\u001b[0m\u001b[0;34m\u001b[0m\u001b[0m\n\u001b[0;32m--> 108\u001b[0;31m                 \u001b[0mmat\u001b[0m\u001b[0;34m[\u001b[0m\u001b[0;34m:\u001b[0m\u001b[0;34m,\u001b[0m \u001b[0mcurrent_col\u001b[0m\u001b[0;34m:\u001b[0m\u001b[0mcurrent_col\u001b[0m\u001b[0;34m+\u001b[0m\u001b[0mlen\u001b[0m\u001b[0;34m(\u001b[0m\u001b[0mlin\u001b[0m\u001b[0;34m)\u001b[0m\u001b[0;34m]\u001b[0m \u001b[0;34m=\u001b[0m \u001b[0mX\u001b[0m\u001b[0;34m[\u001b[0m\u001b[0;34m:\u001b[0m\u001b[0;34m,\u001b[0m \u001b[0mlin\u001b[0m\u001b[0;34m]\u001b[0m\u001b[0;34m\u001b[0m\u001b[0m\n\u001b[0m\u001b[1;32m    109\u001b[0m                 \u001b[0mcurrent_col\u001b[0m \u001b[0;34m+=\u001b[0m \u001b[0mlen\u001b[0m\u001b[0;34m(\u001b[0m\u001b[0mlin\u001b[0m\u001b[0;34m)\u001b[0m\u001b[0;34m\u001b[0m\u001b[0m\n\u001b[1;32m    110\u001b[0m         \u001b[0;32mfor\u001b[0m \u001b[0mterm\u001b[0m \u001b[0;32min\u001b[0m \u001b[0mqua\u001b[0m\u001b[0;34m:\u001b[0m  \u001b[0;31m# qua is a list of tuples of column numbers\u001b[0m\u001b[0;34m\u001b[0m\u001b[0m\n",
      "\u001b[0;32m/Users/lesliehuang/anaconda/lib/python3.5/site-packages/pandas/core/frame.py\u001b[0m in \u001b[0;36m__getitem__\u001b[0;34m(self, key)\u001b[0m\n\u001b[1;32m   1995\u001b[0m             \u001b[0;32mreturn\u001b[0m \u001b[0mself\u001b[0m\u001b[0;34m.\u001b[0m\u001b[0m_getitem_multilevel\u001b[0m\u001b[0;34m(\u001b[0m\u001b[0mkey\u001b[0m\u001b[0;34m)\u001b[0m\u001b[0;34m\u001b[0m\u001b[0m\n\u001b[1;32m   1996\u001b[0m         \u001b[0;32melse\u001b[0m\u001b[0;34m:\u001b[0m\u001b[0;34m\u001b[0m\u001b[0m\n\u001b[0;32m-> 1997\u001b[0;31m             \u001b[0;32mreturn\u001b[0m \u001b[0mself\u001b[0m\u001b[0;34m.\u001b[0m\u001b[0m_getitem_column\u001b[0m\u001b[0;34m(\u001b[0m\u001b[0mkey\u001b[0m\u001b[0;34m)\u001b[0m\u001b[0;34m\u001b[0m\u001b[0m\n\u001b[0m\u001b[1;32m   1998\u001b[0m \u001b[0;34m\u001b[0m\u001b[0m\n\u001b[1;32m   1999\u001b[0m     \u001b[0;32mdef\u001b[0m \u001b[0m_getitem_column\u001b[0m\u001b[0;34m(\u001b[0m\u001b[0mself\u001b[0m\u001b[0;34m,\u001b[0m \u001b[0mkey\u001b[0m\u001b[0;34m)\u001b[0m\u001b[0;34m:\u001b[0m\u001b[0;34m\u001b[0m\u001b[0m\n",
      "\u001b[0;32m/Users/lesliehuang/anaconda/lib/python3.5/site-packages/pandas/core/frame.py\u001b[0m in \u001b[0;36m_getitem_column\u001b[0;34m(self, key)\u001b[0m\n\u001b[1;32m   2002\u001b[0m         \u001b[0;31m# get column\u001b[0m\u001b[0;34m\u001b[0m\u001b[0;34m\u001b[0m\u001b[0m\n\u001b[1;32m   2003\u001b[0m         \u001b[0;32mif\u001b[0m \u001b[0mself\u001b[0m\u001b[0;34m.\u001b[0m\u001b[0mcolumns\u001b[0m\u001b[0;34m.\u001b[0m\u001b[0mis_unique\u001b[0m\u001b[0;34m:\u001b[0m\u001b[0;34m\u001b[0m\u001b[0m\n\u001b[0;32m-> 2004\u001b[0;31m             \u001b[0;32mreturn\u001b[0m \u001b[0mself\u001b[0m\u001b[0;34m.\u001b[0m\u001b[0m_get_item_cache\u001b[0m\u001b[0;34m(\u001b[0m\u001b[0mkey\u001b[0m\u001b[0;34m)\u001b[0m\u001b[0;34m\u001b[0m\u001b[0m\n\u001b[0m\u001b[1;32m   2005\u001b[0m \u001b[0;34m\u001b[0m\u001b[0m\n\u001b[1;32m   2006\u001b[0m         \u001b[0;31m# duplicate columns & possible reduce dimensionality\u001b[0m\u001b[0;34m\u001b[0m\u001b[0;34m\u001b[0m\u001b[0m\n",
      "\u001b[0;32m/Users/lesliehuang/anaconda/lib/python3.5/site-packages/pandas/core/generic.py\u001b[0m in \u001b[0;36m_get_item_cache\u001b[0;34m(self, item)\u001b[0m\n\u001b[1;32m   1346\u001b[0m         \u001b[0;34m\"\"\"Return the cached item, item represents a label indexer.\"\"\"\u001b[0m\u001b[0;34m\u001b[0m\u001b[0m\n\u001b[1;32m   1347\u001b[0m         \u001b[0mcache\u001b[0m \u001b[0;34m=\u001b[0m \u001b[0mself\u001b[0m\u001b[0;34m.\u001b[0m\u001b[0m_item_cache\u001b[0m\u001b[0;34m\u001b[0m\u001b[0m\n\u001b[0;32m-> 1348\u001b[0;31m         \u001b[0mres\u001b[0m \u001b[0;34m=\u001b[0m \u001b[0mcache\u001b[0m\u001b[0;34m.\u001b[0m\u001b[0mget\u001b[0m\u001b[0;34m(\u001b[0m\u001b[0mitem\u001b[0m\u001b[0;34m)\u001b[0m\u001b[0;34m\u001b[0m\u001b[0m\n\u001b[0m\u001b[1;32m   1349\u001b[0m         \u001b[0;32mif\u001b[0m \u001b[0mres\u001b[0m \u001b[0;32mis\u001b[0m \u001b[0;32mNone\u001b[0m\u001b[0;34m:\u001b[0m\u001b[0;34m\u001b[0m\u001b[0m\n\u001b[1;32m   1350\u001b[0m             \u001b[0mvalues\u001b[0m \u001b[0;34m=\u001b[0m \u001b[0mself\u001b[0m\u001b[0;34m.\u001b[0m\u001b[0m_data\u001b[0m\u001b[0;34m.\u001b[0m\u001b[0mget\u001b[0m\u001b[0;34m(\u001b[0m\u001b[0mitem\u001b[0m\u001b[0;34m)\u001b[0m\u001b[0;34m\u001b[0m\u001b[0m\n",
      "\u001b[0;31mTypeError\u001b[0m: unhashable type: 'slice'"
     ]
    }
   ],
   "source": [
    "gender_eq_causal.est_propensity_s() # estimate propensity score\n"
   ]
  },
  {
   "cell_type": "code",
   "execution_count": null,
   "metadata": {
    "collapsed": true
   },
   "outputs": [],
   "source": [
    "print(gender_eq_causal.propensity)"
   ]
  },
  {
   "cell_type": "code",
   "execution_count": null,
   "metadata": {
    "collapsed": true
   },
   "outputs": [],
   "source": [
    "gender_eq_causal.trim() # trim anything outside of a 0.1 cutoff\n",
    "print(gender_eq_causal.summary_stats) # look at covariate balance after trimming"
   ]
  },
  {
   "cell_type": "code",
   "execution_count": null,
   "metadata": {
    "collapsed": true
   },
   "outputs": [],
   "source": [
    "gender_eq_causal.est_via_ols()\n",
    "print(gender_eq_causal.estimates)"
   ]
  },
  {
   "cell_type": "code",
   "execution_count": null,
   "metadata": {
    "collapsed": true
   },
   "outputs": [],
   "source": []
  }
 ],
 "metadata": {
  "anaconda-cloud": {},
  "kernelspec": {
   "display_name": "Python [Root]",
   "language": "python",
   "name": "Python [Root]"
  },
  "language_info": {
   "codemirror_mode": {
    "name": "ipython",
    "version": 3
   },
   "file_extension": ".py",
   "mimetype": "text/x-python",
   "name": "python",
   "nbconvert_exporter": "python",
   "pygments_lexer": "ipython3",
   "version": "3.5.2"
  }
 },
 "nbformat": 4,
 "nbformat_minor": 0
}
